{
  "nbformat": 4,
  "nbformat_minor": 0,
  "metadata": {
    "colab": {
      "name": "7_1_ensemble_learning.ipynb",
      "provenance": [],
      "collapsed_sections": [],
      "toc_visible": true,
      "authorship_tag": "ABX9TyO3NLF732z3F2BmO+7Fhbsi",
      "include_colab_link": true
    },
    "kernelspec": {
      "name": "python3",
      "display_name": "Python 3"
    }
  },
  "cells": [
    {
      "cell_type": "markdown",
      "metadata": {
        "id": "view-in-github",
        "colab_type": "text"
      },
      "source": [
        "<a href=\"https://colab.research.google.com/github/Richish/hands_on_ml/blob/master/7_1_ensemble_learning.ipynb\" target=\"_parent\"><img src=\"https://colab.research.google.com/assets/colab-badge.svg\" alt=\"Open In Colab\"/></a>"
      ]
    },
    {
      "cell_type": "markdown",
      "metadata": {
        "id": "BYdEpClsg-gx",
        "colab_type": "text"
      },
      "source": [
        "# Hard voting classifier\n",
        "\n",
        "Suppose you have trained a few classifiers, each one achieving about x% accuracy\n",
        "A very simple way to create an even better classifier is to aggregate the predictions of each classifier and predict the class that gets the most votes. This majority-vote classifier is called a hard voting classifier.\n",
        "\n",
        "even if each classifier is a weak learner (meaning\n",
        "it does only slightly better than random guessing), the ensemble can still be a\n",
        "strong learner (achieving high accuracy), provided there are a sufficient number of\n",
        "weak learners and they are sufficiently diverse.\n",
        "\n"
      ]
    },
    {
      "cell_type": "markdown",
      "metadata": {
        "id": "drM0c9lfhNDU",
        "colab_type": "text"
      },
      "source": [
        "## Analogy from game theory:\n",
        "Suppose you have a slightly biased coin that has a 51% chance of coming up heads,\n",
        "and 49% chance of coming up tails. If you toss it 1,000 times, you will generally get\n",
        "more or less 510 heads and 490 tails, and hence a majority of heads. If you do the\n",
        "math, you will find that the probability of obtaining a majority of heads after 1,000\n",
        "tosses is close to 75%. The more you toss the coin, the higher the probability (e.g.,\n",
        "with 10,000 tosses, the probability climbs over 97%). This is due to the law of large\n",
        "numbers: as you keep tossing the coin, the ratio of heads gets closer and closer to the\n",
        "probability of heads (51%)."
      ]
    },
    {
      "cell_type": "markdown",
      "metadata": {
        "id": "vtM429nThNF9",
        "colab_type": "text"
      },
      "source": [
        "## Example of voting classifier on moons dataset\n",
        "\n",
        "we will use ensemble of svc, random forest and logistic regression"
      ]
    },
    {
      "cell_type": "code",
      "metadata": {
        "id": "CrJ0ctbYh_c6",
        "colab_type": "code",
        "colab": {
          "base_uri": "https://localhost:8080/",
          "height": 238
        },
        "outputId": "9ca79f04-da1a-46ea-e3e6-73984b493414"
      },
      "source": [
        "# data prep\n",
        "from sklearn.datasets import make_moons\n",
        "\n",
        "from sklearn.ensemble import RandomForestClassifier\n",
        "from sklearn.ensemble import VotingClassifier\n",
        "from sklearn.svm import SVC\n",
        "from sklearn.linear_model import LogisticRegression\n",
        "\n",
        "X, y = make_moons(n_samples=10_000, noise=0.4, random_state=42)\n",
        "X.shape, y.shape\n",
        "\n",
        "from sklearn.model_selection import train_test_split\n",
        "X_train, X_test, y_train, y_test = train_test_split(X,y, test_size=0.2, random_state=42)\n",
        "X_train, X_test, y_train, y_test"
      ],
      "execution_count": 1,
      "outputs": [
        {
          "output_type": "execute_result",
          "data": {
            "text/plain": [
              "(array([[-0.56413534,  0.29283681],\n",
              "        [-1.16033479,  0.96512577],\n",
              "        [-0.06598769, -0.15191052],\n",
              "        ...,\n",
              "        [ 0.38876425, -0.78662881],\n",
              "        [ 2.50492832,  0.21133631],\n",
              "        [ 0.35428745,  0.74582457]]), array([[ 0.69945888, -0.8734481 ],\n",
              "        [ 1.7764418 ,  0.13222334],\n",
              "        [-1.14450821,  0.24446319],\n",
              "        ...,\n",
              "        [ 0.66336269,  0.79833307],\n",
              "        [-0.6493245 ,  1.19920859],\n",
              "        [-0.09883144,  0.40961263]]), array([0, 0, 1, ..., 1, 1, 0]), array([1, 1, 0, ..., 0, 0, 0]))"
            ]
          },
          "metadata": {
            "tags": []
          },
          "execution_count": 1
        }
      ]
    },
    {
      "cell_type": "code",
      "metadata": {
        "id": "0M83O9_6gyH-",
        "colab_type": "code",
        "colab": {
          "base_uri": "https://localhost:8080/",
          "height": 68
        },
        "outputId": "4ebdbaf4-758d-474b-f892-6be85a478461"
      },
      "source": [
        "# training each classifier with no hyperparameter tuning\n",
        "lr_clf = LogisticRegression()\n",
        "rf_clf = RandomForestClassifier()\n",
        "svc_clf = SVC()\n",
        "\n",
        "lr_clf.fit(X_train, y_train)\n",
        "rf_clf.fit(X_train, y_train)\n",
        "svc_clf.fit(X_train, y_train)\n",
        "\n",
        "from sklearn.metrics import accuracy_score\n",
        "# seeing the individual performance for each classifier\n",
        "for clf in (lr_clf, rf_clf, svc_clf):\n",
        "    y_pred = clf.predict(X_test)\n",
        "    acc_score = accuracy_score(y_true=y_test, y_pred=y_pred)\n",
        "    print(\"{}: {}\".format(clf.__class__.__name__, acc_score))\n",
        "\n"
      ],
      "execution_count": 2,
      "outputs": [
        {
          "output_type": "stream",
          "text": [
            "LogisticRegression: 0.8415\n",
            "RandomForestClassifier: 0.8545\n",
            "SVC: 0.874\n"
          ],
          "name": "stdout"
        }
      ]
    },
    {
      "cell_type": "code",
      "metadata": {
        "id": "7_HL0o28nWC9",
        "colab_type": "code",
        "colab": {
          "base_uri": "https://localhost:8080/",
          "height": 34
        },
        "outputId": "028d3dff-f96a-4285-8d33-cfa83cb10f19"
      },
      "source": [
        "# checking performance of a voting classifier based on exact same models\n",
        "\n",
        "voting_clf = VotingClassifier(estimators=[('lr', lr_clf), ('rf', rf_clf), ('svc', svc_clf)], voting='hard')\n",
        "voting_clf.fit(X_train, y_train)\n",
        "y_pred = voting_clf.predict(X_test)\n",
        "acc_score = accuracy_score(y_true=y_test, y_pred=y_pred)\n",
        "print(\"voting clf: {}\".format(acc_score)) \n",
        "# in most of the cases will be higher that all of the constituents thogh did not happen in this particular example.\n",
        "# in this particular case though looks like svc is smiply too good for this data pattern\n"
      ],
      "execution_count": 3,
      "outputs": [
        {
          "output_type": "stream",
          "text": [
            "voting clf: 0.87\n"
          ],
          "name": "stdout"
        }
      ]
    },
    {
      "cell_type": "markdown",
      "metadata": {
        "id": "VQGX7DKphNIt",
        "colab_type": "text"
      },
      "source": [
        "## Soft voting classifieer.\n",
        "Instead of counting votes from each classifier as in \"hard voting classifier\", here we ask each classifier what the predict_proba for that class and classify based on which class that has highest probability(as calculated from predict_prob given by individual classifiers). In essence, more weight is given to high confidence votes.\n",
        "\n",
        "Often, soft voting classifiers perform better than hard voting ones."
      ]
    },
    {
      "cell_type": "code",
      "metadata": {
        "id": "O7-A3yqqhO0U",
        "colab_type": "code",
        "colab": {
          "base_uri": "https://localhost:8080/",
          "height": 34
        },
        "outputId": "2277905f-cf57-4caf-8d41-4d452b3e7810"
      },
      "source": [
        "# checking performance of a soft voting classifier\n",
        "svc_clf_with_prob = SVC(probability=True) # turning on the predict_prob method of SVC which is off by default\n",
        "soft_voting_clf = VotingClassifier(estimators=[('lr', lr_clf), ('rf', rf_clf), ('svc', svc_clf_with_prob)], voting='soft')\n",
        "soft_voting_clf.fit(X_train, y_train)\n",
        "y_pred_soft = soft_voting_clf.predict(X_test)\n",
        "acc_score_soft = accuracy_score(y_true=y_test, y_pred=y_pred_soft)\n",
        "print(\"voting clf: {}\".format(acc_score_soft)) "
      ],
      "execution_count": 6,
      "outputs": [
        {
          "output_type": "stream",
          "text": [
            "voting clf: 0.8715\n"
          ],
          "name": "stdout"
        }
      ]
    },
    {
      "cell_type": "markdown",
      "metadata": {
        "id": "vWJiTuflhNLX",
        "colab_type": "text"
      },
      "source": [
        "# Bagging and pasting \n",
        "oh.. these scale so well.\n",
        "\n",
        "These are same as hard voting/soft voting classsifier. But the difference is that instead of having different algorithms for each predictor, here each predictor is based on same algorithm(svc or random forest or some other). That is- the type of classifier for all the predictors is same. What is different is that, for each of the predictors a differnt sample of training data is picked up. That is the training data fed to predictor1 is different from training data fed to predictor2 for training.\n",
        "All these predictors are trained in parallel and after they have been trained we make them do predictions and then do final ensemble of results using the same method as before(hard or soft voting).\n",
        "\n",
        "Bagging is short for bootstrap aggregating.\n",
        "\n",
        "## Difference between bagging and pasting:\n",
        "Bagging - sampling performed with replacement.\n",
        "Pasting- sampling does not involve replacement.\n",
        "Both bagging and pasting allow training instances to be sampled several\n",
        "times across multiple predictors, but only bagging allows training instances to be sampled several times for the same predictor.\n",
        "\n",
        "## How to combine the results after individual predictions:\n",
        "Once all predictors are trained, the ensemble can make a prediction for a new\n",
        "instance by simply aggregating the predictions of all predictors. The aggregation function is typically the statistical mode (i.e., the most frequent prediction, just like a hard voting classifier) for classification, or the average for regression. Each individual predictor has a higher bias than if it were trained on the original training set, but aggregation reduces both bias and variance.4 Generally, the net result is that the ensemble has a similar bias but a lower variance than a single predictor trained on the original training set.\n",
        "\n",
        "## Why is bagging/pasting so scalable:\n",
        "predictors can all be trained in parallel, via different\n",
        "CPU cores or even different servers. Similarly, predictions can be made in parallel.\n",
        "This is one of the reasons why bagging and pasting are such popular methods"
      ]
    },
    {
      "cell_type": "markdown",
      "metadata": {
        "id": "TvW1oN-HTer1",
        "colab_type": "text"
      },
      "source": [
        "## Bagiing using sklearn\n",
        "The following code trains an\n",
        "ensemble of 500 Decision Tree classifiers,5 each trained on 100 training instances randomly\n",
        "sampled from the training set with replacement (this is an example of bagging,\n",
        "but if you want to use pasting instead, just set bootstrap=False). The n_jobs parameter\n",
        "tells Scikit-Learn the number of CPU cores to use for training and predictions\n",
        "(–1 tells Scikit-Learn to use all available cores)\n",
        "\n",
        "The BaggingClassifier automatically performs soft voting\n",
        "instead of hard voting if the base classifier can estimate class probabilities\n",
        "(i.e., if it has a predict_proba() method), which is the case\n",
        "with Decision Trees classifiers."
      ]
    },
    {
      "cell_type": "code",
      "metadata": {
        "id": "SfdR3Py0hO29",
        "colab_type": "code",
        "colab": {
          "base_uri": "https://localhost:8080/",
          "height": 34
        },
        "outputId": "3fb870b5-7e1e-4c48-c80e-b3461658dbee"
      },
      "source": [
        "from sklearn.ensemble import BaggingClassifier\n",
        "from sklearn.tree import DecisionTreeClassifier\n",
        "\n",
        "bag_clf = BaggingClassifier(DecisionTreeClassifier(), n_estimators=500, max_samples=100, bootstrap=True, n_jobs=-1)\n",
        "bag_clf.fit(X_train, y_train)\n",
        "y_pred = bag_clf.predict(X_test)\n",
        "\n",
        "acc_score = accuracy_score(y_true=y_test, y_pred=y_pred)\n",
        "acc_score\n"
      ],
      "execution_count": 10,
      "outputs": [
        {
          "output_type": "execute_result",
          "data": {
            "text/plain": [
              "0.8715"
            ]
          },
          "metadata": {
            "tags": []
          },
          "execution_count": 10
        }
      ]
    },
    {
      "cell_type": "markdown",
      "metadata": {
        "id": "o_k5JBlaVLut",
        "colab_type": "text"
      },
      "source": [
        "## Which one to prefer- Bagging or pasting:\n",
        "Bootstrapping introduces a bit more diversity in the subsets that each predictor is\n",
        "trained on, so bagging ends up with a slightly higher bias than pasting, but this also\n",
        "means that predictors end up being less correlated so the ensemble’s variance is\n",
        "reduced. Overall, bagging often results in better models, which explains why it is generally\n",
        "preferred."
      ]
    },
    {
      "cell_type": "markdown",
      "metadata": {
        "id": "Rmr96MtoWzFU",
        "colab_type": "text"
      },
      "source": [
        "## Out of bag evaluation\n",
        "\n",
        "In case of bagging classifer since samples are picked at random each time with replacement, almost always there are some samples that are never part of the training samples picked for a predictor in any of the attempts(Infact if sampling size is same as training size-which is default for Bagging classifier- by probility theory, 63% of samples are ever picked for training). \n",
        "So there always are some samples that have not beem seen by the predictor during training. We can treat these samples as validation set and evaluate our model on these samples.(Before we predict/evaluate on test set).\n",
        "This process is called out of bag evaluation.\n",
        "(Evaluation on samples that were left out of training bag)\n",
        "\n",
        "In Scikit-Learn, you can set oob_score=True when creating a BaggingClassifier to\n",
        "request an automatic oob evaluation after training.\n",
        "The resulting evaluation score is available through the oob_score_ variable"
      ]
    },
    {
      "cell_type": "code",
      "metadata": {
        "id": "SoPAbJE3hO6H",
        "colab_type": "code",
        "colab": {
          "base_uri": "https://localhost:8080/",
          "height": 34
        },
        "outputId": "f92f2ebf-c159-4c18-91d7-d022dfb9ac86"
      },
      "source": [
        "bag_clf = BaggingClassifier(DecisionTreeClassifier(), n_estimators=500, bootstrap=True, n_jobs=-1, oob_score=True)\n",
        "bag_clf.fit(X_train, y_train)\n",
        "bag_clf.oob_score_ \n",
        "# generally this oob_score is quite a good indicator of what the accuracy on test set will be. Since this is a score on samples that have never been seen by predictor."
      ],
      "execution_count": 11,
      "outputs": [
        {
          "output_type": "execute_result",
          "data": {
            "text/plain": [
              "0.836375"
            ]
          },
          "metadata": {
            "tags": []
          },
          "execution_count": 11
        }
      ]
    },
    {
      "cell_type": "code",
      "metadata": {
        "id": "fxuolXC3hO9A",
        "colab_type": "code",
        "colab": {
          "base_uri": "https://localhost:8080/",
          "height": 34
        },
        "outputId": "e5a14dec-f02d-4005-becf-843f5cbedfd1"
      },
      "source": [
        "y_pred = bag_clf.predict(X_test)\n",
        "accuracy_score(y_test, y_pred)"
      ],
      "execution_count": 12,
      "outputs": [
        {
          "output_type": "execute_result",
          "data": {
            "text/plain": [
              "0.85"
            ]
          },
          "metadata": {
            "tags": []
          },
          "execution_count": 12
        }
      ]
    },
    {
      "cell_type": "markdown",
      "metadata": {
        "id": "3b0RIxLnZRsL",
        "colab_type": "text"
      },
      "source": [
        "The oob decision function for each training instance is also available through the\n",
        "oob_decision_function_ variable. In this case (since the base estimator has a pre\n",
        "dict_proba() method) the decision function returns the class probabilities for each\n",
        "training instance."
      ]
    },
    {
      "cell_type": "code",
      "metadata": {
        "id": "M54V9U_DZO4y",
        "colab_type": "code",
        "colab": {
          "base_uri": "https://localhost:8080/",
          "height": 136
        },
        "outputId": "1e67a14a-2350-4acd-d12f-d7b89ba3aa13"
      },
      "source": [
        "bag_clf.oob_decision_function_"
      ],
      "execution_count": 13,
      "outputs": [
        {
          "output_type": "execute_result",
          "data": {
            "text/plain": [
              "array([[0.93604651, 0.06395349],\n",
              "       [0.99393939, 0.00606061],\n",
              "       [0.32820513, 0.67179487],\n",
              "       ...,\n",
              "       [0.        , 1.        ],\n",
              "       [0.        , 1.        ],\n",
              "       [0.74054054, 0.25945946]])"
            ]
          },
          "metadata": {
            "tags": []
          },
          "execution_count": 13
        }
      ]
    },
    {
      "cell_type": "markdown",
      "metadata": {
        "id": "fZD-hNOwbUfz",
        "colab_type": "text"
      },
      "source": [
        "## Random Patches and Random Subspaces\n",
        "All about feature sampling. Specially useful if number of fetures are large, ex: image classification.\n",
        "\n",
        "In sklearn's BaggingClassifier, Feature sampling is controlled by max_features and bootstrap_features (these work\n",
        "the same way as max_samples and bootstrap but for features instead of samples)\n",
        "\n",
        "### Random Patches: \n",
        "Sampling both training instances and features is called the Random\n",
        "Patches method.\n",
        "\n",
        "### Random Subspaces\n",
        "Keeping all training instances (i.e., bootstrap=False and max_samples=1.0) but sampling features (i.e., bootstrap_features=True and/or max_features smaller than 1.0) is called the Random Subspaces method.\n",
        "\n",
        "### Advantage:\n",
        "Sampling features results in even more predictor diversity, trading a bit more bias for a lower variance."
      ]
    },
    {
      "cell_type": "markdown",
      "metadata": {
        "id": "BUHVXrGvdAo0",
        "colab_type": "text"
      },
      "source": [
        ""
      ]
    },
    {
      "cell_type": "markdown",
      "metadata": {
        "id": "FU0kdfSbdArf",
        "colab_type": "text"
      },
      "source": [
        ""
      ]
    },
    {
      "cell_type": "markdown",
      "metadata": {
        "id": "3La0Hf_OdAuU",
        "colab_type": "text"
      },
      "source": [
        ""
      ]
    },
    {
      "cell_type": "markdown",
      "metadata": {
        "id": "dUIaLf1wdAxO",
        "colab_type": "text"
      },
      "source": [
        ""
      ]
    },
    {
      "cell_type": "code",
      "metadata": {
        "id": "G7qH0VajdBL_",
        "colab_type": "code",
        "colab": {}
      },
      "source": [
        ""
      ],
      "execution_count": null,
      "outputs": []
    },
    {
      "cell_type": "code",
      "metadata": {
        "id": "T_aftMNAdBPD",
        "colab_type": "code",
        "colab": {}
      },
      "source": [
        ""
      ],
      "execution_count": null,
      "outputs": []
    },
    {
      "cell_type": "code",
      "metadata": {
        "id": "BvcS_rWVdBR7",
        "colab_type": "code",
        "colab": {}
      },
      "source": [
        ""
      ],
      "execution_count": null,
      "outputs": []
    },
    {
      "cell_type": "code",
      "metadata": {
        "id": "gN3SBVVFdBUw",
        "colab_type": "code",
        "colab": {}
      },
      "source": [
        ""
      ],
      "execution_count": null,
      "outputs": []
    }
  ]
}