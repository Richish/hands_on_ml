{
  "nbformat": 4,
  "nbformat_minor": 0,
  "metadata": {
    "colab": {
      "name": "7_1_ensemble_learning.ipynb",
      "provenance": [],
      "collapsed_sections": [],
      "authorship_tag": "ABX9TyNUUu+NAMMY9fz5eP4W9s/Y",
      "include_colab_link": true
    },
    "kernelspec": {
      "name": "python3",
      "display_name": "Python 3"
    }
  },
  "cells": [
    {
      "cell_type": "markdown",
      "metadata": {
        "id": "view-in-github",
        "colab_type": "text"
      },
      "source": [
        "<a href=\"https://colab.research.google.com/github/Richish/hands_on_ml/blob/master/7_1_ensemble_learning.ipynb\" target=\"_parent\"><img src=\"https://colab.research.google.com/assets/colab-badge.svg\" alt=\"Open In Colab\"/></a>"
      ]
    },
    {
      "cell_type": "markdown",
      "metadata": {
        "id": "BYdEpClsg-gx",
        "colab_type": "text"
      },
      "source": [
        "# Hard voting classifier\n",
        "\n",
        "Suppose you have trained a few classifiers, each one achieving about x% accuracy\n",
        "A very simple way to create an even better classifier is to aggregate the predictions of each classifier and predict the class that gets the most votes. This majority-vote classifier is called a hard voting classifier.\n",
        "\n",
        "even if each classifier is a weak learner (meaning\n",
        "it does only slightly better than random guessing), the ensemble can still be a\n",
        "strong learner (achieving high accuracy), provided there are a sufficient number of\n",
        "weak learners and they are sufficiently diverse.\n",
        "\n"
      ]
    },
    {
      "cell_type": "markdown",
      "metadata": {
        "id": "drM0c9lfhNDU",
        "colab_type": "text"
      },
      "source": [
        "## Analogy from game theory:\n",
        "Suppose you have a slightly biased coin that has a 51% chance of coming up heads,\n",
        "and 49% chance of coming up tails. If you toss it 1,000 times, you will generally get\n",
        "more or less 510 heads and 490 tails, and hence a majority of heads. If you do the\n",
        "math, you will find that the probability of obtaining a majority of heads after 1,000\n",
        "tosses is close to 75%. The more you toss the coin, the higher the probability (e.g.,\n",
        "with 10,000 tosses, the probability climbs over 97%). This is due to the law of large\n",
        "numbers: as you keep tossing the coin, the ratio of heads gets closer and closer to the\n",
        "probability of heads (51%)."
      ]
    },
    {
      "cell_type": "markdown",
      "metadata": {
        "id": "vtM429nThNF9",
        "colab_type": "text"
      },
      "source": [
        "## Example of voting classifier on moons dataset\n",
        "\n",
        "we will use ensemble of svc, random forest and logistic regression"
      ]
    },
    {
      "cell_type": "code",
      "metadata": {
        "id": "CrJ0ctbYh_c6",
        "colab_type": "code",
        "colab": {
          "base_uri": "https://localhost:8080/",
          "height": 238
        },
        "outputId": "c8fcb59d-6fcf-4fed-928a-feac81eb902d"
      },
      "source": [
        "# data prep\n",
        "from sklearn.datasets import make_moons\n",
        "\n",
        "from sklearn.ensemble import RandomForestClassifier\n",
        "from sklearn.ensemble import VotingClassifier\n",
        "from sklearn.svm import SVC\n",
        "from sklearn.linear_model import LogisticRegression\n",
        "\n",
        "X, y = make_moons(n_samples=10_000, noise=0.4, random_state=42)\n",
        "X.shape, y.shape\n",
        "\n",
        "from sklearn.model_selection import train_test_split\n",
        "X_train, X_test, y_train, y_test = train_test_split(X,y, test_size=0.2, random_state=42)\n",
        "X_train, X_test, y_train, y_test"
      ],
      "execution_count": 30,
      "outputs": [
        {
          "output_type": "execute_result",
          "data": {
            "text/plain": [
              "(array([[-0.56413534,  0.29283681],\n",
              "        [-1.16033479,  0.96512577],\n",
              "        [-0.06598769, -0.15191052],\n",
              "        ...,\n",
              "        [ 0.38876425, -0.78662881],\n",
              "        [ 2.50492832,  0.21133631],\n",
              "        [ 0.35428745,  0.74582457]]), array([[ 0.69945888, -0.8734481 ],\n",
              "        [ 1.7764418 ,  0.13222334],\n",
              "        [-1.14450821,  0.24446319],\n",
              "        ...,\n",
              "        [ 0.66336269,  0.79833307],\n",
              "        [-0.6493245 ,  1.19920859],\n",
              "        [-0.09883144,  0.40961263]]), array([0, 0, 1, ..., 1, 1, 0]), array([1, 1, 0, ..., 0, 0, 0]))"
            ]
          },
          "metadata": {
            "tags": []
          },
          "execution_count": 30
        }
      ]
    },
    {
      "cell_type": "code",
      "metadata": {
        "id": "0M83O9_6gyH-",
        "colab_type": "code",
        "colab": {
          "base_uri": "https://localhost:8080/",
          "height": 68
        },
        "outputId": "145fe64d-6ae9-4bba-d338-4be3bb4fd587"
      },
      "source": [
        "# training each classifier with no hyperparameter tuning\n",
        "lr_clf = LogisticRegression()\n",
        "rf_clf = RandomForestClassifier()\n",
        "svc_clf = SVC()\n",
        "\n",
        "lr_clf.fit(X_train, y_train)\n",
        "rf_clf.fit(X_train, y_train)\n",
        "svc_clf.fit(X_train, y_train)\n",
        "\n",
        "from sklearn.metrics import accuracy_score\n",
        "# seeing the individual performance for each classifier\n",
        "for clf in (lr_clf, rf_clf, svc_clf):\n",
        "    y_pred = clf.predict(X_test)\n",
        "    acc_score = accuracy_score(y_true=y_test, y_pred=y_pred)\n",
        "    print(\"{}: {}\".format(clf.__class__.__name__, acc_score))\n",
        "\n"
      ],
      "execution_count": 31,
      "outputs": [
        {
          "output_type": "stream",
          "text": [
            "LogisticRegression: 0.8415\n",
            "RandomForestClassifier: 0.854\n",
            "SVC: 0.874\n"
          ],
          "name": "stdout"
        }
      ]
    },
    {
      "cell_type": "code",
      "metadata": {
        "id": "7_HL0o28nWC9",
        "colab_type": "code",
        "colab": {
          "base_uri": "https://localhost:8080/",
          "height": 34
        },
        "outputId": "10ee32d7-4b82-466a-8f49-152879614a50"
      },
      "source": [
        "# checking performance of a voting classifier based on exact same models\n",
        "\n",
        "voting_clf = VotingClassifier(estimators=[('lr', lr_clf), ('rf', rf_clf), ('svc', svc_clf)], voting='hard')\n",
        "voting_clf.fit(X_train, y_train)\n",
        "y_pred = voting_clf.predict(X_test)\n",
        "acc_score = accuracy_score(y_true=y_test, y_pred=y_pred)\n",
        "print(\"voting clf: {}\".format(acc_score)) \n",
        "# in most of the cases will be higher that all of the constituents thogh did not happen in this particular example.\n",
        "# in this particular case though looks like svc is smiply too good for this data pattern\n"
      ],
      "execution_count": 32,
      "outputs": [
        {
          "output_type": "stream",
          "text": [
            "voting clf: 0.87\n"
          ],
          "name": "stdout"
        }
      ]
    },
    {
      "cell_type": "markdown",
      "metadata": {
        "id": "VQGX7DKphNIt",
        "colab_type": "text"
      },
      "source": [
        ""
      ]
    },
    {
      "cell_type": "markdown",
      "metadata": {
        "id": "vWJiTuflhNLX",
        "colab_type": "text"
      },
      "source": [
        ""
      ]
    },
    {
      "cell_type": "code",
      "metadata": {
        "id": "O7-A3yqqhO0U",
        "colab_type": "code",
        "colab": {}
      },
      "source": [
        ""
      ],
      "execution_count": 32,
      "outputs": []
    },
    {
      "cell_type": "code",
      "metadata": {
        "id": "SfdR3Py0hO29",
        "colab_type": "code",
        "colab": {}
      },
      "source": [
        ""
      ],
      "execution_count": 32,
      "outputs": []
    },
    {
      "cell_type": "code",
      "metadata": {
        "id": "SoPAbJE3hO6H",
        "colab_type": "code",
        "colab": {}
      },
      "source": [
        ""
      ],
      "execution_count": 32,
      "outputs": []
    },
    {
      "cell_type": "code",
      "metadata": {
        "id": "fxuolXC3hO9A",
        "colab_type": "code",
        "colab": {}
      },
      "source": [
        ""
      ],
      "execution_count": 32,
      "outputs": []
    }
  ]
}