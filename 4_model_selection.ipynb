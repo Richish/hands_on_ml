{
  "nbformat": 4,
  "nbformat_minor": 0,
  "metadata": {
    "colab": {
      "name": "4_model_selection.ipynb",
      "provenance": [],
      "collapsed_sections": [],
      "authorship_tag": "ABX9TyO8SCWDqGCeOmI7QYkuobnQ",
      "include_colab_link": true
    },
    "kernelspec": {
      "name": "python3",
      "display_name": "Python 3"
    }
  },
  "cells": [
    {
      "cell_type": "markdown",
      "metadata": {
        "id": "view-in-github",
        "colab_type": "text"
      },
      "source": [
        "<a href=\"https://colab.research.google.com/github/Richish/hands_on_ml/blob/master/4_model_selection.ipynb\" target=\"_parent\"><img src=\"https://colab.research.google.com/assets/colab-badge.svg\" alt=\"Open In Colab\"/></a>"
      ]
    },
    {
      "cell_type": "markdown",
      "metadata": {
        "id": "nJCDQRU3S8RC",
        "colab_type": "text"
      },
      "source": [
        "# Normal equation"
      ]
    },
    {
      "cell_type": "markdown",
      "metadata": {
        "id": "VVpbdhIXTAIA",
        "colab_type": "text"
      },
      "source": [
        "θ = (XTX)^(-1) ((X)T * y)"
      ]
    },
    {
      "cell_type": "code",
      "metadata": {
        "id": "rVk9l3QXvV_r",
        "colab_type": "code",
        "colab": {
          "base_uri": "https://localhost:8080/",
          "height": 282
        },
        "outputId": "62389126-8da6-47d6-a83d-2d296862badc"
      },
      "source": [
        "# lets try to generate linear looking data to test the above equation\n",
        "\n",
        "import numpy as np\n",
        "X = 2 * np.random.rand(100,1)\n",
        "y = 4 + 3*X + np.random.randn(100,1)\n",
        "\n",
        "import matplotlib.pyplot as plt\n",
        "plt.plot(X,y, 'ob')"
      ],
      "execution_count": 13,
      "outputs": [
        {
          "output_type": "execute_result",
          "data": {
            "text/plain": [
              "[<matplotlib.lines.Line2D at 0x7fa05e6ae710>]"
            ]
          },
          "metadata": {
            "tags": []
          },
          "execution_count": 13
        },
        {
          "output_type": "display_data",
          "data": {
            "image/png": "[encoded data removed]",
            "text/plain": [
              "<Figure size 432x288 with 1 Axes>"
            ]
          },
          "metadata": {
            "tags": [],
            "needs_background": "light"
          }
        }
      ]
    },
    {
      "cell_type": "code",
      "metadata": {
        "id": "dfe6jCO6xfmj",
        "colab_type": "code",
        "colab": {
          "base_uri": "https://localhost:8080/",
          "height": 1000
        },
        "outputId": "a76cf9e4-32e0-49e1-da98-1e31b05b55e1"
      },
      "source": [
        "# adding x0 = 1 to each X(for thete(0)X(0) term)\n",
        "X_b = np.c_[np.ones((100,1)), X]\n",
        "X_b"
      ],
      "execution_count": 14,
      "outputs": [
        {
          "output_type": "execute_result",
          "data": {
            "text/plain": [
              "array([[1.        , 1.2145754 ],\n",
              "       [1.        , 1.98381069],\n",
              "       [1.        , 1.5746426 ],\n",
              "       [1.        , 0.14192306],\n",
              "       [1.        , 1.82458378],\n",
              "       [1.        , 1.06258536],\n",
              "       [1.        , 1.4955354 ],\n",
              "       [1.        , 1.03467063],\n",
              "       [1.        , 0.1964028 ],\n",
              "       [1.        , 1.53584771],\n",
              "       [1.        , 1.6983481 ],\n",
              "       [1.        , 1.95629624],\n",
              "       [1.        , 0.13332394],\n",
              "       [1.        , 1.40665637],\n",
              "       [1.        , 1.16199644],\n",
              "       [1.        , 0.42138925],\n",
              "       [1.        , 0.22787892],\n",
              "       [1.        , 1.93578606],\n",
              "       [1.        , 0.66783727],\n",
              "       [1.        , 1.78381759],\n",
              "       [1.        , 0.46230773],\n",
              "       [1.        , 1.78347946],\n",
              "       [1.        , 1.96341146],\n",
              "       [1.        , 1.9245325 ],\n",
              "       [1.        , 0.82636486],\n",
              "       [1.        , 0.09315061],\n",
              "       [1.        , 1.91515056],\n",
              "       [1.        , 1.32555951],\n",
              "       [1.        , 0.93826566],\n",
              "       [1.        , 0.01912828],\n",
              "       [1.        , 1.62356261],\n",
              "       [1.        , 1.48026766],\n",
              "       [1.        , 1.19774592],\n",
              "       [1.        , 0.94273345],\n",
              "       [1.        , 1.64948234],\n",
              "       [1.        , 1.31913006],\n",
              "       [1.        , 1.44324355],\n",
              "       [1.        , 1.68597531],\n",
              "       [1.        , 0.96294831],\n",
              "       [1.        , 1.82126209],\n",
              "       [1.        , 1.23340865],\n",
              "       [1.        , 0.50057627],\n",
              "       [1.        , 1.97372146],\n",
              "       [1.        , 0.26420275],\n",
              "       [1.        , 1.23251218],\n",
              "       [1.        , 1.4109744 ],\n",
              "       [1.        , 1.75470213],\n",
              "       [1.        , 0.3788757 ],\n",
              "       [1.        , 0.23695358],\n",
              "       [1.        , 1.26040646],\n",
              "       [1.        , 0.6295398 ],\n",
              "       [1.        , 1.56221107],\n",
              "       [1.        , 1.20854471],\n",
              "       [1.        , 1.4819025 ],\n",
              "       [1.        , 0.19015756],\n",
              "       [1.        , 1.62243396],\n",
              "       [1.        , 0.70457587],\n",
              "       [1.        , 0.98263414],\n",
              "       [1.        , 1.51767231],\n",
              "       [1.        , 0.40746954],\n",
              "       [1.        , 1.19026925],\n",
              "       [1.        , 1.15623767],\n",
              "       [1.        , 0.61321876],\n",
              "       [1.        , 0.86380203],\n",
              "       [1.        , 1.54370334],\n",
              "       [1.        , 0.79275624],\n",
              "       [1.        , 1.26322395],\n",
              "       [1.        , 0.81450558],\n",
              "       [1.        , 1.53064098],\n",
              "       [1.        , 1.86498086],\n",
              "       [1.        , 1.8297662 ],\n",
              "       [1.        , 0.59312279],\n",
              "       [1.        , 0.46447181],\n",
              "       [1.        , 0.58222519],\n",
              "       [1.        , 0.89593554],\n",
              "       [1.        , 0.30012777],\n",
              "       [1.        , 1.69497262],\n",
              "       [1.        , 0.12659151],\n",
              "       [1.        , 0.51429003],\n",
              "       [1.        , 1.63752575],\n",
              "       [1.        , 0.99288444],\n",
              "       [1.        , 0.29756794],\n",
              "       [1.        , 0.69207625],\n",
              "       [1.        , 1.66753859],\n",
              "       [1.        , 0.25154729],\n",
              "       [1.        , 0.63717478],\n",
              "       [1.        , 1.16661791],\n",
              "       [1.        , 0.45937576],\n",
              "       [1.        , 1.29856001],\n",
              "       [1.        , 1.67409875],\n",
              "       [1.        , 0.93944102],\n",
              "       [1.        , 0.19000132],\n",
              "       [1.        , 1.6211968 ],\n",
              "       [1.        , 1.26543605],\n",
              "       [1.        , 0.61857667],\n",
              "       [1.        , 0.43341209],\n",
              "       [1.        , 0.97567431],\n",
              "       [1.        , 0.81103506],\n",
              "       [1.        , 1.98287164],\n",
              "       [1.        , 1.74124354]])"
            ]
          },
          "metadata": {
            "tags": []
          },
          "execution_count": 14
        }
      ]
    },
    {
      "cell_type": "code",
      "metadata": {
        "id": "vfa4-hjlyg6G",
        "colab_type": "code",
        "colab": {
          "base_uri": "https://localhost:8080/",
          "height": 51
        },
        "outputId": "4eea2f92-39d6-4e5b-88f0-51e852e9fa7a"
      },
      "source": [
        "# 3 finding optimal theta\n",
        "\n",
        "theta_best = np.linalg.inv(X_b.T.dot(X_b)).dot(X_b.T.dot(y))\n",
        "theta_best"
      ],
      "execution_count": 15,
      "outputs": [
        {
          "output_type": "execute_result",
          "data": {
            "text/plain": [
              "array([[4.01123089],\n",
              "       [3.07954814]])"
            ]
          },
          "metadata": {
            "tags": []
          },
          "execution_count": 15
        }
      ]
    },
    {
      "cell_type": "code",
      "metadata": {
        "id": "bGGVp0eG1PUu",
        "colab_type": "code",
        "colab": {
          "base_uri": "https://localhost:8080/",
          "height": 34
        },
        "outputId": "86f89b65-aa30-4c20-cb85-00c5a71b959e"
      },
      "source": [
        "theta_best.shape"
      ],
      "execution_count": 16,
      "outputs": [
        {
          "output_type": "execute_result",
          "data": {
            "text/plain": [
              "(2, 1)"
            ]
          },
          "metadata": {
            "tags": []
          },
          "execution_count": 16
        }
      ]
    },
    {
      "cell_type": "code",
      "metadata": {
        "id": "70sCc_td0oVi",
        "colab_type": "code",
        "colab": {
          "base_uri": "https://localhost:8080/",
          "height": 51
        },
        "outputId": "62d24547-ebfc-444a-f2fc-0e956e3a90b4"
      },
      "source": [
        "# making predictions using this theta\n",
        "\n",
        "#let new X:\n",
        "X_new = np.array([[0],[2]])\n",
        "X_new_b = np.c_[np.ones((2,1)), X_new]\n",
        "\n",
        "y_predict = X_new_b.dot(theta_best)\n",
        "y_predict"
      ],
      "execution_count": 17,
      "outputs": [
        {
          "output_type": "execute_result",
          "data": {
            "text/plain": [
              "array([[ 4.01123089],\n",
              "       [10.17032718]])"
            ]
          },
          "metadata": {
            "tags": []
          },
          "execution_count": 17
        }
      ]
    },
    {
      "cell_type": "code",
      "metadata": {
        "id": "GzYqO6Yi1pCe",
        "colab_type": "code",
        "colab": {
          "base_uri": "https://localhost:8080/",
          "height": 265
        },
        "outputId": "c44e95ff-c99d-4bc7-c89f-3dfdb8f8713d"
      },
      "source": [
        "# plotting model's predictions\n",
        "\n",
        "plt.plot(X_new, y_predict, \"r-\")\n",
        "plt.plot(X, y, \"b.\")\n",
        "\n",
        "plt.axis([0, 2, 0, 15])\n",
        "plt.show()\n"
      ],
      "execution_count": 18,
      "outputs": [
        {
          "output_type": "display_data",
          "data": {
            "image/png": "[encoded data removed]",
            "text/plain": [
              "<Figure size 432x288 with 1 Axes>"
            ]
          },
          "metadata": {
            "tags": [],
            "needs_background": "light"
          }
        }
      ]
    },
    {
      "cell_type": "markdown",
      "metadata": {
        "id": "8RkdliaR1nS8",
        "colab_type": "text"
      },
      "source": [
        "## Linear regression using sklearn"
      ]
    },
    {
      "cell_type": "code",
      "metadata": {
        "id": "OWWFhWmh5Axh",
        "colab_type": "code",
        "colab": {
          "base_uri": "https://localhost:8080/",
          "height": 935
        },
        "outputId": "a7bdc804-d08e-40c9-d9b3-9a474200605e"
      },
      "source": [
        "from sklearn.linear_model import LinearRegression\n",
        "\n",
        "lin_reg = LinearRegression()\n",
        "lin_reg.fit(X,y)\n",
        "dir(lin_reg)"
      ],
      "execution_count": 19,
      "outputs": [
        {
          "output_type": "execute_result",
          "data": {
            "text/plain": [
              "['__abstractmethods__',\n",
              " '__class__',\n",
              " '__delattr__',\n",
              " '__dict__',\n",
              " '__dir__',\n",
              " '__doc__',\n",
              " '__eq__',\n",
              " '__format__',\n",
              " '__ge__',\n",
              " '__getattribute__',\n",
              " '__getstate__',\n",
              " '__gt__',\n",
              " '__hash__',\n",
              " '__init__',\n",
              " '__init_subclass__',\n",
              " '__le__',\n",
              " '__lt__',\n",
              " '__module__',\n",
              " '__ne__',\n",
              " '__new__',\n",
              " '__reduce__',\n",
              " '__reduce_ex__',\n",
              " '__repr__',\n",
              " '__setattr__',\n",
              " '__setstate__',\n",
              " '__sizeof__',\n",
              " '__str__',\n",
              " '__subclasshook__',\n",
              " '__weakref__',\n",
              " '_abc_cache',\n",
              " '_abc_negative_cache',\n",
              " '_abc_negative_cache_version',\n",
              " '_abc_registry',\n",
              " '_decision_function',\n",
              " '_estimator_type',\n",
              " '_get_param_names',\n",
              " '_get_tags',\n",
              " '_more_tags',\n",
              " '_preprocess_data',\n",
              " '_residues',\n",
              " '_set_intercept',\n",
              " 'coef_',\n",
              " 'copy_X',\n",
              " 'fit',\n",
              " 'fit_intercept',\n",
              " 'get_params',\n",
              " 'intercept_',\n",
              " 'n_jobs',\n",
              " 'normalize',\n",
              " 'predict',\n",
              " 'rank_',\n",
              " 'score',\n",
              " 'set_params',\n",
              " 'singular_']"
            ]
          },
          "metadata": {
            "tags": []
          },
          "execution_count": 19
        }
      ]
    },
    {
      "cell_type": "code",
      "metadata": {
        "id": "Zyi3Xb8C8EZ_",
        "colab_type": "code",
        "colab": {
          "base_uri": "https://localhost:8080/",
          "height": 34
        },
        "outputId": "b195702c-b443-4559-e51b-de5e9a98aae2"
      },
      "source": [
        "lin_reg.intercept_, lin_reg.coef_"
      ],
      "execution_count": 20,
      "outputs": [
        {
          "output_type": "execute_result",
          "data": {
            "text/plain": [
              "(array([4.01123089]), array([[3.07954814]]))"
            ]
          },
          "metadata": {
            "tags": []
          },
          "execution_count": 20
        }
      ]
    },
    {
      "cell_type": "code",
      "metadata": {
        "id": "Fj2eDZ0M8KVm",
        "colab_type": "code",
        "colab": {
          "base_uri": "https://localhost:8080/",
          "height": 51
        },
        "outputId": "36583432-7023-41d0-a7a9-de1fa85f5136"
      },
      "source": [
        "lin_reg.predict(X_new)"
      ],
      "execution_count": 21,
      "outputs": [
        {
          "output_type": "execute_result",
          "data": {
            "text/plain": [
              "array([[ 4.01123089],\n",
              "       [10.17032718]])"
            ]
          },
          "metadata": {
            "tags": []
          },
          "execution_count": 21
        }
      ]
    },
    {
      "cell_type": "markdown",
      "metadata": {
        "id": "uRIllH9P8lxD",
        "colab_type": "text"
      },
      "source": [
        "The LinearRegression class is based on the scipy.linalg.lstsq() function (the\n",
        "name stands for “least squares”), which you could call directly:"
      ]
    },
    {
      "cell_type": "code",
      "metadata": {
        "id": "n5z2NDoq8nY3",
        "colab_type": "code",
        "colab": {
          "base_uri": "https://localhost:8080/",
          "height": 102
        },
        "outputId": "25884e99-1f36-40c5-c4b6-db40e0f793f6"
      },
      "source": [
        "theta_best_svd, residuals, rank, s = np.linalg.lstsq(X_b, y, rcond=1e-6)\n",
        "theta_best_svd, residuals, rank, s"
      ],
      "execution_count": 22,
      "outputs": [
        {
          "output_type": "execute_result",
          "data": {
            "text/plain": [
              "(array([[4.01123089],\n",
              "        [3.07954814]]),\n",
              " array([104.39677114]),\n",
              " 2,\n",
              " array([15.45662619,  3.72481104]))"
            ]
          },
          "metadata": {
            "tags": []
          },
          "execution_count": 22
        }
      ]
    },
    {
      "cell_type": "markdown",
      "metadata": {
        "id": "7xu7kbhnvUmC",
        "colab_type": "text"
      },
      "source": [
        "np.linalg.lstsq calculated by dot product of pseudoinverse(moore-penrose inverse) of X with y.\n",
        "\n",
        "pseudoinverse of any matrix can be calculated directly by using np.linalg.pinv()"
      ]
    },
    {
      "cell_type": "code",
      "metadata": {
        "id": "pyGdzT_V9FUa",
        "colab_type": "code",
        "colab": {
          "base_uri": "https://localhost:8080/",
          "height": 51
        },
        "outputId": "662e4550-0514-42fc-e522-65c99844f117"
      },
      "source": [
        "np.linalg.pinv(X_b).dot(y)"
      ],
      "execution_count": 24,
      "outputs": [
        {
          "output_type": "execute_result",
          "data": {
            "text/plain": [
              "array([[4.01123089],\n",
              "       [3.07954814]])"
            ]
          },
          "metadata": {
            "tags": []
          },
          "execution_count": 24
        }
      ]
    },
    {
      "cell_type": "markdown",
      "metadata": {
        "id": "0FyUi60q-R_8",
        "colab_type": "text"
      },
      "source": [
        "The pseudoinverse itself is computed using a standard matrix factorization technique\n",
        "called Singular Value Decomposition (SVD) that can decompose the training set\n",
        "matrix X into the matrix multiplication of three matrices U Σ VT (see\n",
        "numpy.linalg.svd()). The pseudoinverse is computed as X+ = VΣ+UT. To compute\n",
        "the matrix Σ+, the algorithm takes Σ and sets to zero all values smaller than a tiny\n",
        "threshold value, then it replaces all the non-zero values with their inverse, and finally\n",
        "it transposes the resulting matrix. This approach is more efficient than computing the\n",
        "Normal Equation, plus it handles edge cases nicely: indeed, the Normal Equation may\n",
        "not work if the matrix XTX is not invertible (i.e., singular), such as if m < n or if some\n",
        "features are redundant, but the pseudoinverse is always defined."
      ]
    },
    {
      "cell_type": "markdown",
      "metadata": {
        "id": "J_KzdglF_anW",
        "colab_type": "text"
      },
      "source": [
        "## computational complexity of normal equation\n",
        "\n",
        "The Normal Equation computes the inverse of XT X, which is an (n + 1) × (n + 1)\n",
        "matrix (where n is the number of features). The computational complexity of inverting\n",
        "such a matrix is typically about O(n2.4) to O(n3) (depending on the implementation).\n",
        "In other words, if you double the number of features, you multiply the computation\n",
        "time by roughly 22.4 = 5.3 to 23 = 8.\n",
        "The SVD approach used by Scikit-Learn’s LinearRegression class is about O(n2). If\n",
        "you double the number of features, you multiply the computation time by roughly 4.\n",
        "\n",
        "Both the Normal Equation and the SVD approach get very slow\n",
        "when the number of features grows large (e.g., 100,000). On the\n",
        "positive side, both are linear with regards to the number of instances\n",
        "in the training set (they are O(m)), so they handle large training\n",
        "sets efficiently, provided they can fit in memory.\n",
        "\n",
        "Once the model is trained:\n",
        "predictions are very fast: the computational complexity\n",
        "is linear with regards to both the number of instances you want to make predictions\n",
        "on and the number of features."
      ]
    },
    {
      "cell_type": "code",
      "metadata": {
        "id": "crWc78CF-TgT",
        "colab_type": "code",
        "colab": {}
      },
      "source": [
        ""
      ],
      "execution_count": null,
      "outputs": []
    },
    {
      "cell_type": "markdown",
      "metadata": {
        "id": "FX7bbEDs_4OU",
        "colab_type": "text"
      },
      "source": [
        "Now we look at different ways to train a Linear Regression model, better\n",
        "suited for cases where there are a large number of features, or too many training\n",
        "instances to fit in memory."
      ]
    },
    {
      "cell_type": "markdown",
      "metadata": {
        "id": "PNcZvaCxAA0_",
        "colab_type": "text"
      },
      "source": [
        "# Gradient descent\n",
        "\n",
        "The general idea of Gradient Descent is to\n",
        "tweak parameters iteratively in order to minimize a cost function."
      ]
    },
    {
      "cell_type": "markdown",
      "metadata": {
        "id": "dKF5KSacA0Kk",
        "colab_type": "text"
      },
      "source": [
        "2 main problems of gradient descent:\n",
        "\n",
        "\n",
        "1.   Local minima\n",
        "2.   Being on a Plateau and then thinking that reached minima.\n",
        "\n",
        "MSE for linear regression is however devoid of these problems. Reason:\n",
        "\n",
        "MSE cost function for a Linear Regression model happens to be a\n",
        "convex function, which means that if you pick any two points on the curve, the line\n",
        "segment joining them never crosses the curve. This implies that there are no local\n",
        "minima, just one global minimum. It is also a continuous function with a slope that\n",
        "never changes abruptly.4 These two facts have a great consequence: Gradient Descent\n",
        "is guaranteed to approach arbitrarily close the global minimum (if you wait long\n",
        "enough and if the learning rate is not too high).\n",
        "\n",
        "MSE cost function for a Linear Regression is of the shape of a bowl, though the bowl can be elongated along various axes to different levels.\n",
        "\n",
        "### When using Gradient Descent, you should ensure that all features\n",
        "### have a similar scale (e.g., using Scikit-Learn’s StandardScaler\n",
        "### class), or else it will take much longer to converge.\n"
      ]
    },
    {
      "cell_type": "markdown",
      "metadata": {
        "id": "NlsxVd58CKJf",
        "colab_type": "text"
      },
      "source": [
        "# Batch Gradient descent\n",
        "\n",
        "To implement normal Gradient Descent(not batch), you need to compute the gradient of the cost function\n",
        "with regards to each model parameter θj. In other words, you need to calculate\n",
        "how much the cost function will change if you change θj just a little bit.\n",
        "\n",
        "Whereas in batch gradient descent, we calculate all partial derivatives in in each step of gradient descent. That is in one go it looks over all the partial derivatives and all of training data. So it is very memory intensive.\n",
        "\n",
        "Notice that this formula involves calculations over the full training\n",
        "set X, at each Gradient Descent step! This is why the algorithm is\n",
        "called Batch Gradient Descent: it uses the whole batch of training\n",
        "data at every step (actually, Full Gradient Descent would probably\n",
        "be a better name). As a result it is terribly slow on very large training\n",
        "sets\n",
        "\n",
        "However, Gradient Descent scales well with the number of\n",
        "features; training a Linear Regression model when there are hundreds\n",
        "of thousands of features is much faster using Gradient\n",
        "Descent than using the Normal Equation or SVD decomposition.\n",
        "\n",
        "∇(θ).MSE(θ) = (2/m)(X.T)(X.theta-y)\n",
        "\n",
        "The gradient vector, noted ∇θMSE(θ), contains all the\n",
        "partial derivatives of the cost function (one for each model parameter).\n",
        "\n",
        "θ(next step) = θ − η∇(θ).MSE(θ)\n"
      ]
    },
    {
      "cell_type": "markdown",
      "metadata": {
        "id": "Q7pJXggLFfFv",
        "colab_type": "text"
      },
      "source": [
        "### Implementation of batch gradient descent using numpy"
      ]
    },
    {
      "cell_type": "code",
      "metadata": {
        "id": "RGCdv8xgAAJe",
        "colab_type": "code",
        "colab": {
          "base_uri": "https://localhost:8080/",
          "height": 51
        },
        "outputId": "c9f6254a-1320-4d35-d345-0335e6f755c2"
      },
      "source": [
        "eta = 0.1 # learning rate\n",
        "n_iterations = 1000\n",
        "m = 100 # number of features\n",
        "\n",
        "theta = np.random.randn(2,1) # random initialization of theta\n",
        "\n",
        "for iteration in range(n_iterations):\n",
        "    gradient = (2/m) * X_b.T.dot(X_b.dot(theta)-y)\n",
        "    theta = theta - eta*gradient\n",
        "theta"
      ],
      "execution_count": 26,
      "outputs": [
        {
          "output_type": "execute_result",
          "data": {
            "text/plain": [
              "array([[4.01123089],\n",
              "       [3.07954814]])"
            ]
          },
          "metadata": {
            "tags": []
          },
          "execution_count": 26
        }
      ]
    }
  ]
}