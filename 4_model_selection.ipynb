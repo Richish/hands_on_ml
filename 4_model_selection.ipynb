{
  "nbformat": 4,
  "nbformat_minor": 0,
  "metadata": {
    "colab": {
      "name": "4_model_selection.ipynb",
      "provenance": [],
      "collapsed_sections": [],
      "toc_visible": true,
      "authorship_tag": "ABX9TyMAZ22IXzhqQoDE51H4KTSX",
      "include_colab_link": true
    },
    "kernelspec": {
      "name": "python3",
      "display_name": "Python 3"
    }
  },
  "cells": [
    {
      "cell_type": "markdown",
      "metadata": {
        "id": "view-in-github",
        "colab_type": "text"
      },
      "source": [
        "<a href=\"https://colab.research.google.com/github/Richish/hands_on_ml/blob/master/4_model_selection.ipynb\" target=\"_parent\"><img src=\"https://colab.research.google.com/assets/colab-badge.svg\" alt=\"Open In Colab\"/></a>"
      ]
    },
    {
      "cell_type": "markdown",
      "metadata": {
        "id": "nJCDQRU3S8RC",
        "colab_type": "text"
      },
      "source": [
        "# Normal equation"
      ]
    },
    {
      "cell_type": "markdown",
      "metadata": {
        "id": "VVpbdhIXTAIA",
        "colab_type": "text"
      },
      "source": [
        "θ = (XTX)^(-1) ((X)T * y)"
      ]
    },
    {
      "cell_type": "code",
      "metadata": {
        "id": "rVk9l3QXvV_r",
        "colab_type": "code",
        "colab": {
          "base_uri": "https://localhost:8080/",
          "height": 282
        },
        "outputId": "046b2d03-a2fb-44c4-acae-5af766172e1e"
      },
      "source": [
        "# lets try to generate linear looking data to test the above equation\n",
        "\n",
        "import numpy as np\n",
        "X = 2 * np.random.rand(100,1)\n",
        "y = 4 + 3*X + np.random.randn(100,1)\n",
        "\n",
        "import matplotlib.pyplot as plt\n",
        "plt.plot(X,y, 'ob')"
      ],
      "execution_count": 65,
      "outputs": [
        {
          "output_type": "execute_result",
          "data": {
            "text/plain": [
              "[<matplotlib.lines.Line2D at 0x7fe09b8f3f28>]"
            ]
          },
          "metadata": {
            "tags": []
          },
          "execution_count": 65
        },
        {
          "output_type": "display_data",
          "data": {
            "image/png": "[encoded data removed]",
            "text/plain": [
              "<Figure size 432x288 with 1 Axes>"
            ]
          },
          "metadata": {
            "tags": [],
            "needs_background": "light"
          }
        }
      ]
    },
    {
      "cell_type": "code",
      "metadata": {
        "id": "dfe6jCO6xfmj",
        "colab_type": "code",
        "colab": {
          "base_uri": "https://localhost:8080/",
          "height": 1000
        },
        "outputId": "c549a906-fbdf-49e4-ac4b-fd96bd8abba2"
      },
      "source": [
        "# adding x0 = 1 to each X(for thete(0)X(0) term)\n",
        "X_b = np.c_[np.ones((100,1)), X]\n",
        "X_b"
      ],
      "execution_count": 66,
      "outputs": [
        {
          "output_type": "execute_result",
          "data": {
            "text/plain": [
              "array([[1.00000000e+00, 5.20776591e-01],\n",
              "       [1.00000000e+00, 4.82738566e-01],\n",
              "       [1.00000000e+00, 1.92207004e+00],\n",
              "       [1.00000000e+00, 5.23696807e-01],\n",
              "       [1.00000000e+00, 9.44892514e-01],\n",
              "       [1.00000000e+00, 3.36968638e-02],\n",
              "       [1.00000000e+00, 1.10636272e+00],\n",
              "       [1.00000000e+00, 1.71198281e+00],\n",
              "       [1.00000000e+00, 1.55774686e+00],\n",
              "       [1.00000000e+00, 1.33800554e+00],\n",
              "       [1.00000000e+00, 1.58354383e+00],\n",
              "       [1.00000000e+00, 1.35358067e+00],\n",
              "       [1.00000000e+00, 7.32714550e-01],\n",
              "       [1.00000000e+00, 7.30941434e-01],\n",
              "       [1.00000000e+00, 1.49600554e+00],\n",
              "       [1.00000000e+00, 7.91587552e-01],\n",
              "       [1.00000000e+00, 1.61695990e-01],\n",
              "       [1.00000000e+00, 1.54108245e+00],\n",
              "       [1.00000000e+00, 8.10756812e-01],\n",
              "       [1.00000000e+00, 1.70531381e+00],\n",
              "       [1.00000000e+00, 1.67220144e+00],\n",
              "       [1.00000000e+00, 1.36793236e+00],\n",
              "       [1.00000000e+00, 5.46111104e-01],\n",
              "       [1.00000000e+00, 1.68241471e-02],\n",
              "       [1.00000000e+00, 5.85948715e-01],\n",
              "       [1.00000000e+00, 7.84918824e-03],\n",
              "       [1.00000000e+00, 2.43765769e-01],\n",
              "       [1.00000000e+00, 1.22039675e+00],\n",
              "       [1.00000000e+00, 6.59831100e-01],\n",
              "       [1.00000000e+00, 3.15355714e-01],\n",
              "       [1.00000000e+00, 8.54817338e-01],\n",
              "       [1.00000000e+00, 1.65212091e+00],\n",
              "       [1.00000000e+00, 3.55585646e-01],\n",
              "       [1.00000000e+00, 1.25365047e+00],\n",
              "       [1.00000000e+00, 1.85510167e+00],\n",
              "       [1.00000000e+00, 1.73103168e-03],\n",
              "       [1.00000000e+00, 5.52883514e-01],\n",
              "       [1.00000000e+00, 1.69225165e+00],\n",
              "       [1.00000000e+00, 1.32658121e+00],\n",
              "       [1.00000000e+00, 1.44300318e-01],\n",
              "       [1.00000000e+00, 1.25896390e+00],\n",
              "       [1.00000000e+00, 1.74824060e+00],\n",
              "       [1.00000000e+00, 7.73710818e-01],\n",
              "       [1.00000000e+00, 3.24038541e-01],\n",
              "       [1.00000000e+00, 8.78453776e-01],\n",
              "       [1.00000000e+00, 9.82699619e-01],\n",
              "       [1.00000000e+00, 1.87003857e+00],\n",
              "       [1.00000000e+00, 1.90519920e-01],\n",
              "       [1.00000000e+00, 1.90604946e+00],\n",
              "       [1.00000000e+00, 1.52391175e+00],\n",
              "       [1.00000000e+00, 1.62322672e+00],\n",
              "       [1.00000000e+00, 1.20170567e+00],\n",
              "       [1.00000000e+00, 1.87034319e+00],\n",
              "       [1.00000000e+00, 1.88631764e+00],\n",
              "       [1.00000000e+00, 1.28436520e+00],\n",
              "       [1.00000000e+00, 1.41220689e+00],\n",
              "       [1.00000000e+00, 1.03872510e+00],\n",
              "       [1.00000000e+00, 3.46233964e-01],\n",
              "       [1.00000000e+00, 7.74615342e-01],\n",
              "       [1.00000000e+00, 3.57955262e-01],\n",
              "       [1.00000000e+00, 1.85730883e+00],\n",
              "       [1.00000000e+00, 1.06184405e+00],\n",
              "       [1.00000000e+00, 1.14799211e-01],\n",
              "       [1.00000000e+00, 1.07813784e+00],\n",
              "       [1.00000000e+00, 4.50832135e-02],\n",
              "       [1.00000000e+00, 6.79174290e-01],\n",
              "       [1.00000000e+00, 7.05322204e-01],\n",
              "       [1.00000000e+00, 1.47306912e+00],\n",
              "       [1.00000000e+00, 9.87595934e-01],\n",
              "       [1.00000000e+00, 7.88758994e-01],\n",
              "       [1.00000000e+00, 1.98466647e+00],\n",
              "       [1.00000000e+00, 7.66274669e-01],\n",
              "       [1.00000000e+00, 7.58231496e-01],\n",
              "       [1.00000000e+00, 1.75398222e+00],\n",
              "       [1.00000000e+00, 1.06452215e+00],\n",
              "       [1.00000000e+00, 1.27497479e+00],\n",
              "       [1.00000000e+00, 1.04611726e+00],\n",
              "       [1.00000000e+00, 7.46137051e-01],\n",
              "       [1.00000000e+00, 1.10002097e-01],\n",
              "       [1.00000000e+00, 4.11596196e-01],\n",
              "       [1.00000000e+00, 5.86201838e-01],\n",
              "       [1.00000000e+00, 1.22278362e+00],\n",
              "       [1.00000000e+00, 1.68867947e+00],\n",
              "       [1.00000000e+00, 1.61502346e+00],\n",
              "       [1.00000000e+00, 1.94918677e+00],\n",
              "       [1.00000000e+00, 1.37745013e+00],\n",
              "       [1.00000000e+00, 1.09088107e-01],\n",
              "       [1.00000000e+00, 5.91371942e-01],\n",
              "       [1.00000000e+00, 1.03801044e+00],\n",
              "       [1.00000000e+00, 9.87501300e-01],\n",
              "       [1.00000000e+00, 2.26204154e-01],\n",
              "       [1.00000000e+00, 1.61754514e+00],\n",
              "       [1.00000000e+00, 6.17070503e-01],\n",
              "       [1.00000000e+00, 9.87203026e-03],\n",
              "       [1.00000000e+00, 4.39034587e-01],\n",
              "       [1.00000000e+00, 1.30914604e+00],\n",
              "       [1.00000000e+00, 1.63668597e+00],\n",
              "       [1.00000000e+00, 4.28610638e-02],\n",
              "       [1.00000000e+00, 7.62715030e-02],\n",
              "       [1.00000000e+00, 1.88673889e+00]])"
            ]
          },
          "metadata": {
            "tags": []
          },
          "execution_count": 66
        }
      ]
    },
    {
      "cell_type": "code",
      "metadata": {
        "id": "vfa4-hjlyg6G",
        "colab_type": "code",
        "colab": {
          "base_uri": "https://localhost:8080/",
          "height": 51
        },
        "outputId": "c6b5ffe5-4770-4de7-ff51-72654d2c0207"
      },
      "source": [
        "# 3 finding optimal theta\n",
        "\n",
        "theta_best = np.linalg.inv(X_b.T.dot(X_b)).dot(X_b.T.dot(y))\n",
        "theta_best"
      ],
      "execution_count": 67,
      "outputs": [
        {
          "output_type": "execute_result",
          "data": {
            "text/plain": [
              "array([[4.16215035],\n",
              "       [2.88146043]])"
            ]
          },
          "metadata": {
            "tags": []
          },
          "execution_count": 67
        }
      ]
    },
    {
      "cell_type": "code",
      "metadata": {
        "id": "bGGVp0eG1PUu",
        "colab_type": "code",
        "colab": {
          "base_uri": "https://localhost:8080/",
          "height": 34
        },
        "outputId": "d6640cae-429d-4f08-9231-f09ecf7d7631"
      },
      "source": [
        "theta_best.shape"
      ],
      "execution_count": 68,
      "outputs": [
        {
          "output_type": "execute_result",
          "data": {
            "text/plain": [
              "(2, 1)"
            ]
          },
          "metadata": {
            "tags": []
          },
          "execution_count": 68
        }
      ]
    },
    {
      "cell_type": "code",
      "metadata": {
        "id": "70sCc_td0oVi",
        "colab_type": "code",
        "colab": {
          "base_uri": "https://localhost:8080/",
          "height": 51
        },
        "outputId": "2cca31a3-8ce9-4f24-f92c-05f3d1ccbf65"
      },
      "source": [
        "# making predictions using this theta\n",
        "\n",
        "#let new X:\n",
        "X_new = np.array([[0],[2]])\n",
        "X_new_b = np.c_[np.ones((2,1)), X_new]\n",
        "\n",
        "y_predict = X_new_b.dot(theta_best)\n",
        "y_predict"
      ],
      "execution_count": 69,
      "outputs": [
        {
          "output_type": "execute_result",
          "data": {
            "text/plain": [
              "array([[4.16215035],\n",
              "       [9.92507121]])"
            ]
          },
          "metadata": {
            "tags": []
          },
          "execution_count": 69
        }
      ]
    },
    {
      "cell_type": "code",
      "metadata": {
        "id": "GzYqO6Yi1pCe",
        "colab_type": "code",
        "colab": {
          "base_uri": "https://localhost:8080/",
          "height": 265
        },
        "outputId": "24338df3-978d-4f9b-b11c-a90c8ff32aae"
      },
      "source": [
        "# plotting model's predictions\n",
        "\n",
        "plt.plot(X_new, y_predict, \"r-\")\n",
        "plt.plot(X, y, \"b.\")\n",
        "\n",
        "plt.axis([0, 2, 0, 15])\n",
        "plt.show()\n"
      ],
      "execution_count": 70,
      "outputs": [
        {
          "output_type": "display_data",
          "data": {
            "image/png": "[encoded data removed]",
            "text/plain": [
              "<Figure size 432x288 with 1 Axes>"
            ]
          },
          "metadata": {
            "tags": [],
            "needs_background": "light"
          }
        }
      ]
    },
    {
      "cell_type": "markdown",
      "metadata": {
        "id": "8RkdliaR1nS8",
        "colab_type": "text"
      },
      "source": [
        "## Linear regression using sklearn"
      ]
    },
    {
      "cell_type": "code",
      "metadata": {
        "id": "OWWFhWmh5Axh",
        "colab_type": "code",
        "colab": {
          "base_uri": "https://localhost:8080/",
          "height": 935
        },
        "outputId": "721ec8b3-92c8-4166-8778-2085151cdde2"
      },
      "source": [
        "from sklearn.linear_model import LinearRegression\n",
        "\n",
        "lin_reg = LinearRegression()\n",
        "lin_reg.fit(X,y)\n",
        "dir(lin_reg)"
      ],
      "execution_count": 71,
      "outputs": [
        {
          "output_type": "execute_result",
          "data": {
            "text/plain": [
              "['__abstractmethods__',\n",
              " '__class__',\n",
              " '__delattr__',\n",
              " '__dict__',\n",
              " '__dir__',\n",
              " '__doc__',\n",
              " '__eq__',\n",
              " '__format__',\n",
              " '__ge__',\n",
              " '__getattribute__',\n",
              " '__getstate__',\n",
              " '__gt__',\n",
              " '__hash__',\n",
              " '__init__',\n",
              " '__init_subclass__',\n",
              " '__le__',\n",
              " '__lt__',\n",
              " '__module__',\n",
              " '__ne__',\n",
              " '__new__',\n",
              " '__reduce__',\n",
              " '__reduce_ex__',\n",
              " '__repr__',\n",
              " '__setattr__',\n",
              " '__setstate__',\n",
              " '__sizeof__',\n",
              " '__str__',\n",
              " '__subclasshook__',\n",
              " '__weakref__',\n",
              " '_abc_cache',\n",
              " '_abc_negative_cache',\n",
              " '_abc_negative_cache_version',\n",
              " '_abc_registry',\n",
              " '_decision_function',\n",
              " '_estimator_type',\n",
              " '_get_param_names',\n",
              " '_get_tags',\n",
              " '_more_tags',\n",
              " '_preprocess_data',\n",
              " '_residues',\n",
              " '_set_intercept',\n",
              " 'coef_',\n",
              " 'copy_X',\n",
              " 'fit',\n",
              " 'fit_intercept',\n",
              " 'get_params',\n",
              " 'intercept_',\n",
              " 'n_jobs',\n",
              " 'normalize',\n",
              " 'predict',\n",
              " 'rank_',\n",
              " 'score',\n",
              " 'set_params',\n",
              " 'singular_']"
            ]
          },
          "metadata": {
            "tags": []
          },
          "execution_count": 71
        }
      ]
    },
    {
      "cell_type": "code",
      "metadata": {
        "id": "Zyi3Xb8C8EZ_",
        "colab_type": "code",
        "colab": {
          "base_uri": "https://localhost:8080/",
          "height": 34
        },
        "outputId": "1c3dafc8-de4b-4c4d-b29d-2899c1034acb"
      },
      "source": [
        "lin_reg.intercept_, lin_reg.coef_"
      ],
      "execution_count": 72,
      "outputs": [
        {
          "output_type": "execute_result",
          "data": {
            "text/plain": [
              "(array([4.16215035]), array([[2.88146043]]))"
            ]
          },
          "metadata": {
            "tags": []
          },
          "execution_count": 72
        }
      ]
    },
    {
      "cell_type": "code",
      "metadata": {
        "id": "Fj2eDZ0M8KVm",
        "colab_type": "code",
        "colab": {
          "base_uri": "https://localhost:8080/",
          "height": 51
        },
        "outputId": "e4bd83d8-f548-4c06-ccfe-2db7175c0b8a"
      },
      "source": [
        "lin_reg.predict(X_new)"
      ],
      "execution_count": 73,
      "outputs": [
        {
          "output_type": "execute_result",
          "data": {
            "text/plain": [
              "array([[4.16215035],\n",
              "       [9.92507121]])"
            ]
          },
          "metadata": {
            "tags": []
          },
          "execution_count": 73
        }
      ]
    },
    {
      "cell_type": "markdown",
      "metadata": {
        "id": "uRIllH9P8lxD",
        "colab_type": "text"
      },
      "source": [
        "The LinearRegression class is based on the scipy.linalg.lstsq() function (the\n",
        "name stands for “least squares”), which you could call directly:"
      ]
    },
    {
      "cell_type": "code",
      "metadata": {
        "id": "n5z2NDoq8nY3",
        "colab_type": "code",
        "colab": {
          "base_uri": "https://localhost:8080/",
          "height": 102
        },
        "outputId": "0beccdc2-c60f-42b2-e795-b1b98793bbb8"
      },
      "source": [
        "theta_best_svd, residuals, rank, s = np.linalg.lstsq(X_b, y, rcond=1e-6)\n",
        "theta_best_svd, residuals, rank, s"
      ],
      "execution_count": 74,
      "outputs": [
        {
          "output_type": "execute_result",
          "data": {
            "text/plain": [
              "(array([[4.16215035],\n",
              "        [2.88146043]]),\n",
              " array([112.67904475]),\n",
              " 2,\n",
              " array([14.68637236,  4.04621403]))"
            ]
          },
          "metadata": {
            "tags": []
          },
          "execution_count": 74
        }
      ]
    },
    {
      "cell_type": "markdown",
      "metadata": {
        "id": "7xu7kbhnvUmC",
        "colab_type": "text"
      },
      "source": [
        "np.linalg.lstsq calculated by dot product of pseudoinverse(moore-penrose inverse) of X with y.\n",
        "\n",
        "pseudoinverse of any matrix can be calculated directly by using np.linalg.pinv()"
      ]
    },
    {
      "cell_type": "code",
      "metadata": {
        "id": "pyGdzT_V9FUa",
        "colab_type": "code",
        "colab": {
          "base_uri": "https://localhost:8080/",
          "height": 51
        },
        "outputId": "de8133b9-da32-4323-b868-c8b3412f2524"
      },
      "source": [
        "np.linalg.pinv(X_b).dot(y)"
      ],
      "execution_count": 75,
      "outputs": [
        {
          "output_type": "execute_result",
          "data": {
            "text/plain": [
              "array([[4.16215035],\n",
              "       [2.88146043]])"
            ]
          },
          "metadata": {
            "tags": []
          },
          "execution_count": 75
        }
      ]
    },
    {
      "cell_type": "markdown",
      "metadata": {
        "id": "0FyUi60q-R_8",
        "colab_type": "text"
      },
      "source": [
        "The pseudoinverse itself is computed using a standard matrix factorization technique\n",
        "called Singular Value Decomposition (SVD) that can decompose the training set\n",
        "matrix X into the matrix multiplication of three matrices U Σ VT (see\n",
        "numpy.linalg.svd()). The pseudoinverse is computed as X+ = VΣ+UT. To compute\n",
        "the matrix Σ+, the algorithm takes Σ and sets to zero all values smaller than a tiny\n",
        "threshold value, then it replaces all the non-zero values with their inverse, and finally\n",
        "it transposes the resulting matrix. This approach is more efficient than computing the\n",
        "Normal Equation, plus it handles edge cases nicely: indeed, the Normal Equation may\n",
        "not work if the matrix XTX is not invertible (i.e., singular), such as if m < n or if some\n",
        "features are redundant, but the pseudoinverse is always defined."
      ]
    },
    {
      "cell_type": "markdown",
      "metadata": {
        "id": "J_KzdglF_anW",
        "colab_type": "text"
      },
      "source": [
        "## computational complexity of normal equation\n",
        "\n",
        "The Normal Equation computes the inverse of XT X, which is an (n + 1) × (n + 1)\n",
        "matrix (where n is the number of features). The computational complexity of inverting\n",
        "such a matrix is typically about O(n2.4) to O(n3) (depending on the implementation).\n",
        "In other words, if you double the number of features, you multiply the computation\n",
        "time by roughly 22.4 = 5.3 to 23 = 8.\n",
        "The SVD approach used by Scikit-Learn’s LinearRegression class is about O(n2). If\n",
        "you double the number of features, you multiply the computation time by roughly 4.\n",
        "\n",
        "Both the Normal Equation and the SVD approach get very slow\n",
        "when the number of features grows large (e.g., 100,000). On the\n",
        "positive side, both are linear with regards to the number of instances\n",
        "in the training set (they are O(m)), so they handle large training\n",
        "sets efficiently, provided they can fit in memory.\n",
        "\n",
        "Once the model is trained:\n",
        "predictions are very fast: the computational complexity\n",
        "is linear with regards to both the number of instances you want to make predictions\n",
        "on and the number of features."
      ]
    },
    {
      "cell_type": "code",
      "metadata": {
        "id": "crWc78CF-TgT",
        "colab_type": "code",
        "colab": {}
      },
      "source": [
        ""
      ],
      "execution_count": 75,
      "outputs": []
    },
    {
      "cell_type": "markdown",
      "metadata": {
        "id": "FX7bbEDs_4OU",
        "colab_type": "text"
      },
      "source": [
        "Now we look at different ways to train a Linear Regression model, better\n",
        "suited for cases where there are a large number of features, or too many training\n",
        "instances to fit in memory."
      ]
    },
    {
      "cell_type": "markdown",
      "metadata": {
        "id": "PNcZvaCxAA0_",
        "colab_type": "text"
      },
      "source": [
        "# Gradient descent\n",
        "\n",
        "The general idea of Gradient Descent is to\n",
        "tweak parameters iteratively in order to minimize a cost function."
      ]
    },
    {
      "cell_type": "markdown",
      "metadata": {
        "id": "dKF5KSacA0Kk",
        "colab_type": "text"
      },
      "source": [
        "2 main problems of gradient descent:\n",
        "\n",
        "\n",
        "1.   Local minima\n",
        "2.   Being on a Plateau and then thinking that reached minima.\n",
        "\n",
        "MSE for linear regression is however devoid of these problems. Reason:\n",
        "\n",
        "MSE cost function for a Linear Regression model happens to be a\n",
        "convex function, which means that if you pick any two points on the curve, the line\n",
        "segment joining them never crosses the curve. This implies that there are no local\n",
        "minima, just one global minimum. It is also a continuous function with a slope that\n",
        "never changes abruptly.4 These two facts have a great consequence: Gradient Descent\n",
        "is guaranteed to approach arbitrarily close the global minimum (if you wait long\n",
        "enough and if the learning rate is not too high).\n",
        "\n",
        "MSE cost function for a Linear Regression is of the shape of a bowl, though the bowl can be elongated along various axes to different levels.\n",
        "\n",
        "### When using Gradient Descent, you should ensure that all features\n",
        "### have a similar scale (e.g., using Scikit-Learn’s StandardScaler\n",
        "### class), or else it will take much longer to converge.\n"
      ]
    },
    {
      "cell_type": "markdown",
      "metadata": {
        "id": "NlsxVd58CKJf",
        "colab_type": "text"
      },
      "source": [
        "# Batch Gradient descent\n",
        "\n",
        "To implement normal Gradient Descent(not batch), you need to compute the gradient of the cost function\n",
        "with regards to each model parameter θj. In other words, you need to calculate\n",
        "how much the cost function will change if you change θj just a little bit.\n",
        "\n",
        "Whereas in batch gradient descent, we calculate all partial derivatives in in each step of gradient descent. That is in one go it looks over all the partial derivatives and all of training data. So it is very memory intensive.\n",
        "\n",
        "Notice that this formula involves calculations over the full training\n",
        "set X, at each Gradient Descent step! This is why the algorithm is\n",
        "called Batch Gradient Descent: it uses the whole batch of training\n",
        "data at every step (actually, Full Gradient Descent would probably\n",
        "be a better name). As a result it is terribly slow on very large training\n",
        "sets\n",
        "\n",
        "However, Gradient Descent scales well with the number of\n",
        "features; training a Linear Regression model when there are hundreds\n",
        "of thousands of features is much faster using Gradient\n",
        "Descent than using the Normal Equation or SVD decomposition.\n",
        "\n",
        "∇(θ).MSE(θ) = (2/m)(X.T)(X.theta-y)\n",
        "\n",
        "The gradient vector, noted ∇θMSE(θ), contains all the\n",
        "partial derivatives of the cost function (one for each model parameter).\n",
        "\n",
        "θ(next step) = θ − η∇(θ).MSE(θ)\n"
      ]
    },
    {
      "cell_type": "markdown",
      "metadata": {
        "id": "Q7pJXggLFfFv",
        "colab_type": "text"
      },
      "source": [
        "### Implementation of batch gradient descent using numpy"
      ]
    },
    {
      "cell_type": "code",
      "metadata": {
        "id": "RGCdv8xgAAJe",
        "colab_type": "code",
        "colab": {
          "base_uri": "https://localhost:8080/",
          "height": 51
        },
        "outputId": "50916541-c7d2-4276-f223-a65814700a14"
      },
      "source": [
        "eta = 0.1 # learning rate\n",
        "n_iterations = 1000\n",
        "m = 100 # number of training instances\n",
        "\n",
        "theta = np.random.randn(2,1) # random initialization of theta\n",
        "\n",
        "for iteration in range(n_iterations):\n",
        "    gradient = (2/m) * X_b.T.dot(X_b.dot(theta)-y)\n",
        "    theta = theta - eta*gradient\n",
        "theta"
      ],
      "execution_count": 76,
      "outputs": [
        {
          "output_type": "execute_result",
          "data": {
            "text/plain": [
              "array([[4.16215035],\n",
              "       [2.88146043]])"
            ]
          },
          "metadata": {
            "tags": []
          },
          "execution_count": 76
        }
      ]
    },
    {
      "cell_type": "markdown",
      "metadata": {
        "id": "n7dmsP1DA1dQ",
        "colab_type": "text"
      },
      "source": [
        "# Stochastic gradient descent\n",
        "\n",
        "Looks ata only one training sample at each step, hence loss may bay be going up and down.\n",
        "\n",
        "makes the algorithm much faster\n",
        "since it has very little data to manipulate at every iteration. It also makes it possible to\n",
        "train on huge training sets, since only one instance needs to be in memory at each\n",
        "iteration\n",
        "\n",
        "On the other hand, due to its stochastic (i.e., random) nature, this algorithm is much\n",
        "less regular than Batch Gradient Descent: instead of gently decreasing until it reaches\n",
        "the minimum, the cost function will bounce up and down, decreasing only on average.\n",
        "Over time it will end up very close to the minimum, but once it gets there it will\n",
        "continue to bounce around, never settling down.\n",
        "\n",
        "When the cost function is very irregular (as in Figure 4-6), this can actually help the\n",
        "algorithm jump out of local minima, so Stochastic Gradient Descent has a better\n",
        "chance of finding the global minimum than Batch Gradient Descent does.\n",
        "Therefore randomness is good to escape from local optima, but bad because it means\n",
        "that the algorithm can never settle at the minimum. One solution to this dilemma is\n",
        "to gradually reduce the learning rate.\n",
        "\n",
        "The function that determines the learning rate at each\n",
        "iteration is called the learning schedule."
      ]
    },
    {
      "cell_type": "code",
      "metadata": {
        "id": "FFqeaKn4BebS",
        "colab_type": "code",
        "colab": {
          "base_uri": "https://localhost:8080/",
          "height": 901
        },
        "outputId": "7b3a9a4a-34d2-4250-b83e-b3ca63d42f3e"
      },
      "source": [
        "# Stochastic Gradient Descent using a simple learning schedule:\n",
        "\n",
        "n_epochs = 50\n",
        "t0,t1=5,50\n",
        "\n",
        "def learning_schedule(t):\n",
        "    return t0/(t+t1)\n",
        "\n",
        "theta = np.random.randn(2,1)\n",
        "\n",
        "for epoch in range(n_epochs):\n",
        "    print(epoch)\n",
        "    for i in range(m): # m is number of samples\n",
        "        if i%10==0:\n",
        "            #print(i)\n",
        "            pass\n",
        "        random_index = np.random.randint(m)\n",
        "        xi = X_b[random_index: random_index+1] #redundant\n",
        "        yi = y[random_index: random_index+1]\n",
        "        #print(xi.shape, yi.shape, theta.shape)\n",
        "        gradients = 2 * xi.T.dot(xi.dot(theta) - yi)\n",
        "        eta = learning_schedule(epoch * m + i)\n",
        "        theta = theta - eta * gradients\n",
        "theta"
      ],
      "execution_count": 77,
      "outputs": [
        {
          "output_type": "stream",
          "text": [
            "0\n",
            "1\n",
            "2\n",
            "3\n",
            "4\n",
            "5\n",
            "6\n",
            "7\n",
            "8\n",
            "9\n",
            "10\n",
            "11\n",
            "12\n",
            "13\n",
            "14\n",
            "15\n",
            "16\n",
            "17\n",
            "18\n",
            "19\n",
            "20\n",
            "21\n",
            "22\n",
            "23\n",
            "24\n",
            "25\n",
            "26\n",
            "27\n",
            "28\n",
            "29\n",
            "30\n",
            "31\n",
            "32\n",
            "33\n",
            "34\n",
            "35\n",
            "36\n",
            "37\n",
            "38\n",
            "39\n",
            "40\n",
            "41\n",
            "42\n",
            "43\n",
            "44\n",
            "45\n",
            "46\n",
            "47\n",
            "48\n",
            "49\n"
          ],
          "name": "stdout"
        },
        {
          "output_type": "execute_result",
          "data": {
            "text/plain": [
              "array([[4.25571343],\n",
              "       [2.86058801]])"
            ]
          },
          "metadata": {
            "tags": []
          },
          "execution_count": 77
        }
      ]
    },
    {
      "cell_type": "markdown",
      "metadata": {
        "id": "gqOvtLslBdZN",
        "colab_type": "text"
      },
      "source": [
        "To perform Linear Regression using SGD with Scikit-Learn, you can use the SGDRe\n",
        "gressor class, which defaults to optimizing the squared error cost function. The following\n",
        "code runs for maximum 1000 epochs (max_iter=1000) or until the loss drops\n",
        "by less than 1e-3 during one epoch (tol=1e-3), starting with a learning rate of 0.1\n",
        "(eta0=0.1), using the default learning schedule (different from the preceding one),\n",
        "and it does not use any regularization (penalty=None; more details on this shortly):\n",
        "from sklearn.linear_model import SGDRegressor\n",
        "sgd_reg = SGDRegressor(max_iter=1000, tol=1e-3, penalty=None, eta0=0.1)\n",
        "sgd_reg.fit(X, y.ravel())"
      ]
    },
    {
      "cell_type": "code",
      "metadata": {
        "id": "7XdORYGwSN6g",
        "colab_type": "code",
        "colab": {
          "base_uri": "https://localhost:8080/",
          "height": 34
        },
        "outputId": "606e2270-ca20-4468-c545-3bdcdfddbbaa"
      },
      "source": [
        "from sklearn.linear_model import SGDRegressor\n",
        "sgd_reg = SGDRegressor(max_iter=1000, tol=1e-3, penalty=None, eta0=0.1)\n",
        "sgd_reg.fit(X, y.ravel()) #ravel returns a flattened array\n",
        "sgd_reg.intercept_, sgd_reg.coef_"
      ],
      "execution_count": 78,
      "outputs": [
        {
          "output_type": "execute_result",
          "data": {
            "text/plain": [
              "(array([4.21401164]), array([2.93969706]))"
            ]
          },
          "metadata": {
            "tags": []
          },
          "execution_count": 78
        }
      ]
    },
    {
      "cell_type": "code",
      "metadata": {
        "id": "tIKdcSB6VJPH",
        "colab_type": "code",
        "colab": {}
      },
      "source": [
        ""
      ],
      "execution_count": 78,
      "outputs": []
    },
    {
      "cell_type": "markdown",
      "metadata": {
        "id": "MonvWDXkXKG2",
        "colab_type": "text"
      },
      "source": [
        "# Polynomial Regression\n",
        "\n",
        "can actually use a linear model to fit nonlinear data. A simple way to do this is to\n",
        "add powers of each feature as new features, then train a linear model on this extended\n",
        "set of features. This technique is called Polynomial Regression."
      ]
    },
    {
      "cell_type": "code",
      "metadata": {
        "id": "g45PZXdsXTFz",
        "colab_type": "code",
        "colab": {}
      },
      "source": [
        "# ex:\n",
        "m=100\n",
        "X=6*np.random.rand(m,1)-3\n",
        "y=0.5*(X**2) + (X) + (2 + np.random.randn(m, 1))"
      ],
      "execution_count": 79,
      "outputs": []
    },
    {
      "cell_type": "code",
      "metadata": {
        "id": "qazX5U05X9yn",
        "colab_type": "code",
        "colab": {
          "base_uri": "https://localhost:8080/",
          "height": 282
        },
        "outputId": "369e2cdc-1c4f-488d-ba84-b222248d62e1"
      },
      "source": [
        "plt.plot(X,y, \"bo\")"
      ],
      "execution_count": 80,
      "outputs": [
        {
          "output_type": "execute_result",
          "data": {
            "text/plain": [
              "[<matplotlib.lines.Line2D at 0x7fe09ba8d780>]"
            ]
          },
          "metadata": {
            "tags": []
          },
          "execution_count": 80
        },
        {
          "output_type": "display_data",
          "data": {
            "image/png": "[encoded data removed]",
            "text/plain": [
              "<Figure size 432x288 with 1 Axes>"
            ]
          },
          "metadata": {
            "tags": [],
            "needs_background": "light"
          }
        }
      ]
    },
    {
      "cell_type": "code",
      "metadata": {
        "id": "RcxvyLIZYSCj",
        "colab_type": "code",
        "colab": {
          "base_uri": "https://localhost:8080/",
          "height": 34
        },
        "outputId": "77cec5fb-6e44-4364-ba81-75e5850d50c8"
      },
      "source": [
        "# our data has one feature, but now we can introduce 1 more feature that represents the square of X\n",
        "# Use sklearn's poly feature for this.\n",
        "# final linear model will use these 2 features(1: original feature and 2: poly(square) feature derived from first feature)\n",
        "\n",
        "from sklearn.preprocessing import PolynomialFeatures\n",
        "poly_feature = PolynomialFeatures(degree=2, include_bias=False)\n",
        "X_poly = poly_feature.fit_transform(X)\n",
        "X[0], X_poly[0]\n",
        "\n"
      ],
      "execution_count": 81,
      "outputs": [
        {
          "output_type": "execute_result",
          "data": {
            "text/plain": [
              "(array([-2.91633918]), array([-2.91633918,  8.50503419]))"
            ]
          },
          "metadata": {
            "tags": []
          },
          "execution_count": 81
        }
      ]
    },
    {
      "cell_type": "markdown",
      "metadata": {
        "id": "HT98RoFLZ49d",
        "colab_type": "text"
      },
      "source": [
        "X_poly now contains the original feature of X plus the square of this feature. Now you\n",
        "can fit a LinearRegression model to this extended training data"
      ]
    },
    {
      "cell_type": "code",
      "metadata": {
        "id": "mOIpOXjqZ3-Y",
        "colab_type": "code",
        "colab": {
          "base_uri": "https://localhost:8080/",
          "height": 34
        },
        "outputId": "0384fd65-7ce2-41a7-979d-de27df73bd99"
      },
      "source": [
        "lin_reg = LinearRegression()\n",
        "lin_reg.fit(X_poly, y)\n",
        "lin_reg.intercept_, lin_reg.coef_"
      ],
      "execution_count": 82,
      "outputs": [
        {
          "output_type": "execute_result",
          "data": {
            "text/plain": [
              "(array([1.84667845]), array([[1.00527598, 0.49610852]]))"
            ]
          },
          "metadata": {
            "tags": []
          },
          "execution_count": 82
        }
      ]
    },
    {
      "cell_type": "markdown",
      "metadata": {
        "id": "LXT20TyNaiIM",
        "colab_type": "text"
      },
      "source": [
        "Note that when there are multiple features, Polynomial Regression is capable of finding\n",
        "relationships between features (which is something a plain Linear Regression\n",
        "model cannot do). This is made possible by the fact that PolynomialFeatures also\n",
        "adds all combinations of features up to the given degree. For example, if there were\n",
        "two features a and b, PolynomialFeatures with degree=3 would not only add the\n",
        "features a2, a3, b2, and b3, but also the combinations ab, a2b, and ab2.\n",
        "\n",
        "PolynomialFeatures(degree=d) transforms an array containing n\n",
        "features into an array containing (n + d)!/(\n",
        "d! n!) features, where n! is the\n",
        "factorial of n, equal to 1 × 2 × 3 × ⋯ × n. Beware of the combinatorial\n",
        "explosion of the number of features!"
      ]
    },
    {
      "cell_type": "code",
      "metadata": {
        "id": "tDSFjqJSarBv",
        "colab_type": "code",
        "colab": {
          "base_uri": "https://localhost:8080/",
          "height": 34
        },
        "outputId": "d6969313-d2f5-4c62-b811-c534037f4de9"
      },
      "source": [
        "y_predict = lin_reg.predict(X_poly)\n",
        "y_predict.shape"
      ],
      "execution_count": 83,
      "outputs": [
        {
          "output_type": "execute_result",
          "data": {
            "text/plain": [
              "(100, 1)"
            ]
          },
          "metadata": {
            "tags": []
          },
          "execution_count": 83
        }
      ]
    },
    {
      "cell_type": "code",
      "metadata": {
        "id": "J2NGOEhBhro-",
        "colab_type": "code",
        "colab": {
          "base_uri": "https://localhost:8080/",
          "height": 265
        },
        "outputId": "38b76a4f-8b44-4b5a-86fc-43086ee19d83"
      },
      "source": [
        "plt.plot(X, y, 'bo')\n",
        "plt.plot(X, y_predict, 'ro')\n",
        "plt.show()"
      ],
      "execution_count": 84,
      "outputs": [
        {
          "output_type": "display_data",
          "data": {
            "image/png": "[encoded data removed]",
            "text/plain": [
              "<Figure size 432x288 with 1 Axes>"
            ]
          },
          "metadata": {
            "tags": [],
            "needs_background": "light"
          }
        }
      ]
    },
    {
      "cell_type": "code",
      "metadata": {
        "id": "8nELfr_Hinxz",
        "colab_type": "code",
        "colab": {
          "base_uri": "https://localhost:8080/",
          "height": 265
        },
        "outputId": "ce6ba0b4-dabf-4d49-fb0a-e742b5f41b26"
      },
      "source": [
        "# trying a 30 degree(high degree) polynomial causes overfitting\n",
        "\n",
        "poly_feature_h = PolynomialFeatures(degree=30, include_bias=False)\n",
        "X_poly_h = poly_feature_h.fit_transform(X)\n",
        "\n",
        "lin_reg_h = LinearRegression()\n",
        "lin_reg_h.fit(X_poly_h, y)\n",
        "lin_reg_h.intercept_, lin_reg_h.coef_\n",
        "\n",
        "y_predict_h = lin_reg_h.predict(X_poly_h)\n",
        "\n",
        "plt.plot(X, y, 'bo')\n",
        "plt.plot(X, y_predict, 'ro')\n",
        "plt.plot(X, y_predict_h, 'go')\n",
        "plt.show()"
      ],
      "execution_count": 96,
      "outputs": [
        {
          "output_type": "display_data",
          "data": {
            "image/png": "[encoded data removed]",
            "text/plain": [
              "<Figure size 432x288 with 1 Axes>"
            ]
          },
          "metadata": {
            "tags": [],
            "needs_background": "light"
          }
        }
      ]
    },
    {
      "cell_type": "markdown",
      "metadata": {
        "id": "vpTe832XbLIN",
        "colab_type": "text"
      },
      "source": [
        "# Learning Curves"
      ]
    },
    {
      "cell_type": "markdown",
      "metadata": {
        "id": "hyHKex8Rndgi",
        "colab_type": "text"
      },
      "source": [
        "how can you decide how complex your model should be? How can you tell\n",
        "that your model is overfitting or underfitting the data?"
      ]
    },
    {
      "cell_type": "markdown",
      "metadata": {
        "id": "OucWzKQPnpYu",
        "colab_type": "text"
      },
      "source": [
        "1. Use cross-validation to get an estimate of a model’s generalization\n",
        "performance. If a model performs well on the training data but generalizes poorly\n",
        "according to the cross-validation metrics, then your model is overfitting. If it performs\n",
        "poorly on both, then it is underfitting. This is one way to tell when a model is\n",
        "too simple or too complex.\n",
        "\n",
        "2. Use learning curves: these are plots of the model’s performance\n",
        "on the training set and the validation set as a function of the training set size\n",
        "(or the training iteration)."
      ]
    },
    {
      "cell_type": "markdown",
      "metadata": {
        "id": "unC7y6KGn-MO",
        "colab_type": "text"
      },
      "source": [
        "To generate the plots, simply train the model several times\n",
        "on different sized subsets of the training set. The following code defines a function\n",
        "that plots the learning curves of a model given some training data:"
      ]
    },
    {
      "cell_type": "code",
      "metadata": {
        "id": "kqOqE7fpbN4z",
        "colab_type": "code",
        "colab": {
          "base_uri": "https://localhost:8080/",
          "height": 282
        },
        "outputId": "7c458807-6c8c-4a28-b119-a4fe3bc9f26a"
      },
      "source": [
        "from sklearn.metrics import mean_squared_error\n",
        "from sklearn.model_selection import train_test_split\n",
        "\n",
        "def plot_learning_curves(model, X, y):\n",
        "    X_train, X_val, y_train, y_val = train_test_split(X, y, test_size=0.2)\n",
        "    train_errors, val_errors = [], [] \n",
        "    for m in range(1, len(X_train)):\n",
        "        model.fit(X_train[:m], y_train[:m])\n",
        "        y_train_predict = model.predict(X_train[:m])\n",
        "        y_val_predict = model.predict(X_val)\n",
        "        train_errors.append(mean_squared_error(y_train[:m], y_train_predict))\n",
        "        val_errors.append(mean_squared_error(y_val, y_val_predict))\n",
        "    plt.plot(np.sqrt(train_errors), \"r-+\", linewidth=1, label=\"train\")\n",
        "    plt.plot(np.sqrt(val_errors), \"b\", linewidth=2, label=\"val\")\n",
        "    plt.legend()\n",
        "    plt.show()\n",
        "    print(\"Training and val errors on last iteration\",train_errors[-1], val_errors[-1])\n",
        "\n",
        "lin_reg = LinearRegression()\n",
        "plot_learning_curves(lin_reg, X, y)\n",
        "    "
      ],
      "execution_count": 107,
      "outputs": [
        {
          "output_type": "display_data",
          "data": {
            "image/png": "[encoded data removed]",
            "text/plain": [
              "<Figure size 432x288 with 1 Axes>"
            ]
          },
          "metadata": {
            "tags": [],
            "needs_background": "light"
          }
        },
        {
          "output_type": "stream",
          "text": [
            "Training and val errors on last iteration 2.801731445233024 2.6430634656530265\n"
          ],
          "name": "stdout"
        }
      ]
    },
    {
      "cell_type": "markdown",
      "metadata": {
        "id": "pmLxffD9q3-w",
        "colab_type": "text"
      },
      "source": [
        "These learning curves above are typical of an underfitting model. Both curves have reached\n",
        "a plateau; they are close and fairly high.\n",
        "\n",
        "If your model is underfitting the training data, adding more training\n",
        "examples will not help. You need to use a more complex model\n",
        "or come up with better features."
      ]
    },
    {
      "cell_type": "code",
      "metadata": {
        "id": "_2TJPqYRrRMN",
        "colab_type": "code",
        "colab": {
          "base_uri": "https://localhost:8080/",
          "height": 282
        },
        "outputId": "ac68f280-d234-4bca-bc8a-e88d7aad89d4"
      },
      "source": [
        "# now lets see lerning curve for a 10 degree polynomial\n",
        "from sklearn.pipeline import Pipeline\n",
        "polynomial_regression = Pipeline([\n",
        "    (\"poly_features\", PolynomialFeatures(degree=10, include_bias=False)),\n",
        "    (\"lin_reg\", LinearRegression()),\n",
        "])\n",
        "plt.yscale(\"log\")\n",
        "plot_learning_curves(polynomial_regression, X, y)"
      ],
      "execution_count": 108,
      "outputs": [
        {
          "output_type": "display_data",
          "data": {
            "image/png": "[encoded data removed]",
            "text/plain": [
              "<Figure size 432x288 with 1 Axes>"
            ]
          },
          "metadata": {
            "tags": [],
            "needs_background": "light"
          }
        },
        {
          "output_type": "stream",
          "text": [
            "Training and val errors on last iteration 0.8098584910197252 1.0611929697141733\n"
          ],
          "name": "stdout"
        }
      ]
    },
    {
      "cell_type": "markdown",
      "metadata": {
        "id": "5ouYuF1JshLP",
        "colab_type": "text"
      },
      "source": [
        "These learning curves above look a bit like the previous ones, but there are two very important\n",
        "differences:\n",
        "1. The error on the training data is much lower than with the Linear Regression\n",
        "model.\n",
        "2. There is a gap between the curves. This means that the model performs significantly\n",
        "better on the training data than on the validation data, which is the hallmark\n",
        "of an overfitting model. However, if you used a much larger training set,\n",
        "the two curves would continue to get closer."
      ]
    }
  ]
}