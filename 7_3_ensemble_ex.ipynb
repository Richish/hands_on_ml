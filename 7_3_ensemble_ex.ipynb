{
  "nbformat": 4,
  "nbformat_minor": 0,
  "metadata": {
    "colab": {
      "name": "7_3_ensemble_ex.ipynb",
      "provenance": [],
      "collapsed_sections": [],
      "authorship_tag": "ABX9TyO7XshNIqh/gpz3axxexQM8",
      "include_colab_link": true
    },
    "kernelspec": {
      "name": "python3",
      "display_name": "Python 3"
    }
  },
  "cells": [
    {
      "cell_type": "markdown",
      "metadata": {
        "id": "view-in-github",
        "colab_type": "text"
      },
      "source": [
        "<a href=\"https://colab.research.google.com/github/Richish/hands_on_ml/blob/master/7_3_ensemble_ex.ipynb\" target=\"_parent\"><img src=\"https://colab.research.google.com/assets/colab-badge.svg\" alt=\"Open In Colab\"/></a>"
      ]
    },
    {
      "cell_type": "markdown",
      "metadata": {
        "id": "PvSvDDQRtcr9",
        "colab_type": "text"
      },
      "source": [
        "Load the MNIST data, and split it into a training set, a\n",
        "validation set, and a test set (e.g., use 50,000 instances for training, 10,000 for validation,and 10,000 for testing). Then train various classifiers, such as a Random Forest classifier, an Extra-Trees classifier, and an SVM. Next, try to combine them into an ensemble that outperforms them all on the validation set, using a soft or hard voting classifier. Once you have found one, try it on the test set. How much better does it perform compared to the individual classifiers?"
      ]
    },
    {
      "cell_type": "code",
      "metadata": {
        "id": "HiiNaKiBtPig",
        "colab_type": "code",
        "colab": {
          "base_uri": "https://localhost:8080/",
          "height": 34
        },
        "outputId": "4794eb87-39e1-4e3a-8d61-193f03f7c668"
      },
      "source": [
        "from sklearn.datasets import fetch_openml\n",
        "mnist = fetch_openml('mnist_784', version=1)\n",
        "mnist.keys()"
      ],
      "execution_count": 2,
      "outputs": [
        {
          "output_type": "execute_result",
          "data": {
            "text/plain": [
              "dict_keys(['data', 'target', 'frame', 'feature_names', 'target_names', 'DESCR', 'details', 'categories', 'url'])"
            ]
          },
          "metadata": {
            "tags": []
          },
          "execution_count": 2
        }
      ]
    },
    {
      "cell_type": "code",
      "metadata": {
        "id": "HCfv7-LM8B5C",
        "colab_type": "code",
        "colab": {
          "base_uri": "https://localhost:8080/",
          "height": 34
        },
        "outputId": "1e722b14-0998-46ab-a9c6-d6f1d087ed82"
      },
      "source": [
        "mnist.data.shape, mnist.target.shape, mnist.target_names #,mnist.feature_names, "
      ],
      "execution_count": 3,
      "outputs": [
        {
          "output_type": "execute_result",
          "data": {
            "text/plain": [
              "((70000, 784), (70000,), ['class'])"
            ]
          },
          "metadata": {
            "tags": []
          },
          "execution_count": 3
        }
      ]
    },
    {
      "cell_type": "code",
      "metadata": {
        "id": "3069rqlA8CNB",
        "colab_type": "code",
        "colab": {
          "base_uri": "https://localhost:8080/",
          "height": 34
        },
        "outputId": "f02c2fef-10f7-4919-e207-82218b2a6f1b"
      },
      "source": [
        "X_train, y_train, X_val, y_val, X_test, y_test  = mnist.data[:50000], mnist.target[:50000], mnist.data[50000:60000], mnist.target[50000:60000], mnist.data[60000:], mnist.target[60000:]\n",
        "X_train.shape, y_test.shape"
      ],
      "execution_count": 4,
      "outputs": [
        {
          "output_type": "execute_result",
          "data": {
            "text/plain": [
              "((50000, 784), (10000,))"
            ]
          },
          "metadata": {
            "tags": []
          },
          "execution_count": 4
        }
      ]
    },
    {
      "cell_type": "code",
      "metadata": {
        "id": "RPyiysQ08CUM",
        "colab_type": "code",
        "colab": {
          "base_uri": "https://localhost:8080/",
          "height": 34
        },
        "outputId": "93e46e50-a3f4-44ec-f77c-d8f576a4a6e2"
      },
      "source": [
        "from sklearn.ensemble import RandomForestClassifier\n",
        "from sklearn.metrics import accuracy_score\n",
        "\n",
        "rf_clf = RandomForestClassifier(n_estimators=100, max_leaf_nodes=10, random_state=42)\n",
        "rf_clf.fit(X_train, y_train)\n",
        "y_pred_rf_clf = rf_clf.predict(X_val)\n",
        "accuracy_score(y_true=y_val, y_pred=y_pred_rf_clf)"
      ],
      "execution_count": 5,
      "outputs": [
        {
          "output_type": "execute_result",
          "data": {
            "text/plain": [
              "0.7903"
            ]
          },
          "metadata": {
            "tags": []
          },
          "execution_count": 5
        }
      ]
    },
    {
      "cell_type": "code",
      "metadata": {
        "id": "N55df5M_8CcG",
        "colab_type": "code",
        "colab": {
          "base_uri": "https://localhost:8080/",
          "height": 34
        },
        "outputId": "520e0774-f7e8-4c82-a8f6-e09011da2a72"
      },
      "source": [
        "from sklearn.ensemble import ExtraTreesClassifier\n",
        "\n",
        "xt_clf = ExtraTreesClassifier(n_estimators=100, max_leaf_nodes=10, random_state=42)\n",
        "xt_clf.fit(X_train, y_train)\n",
        "y_pred_xt_clf = xt_clf.predict(X_val)\n",
        "accuracy_score(y_true=y_val, y_pred=y_pred_xt_clf)"
      ],
      "execution_count": 6,
      "outputs": [
        {
          "output_type": "execute_result",
          "data": {
            "text/plain": [
              "0.7762"
            ]
          },
          "metadata": {
            "tags": []
          },
          "execution_count": 6
        }
      ]
    },
    {
      "cell_type": "code",
      "metadata": {
        "id": "Llj8P78gNiCH",
        "colab_type": "code",
        "colab": {
          "base_uri": "https://localhost:8080/",
          "height": 69
        },
        "outputId": "4757e41a-e6c4-4829-e6a6-d436f4e1fb2c"
      },
      "source": [
        "\"\"\"\n",
        "from sklearn.svm import LinearSVC\n",
        "from sklearn.preprocessing import StandardScaler\n",
        "from sklearn.pipeline import Pipeline\n",
        "\n",
        "svc_clf = Pipeline([\n",
        "                               (\"scaler\", StandardScaler()),\n",
        "                               (\"svm_clf\", LinearSVC(C=1.0, loss=\"hinge\"))\n",
        "])\n",
        "svc_clf.fit(X_train, y_train)\n",
        "y_pred_svc_clf = svc_clf.predict(X_val)\n",
        "\n",
        "#svc_clf = SVC(probability=True)\n",
        "#svc_clf.fit(X_train, y_train)\n",
        "#y_pred_svc_clf = svc_clf.predict(X_val)\n",
        "accuracy_score(y_true=y_val, y_pred=y_pred_svc_clf)\n",
        "\"\"\""
      ],
      "execution_count": 7,
      "outputs": [
        {
          "output_type": "execute_result",
          "data": {
            "application/vnd.google.colaboratory.intrinsic+json": {
              "type": "string"
            },
            "text/plain": [
              "'\\nfrom sklearn.svm import LinearSVC\\nfrom sklearn.preprocessing import StandardScaler\\nfrom sklearn.pipeline import Pipeline\\n\\nsvc_clf = Pipeline([\\n                               (\"scaler\", StandardScaler()),\\n                               (\"svm_clf\", LinearSVC(C=1.0, loss=\"hinge\"))\\n])\\nsvc_clf.fit(X_train, y_train)\\ny_pred_svc_clf = svc_clf.predict(X_val)\\n\\n#svc_clf = SVC(probability=True)\\n#svc_clf.fit(X_train, y_train)\\n#y_pred_svc_clf = svc_clf.predict(X_val)\\naccuracy_score(y_true=y_val, y_pred=y_pred_svc_clf)\\n'"
            ]
          },
          "metadata": {
            "tags": []
          },
          "execution_count": 7
        }
      ]
    },
    {
      "cell_type": "code",
      "metadata": {
        "id": "Ytnj4mRuCKuS",
        "colab_type": "code",
        "colab": {
          "base_uri": "https://localhost:8080/",
          "height": 34
        },
        "outputId": "6dc5fab1-8395-4296-f0f3-d18d4fa444d4"
      },
      "source": [
        "from sklearn.ensemble import VotingClassifier\n",
        "\n",
        "hv_clf = VotingClassifier(estimators=[('rf',rf_clf),('xt',xt_clf)], voting='hard' )\n",
        "hv_clf.fit(X_train, y_train)\n",
        "hv_clf_pred = hv_clf.predict(X_val)\n",
        "accuracy_score(y_true=y_val, y_pred=hv_clf_pred)"
      ],
      "execution_count": 8,
      "outputs": [
        {
          "output_type": "execute_result",
          "data": {
            "text/plain": [
              "0.7708"
            ]
          },
          "metadata": {
            "tags": []
          },
          "execution_count": 8
        }
      ]
    },
    {
      "cell_type": "code",
      "metadata": {
        "id": "yuEpln2oCK-0",
        "colab_type": "code",
        "colab": {
          "base_uri": "https://localhost:8080/",
          "height": 34
        },
        "outputId": "7357acae-1afb-4277-f5fc-03febc2dc807"
      },
      "source": [
        "sv_clf = VotingClassifier(estimators=[('rf',rf_clf),('xt',xt_clf)], voting='soft' )\n",
        "sv_clf.fit(X_train, y_train)\n",
        "sv_clf_pred = sv_clf.predict(X_val)\n",
        "accuracy_score(y_true=y_val, y_pred=sv_clf_pred)"
      ],
      "execution_count": 9,
      "outputs": [
        {
          "output_type": "execute_result",
          "data": {
            "text/plain": [
              "0.7935"
            ]
          },
          "metadata": {
            "tags": []
          },
          "execution_count": 9
        }
      ]
    },
    {
      "cell_type": "code",
      "metadata": {
        "id": "51PMGtf4CLFl",
        "colab_type": "code",
        "colab": {
          "base_uri": "https://localhost:8080/",
          "height": 34
        },
        "outputId": "bfa12437-6d48-421f-c832-dea40765d2e7"
      },
      "source": [
        "accuracy_score(y_true=y_test, y_pred=rf_clf.predict(X_test)), accuracy_score(y_true=y_test, y_pred=xt_clf.predict(X_test)), accuracy_score(y_true=y_test, y_pred=sv_clf.predict(X_test))\n",
        "\n",
        "\n"
      ],
      "execution_count": 10,
      "outputs": [
        {
          "output_type": "execute_result",
          "data": {
            "text/plain": [
              "(0.7757, 0.7635, 0.7804)"
            ]
          },
          "metadata": {
            "tags": []
          },
          "execution_count": 10
        }
      ]
    },
    {
      "cell_type": "code",
      "metadata": {
        "id": "NqdQ5XrSPxdZ",
        "colab_type": "code",
        "colab": {}
      },
      "source": [
        ""
      ],
      "execution_count": null,
      "outputs": []
    },
    {
      "cell_type": "markdown",
      "metadata": {
        "id": "s-gtXTe1LuGf",
        "colab_type": "text"
      },
      "source": [
        "Run the individual classifiers from the previous exercise to make predictions on\n",
        "the validation set, and create a new training set with the resulting predictions: each training instance is a vector containing the set of predictions from all your classifiers for an image, and the target is the image’s class. Train a classifier on this new training set. You have just trained a blender, and together with the classifiers they form a stacking ensemble! Now let’s evaluate the ensemble on the test set. For each image in the test set, make predictions with all your classifiers, then feed the predictions to the blender to get the ensemble’s predictions.\n",
        "\n",
        "How does it compare to the voting classifier you trained earlier?"
      ]
    },
    {
      "cell_type": "code",
      "metadata": {
        "id": "9lNR6995Oq5B",
        "colab_type": "code",
        "colab": {
          "base_uri": "https://localhost:8080/",
          "height": 34
        },
        "outputId": "e5bb17a8-1548-4a70-ab99-7b17ab6f2a8e"
      },
      "source": [
        "y_pred_rf_clf.shape, y_pred_xt_clf.shape\n"
      ],
      "execution_count": 11,
      "outputs": [
        {
          "output_type": "execute_result",
          "data": {
            "text/plain": [
              "((10000,), (10000,))"
            ]
          },
          "metadata": {
            "tags": []
          },
          "execution_count": 11
        }
      ]
    },
    {
      "cell_type": "code",
      "metadata": {
        "id": "8pUCW9uZPJkj",
        "colab_type": "code",
        "colab": {
          "base_uri": "https://localhost:8080/",
          "height": 34
        },
        "outputId": "b767a68f-095e-4ebe-a95d-58b80396a6b9"
      },
      "source": [
        "import numpy as np\n",
        "X_train_new = np.concatenate((y_pred_rf_clf.reshape(-1,1), y_pred_xt_clf.reshape(-1,1)), axis=1)\n",
        "X_train_new.shape"
      ],
      "execution_count": 23,
      "outputs": [
        {
          "output_type": "execute_result",
          "data": {
            "text/plain": [
              "(10000, 2)"
            ]
          },
          "metadata": {
            "tags": []
          },
          "execution_count": 23
        }
      ]
    },
    {
      "cell_type": "code",
      "metadata": {
        "id": "v-Vsv8VWCLbe",
        "colab_type": "code",
        "colab": {
          "base_uri": "https://localhost:8080/",
          "height": 34
        },
        "outputId": "61ebcdde-3547-4c7b-97d6-ddc5d6adcb05"
      },
      "source": [
        "# using xgboost as blender\n",
        "import xgboost\n",
        "\n",
        "xgb_clf = xgboost.XGBClassifier()\n",
        "xgb_clf.fit(X_train_new, y_val)\n",
        "X_test_new = np.concatenate((rf_clf.predict(X_test).reshape(-1,1),xt_clf.predict(X_test).reshape(-1,1)), axis=1)\n",
        "y_pred = xgb_clf.predict(X_test_new)\n",
        "y_pred.shape, y_test.shape\n",
        "accuracy_score(y_true=y_test, y_pred=y_pred)"
      ],
      "execution_count": 31,
      "outputs": [
        {
          "output_type": "execute_result",
          "data": {
            "text/plain": [
              "0.7891"
            ]
          },
          "metadata": {
            "tags": []
          },
          "execution_count": 31
        }
      ]
    }
  ]
}