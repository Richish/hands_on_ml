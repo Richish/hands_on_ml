{
  "nbformat": 4,
  "nbformat_minor": 0,
  "metadata": {
    "colab": {
      "name": "8_Dimensionality reduction_1.ipynb",
      "provenance": [],
      "collapsed_sections": [],
      "toc_visible": true,
      "authorship_tag": "ABX9TyMyi7Cov9zIRvMboQk8UHX2",
      "include_colab_link": true
    },
    "kernelspec": {
      "name": "python3",
      "display_name": "Python 3"
    }
  },
  "cells": [
    {
      "cell_type": "markdown",
      "metadata": {
        "id": "view-in-github",
        "colab_type": "text"
      },
      "source": [
        "<a href=\"https://colab.research.google.com/github/Richish/hands_on_ml/blob/master/8_Dimensionality_reduction_1.ipynb\" target=\"_parent\"><img src=\"https://colab.research.google.com/assets/colab-badge.svg\" alt=\"Open In Colab\"/></a>"
      ]
    },
    {
      "cell_type": "markdown",
      "metadata": {
        "id": "G1nakEDyj3Hp",
        "colab_type": "text"
      },
      "source": [
        "# Curse of dimensionality\n",
        "\n",
        "Many Machine Learning problems involve thousands or even millions of features for each training instance. \n",
        "Not only does this make training extremely slow, it can also make it much harder to find a good solution. This problem is often referred to as the curse of dimensionality.\n",
        "\n",
        "It turns out that many things behave very differently in high-dimensional space. For example, if you pick a random point in a unit square (a 1 × 1 square), it will have only about a 0.4% chance of being located less than 0.001 from a border (in other words, it is very unlikely that a random point will be “extreme” along any dimension). But in a 10,000-dimensional unit hypercube (a 1 × 1 × ⋯ × 1 cube, with ten thousand 1s), this probability is greater than 99.999999%. Most points in a high-dimensional hypercube are very close to the border.\n",
        "\n",
        "More importantly:\n",
        "If you pick two points randomly in a unit square, the distance between these two points will be, on average, roughly 0.52. If you pick two random points in a unit 3D cube, the average distance will be roughly 0.66. But what about two points picked randomly in a 1,000,000-dimensional hypercube? the average distance, will be about 408.25 (roughly sqrt(1,000,000/6!)) . This fact implies that high- dimensional datasets are at risk of being very sparse: most training instances are likely to be far away from each other. Of course, this also means that a new instance will likely be far away from any training instance, making predictions much less reliable than in lower dimensions, since they will be based on much larger extrapolations. In short, the more dimensions the training set has, the greater the risk of overfitting it.\n",
        "\n",
        "With just 100 features (much less than in the MNIST problem), you would need more training instances than atoms in the observable universe in order for training instances to be within 0.1 of each other on average, assuming they were spread out uniformly across all dimensions.\n"
      ]
    },
    {
      "cell_type": "markdown",
      "metadata": {
        "id": "-Zc3V4sfj3Kt",
        "colab_type": "text"
      },
      "source": [
        "Reducing dimensionality does lose some information (just like compressing an image to JPEG can degrade its quality), so even though it will speed up training, it may also make your system perform slightly worse. It also makes your pipelines a bit more complex and thus harder to maintain. So you should first try to train your system with the original data before considering using dimensionality reduction if training is too slow. In some cases, however, reducing the dimensionality of the training data may filter out some noise and unnecessary details and thus result in higher performance (but in general it won’t; it will just speed up training).\n"
      ]
    },
    {
      "cell_type": "markdown",
      "metadata": {
        "id": "rwpoulsTj3N2",
        "colab_type": "text"
      },
      "source": [
        "Apart from speeding up training, dimensionality reduction is also extremely useful for data visualization (or DataViz). Reducing the number of dimensions down to two (or three) makes it possible to plot a condensed view of a high-dimensional training set on a graph and often gain some important insights by visually detecting patterns, such as clusters. Moreover, DataViz is essential to communicate your conclusions to people who are not data scientists, in particular decision makers who will use your results."
      ]
    },
    {
      "cell_type": "markdown",
      "metadata": {
        "id": "aNdsb_dvj3Qy",
        "colab_type": "text"
      },
      "source": [
        "# 2 main approaches for dimensionality reduction:\n",
        "\n",
        "\n",
        "1.   Projection.\n",
        "2.   Manifold learning.\n",
        "\n",
        "\n"
      ]
    },
    {
      "cell_type": "markdown",
      "metadata": {
        "id": "nBtPzlf-j3Tm",
        "colab_type": "text"
      },
      "source": [
        ""
      ]
    },
    {
      "cell_type": "markdown",
      "metadata": {
        "id": "xEs4Je-Yj3W-",
        "colab_type": "text"
      },
      "source": [
        "## Projection\n",
        "\n",
        "In most real-world problems, training instances are not spread out uniformly across all dimensions. Many features are almost constant, while others are highly correlated (as for MNIST). As a result, all training instances actually lie within (or close to) a much lower-dimensional subspace of the high-dimensional space. \n",
        "\n",
        "Example a 2-d subspace(plane) inside a 3-d space. obtained by projecting all points in 3-d to a 2-d space (may or maynot be parallel to any axes).\n",
        "\n",
        "### Where projection cannot be used:\n",
        " In many cases the subspace may twist and turn, such as in the famous Swiss roll toy data‐set.\n",
        "Simply projecting onto a plane (e.g., by dropping x3) would squash different layers of the Swiss roll together. However, what you really want is to unroll the Swiss roll to obtain the 2D dataset."
      ]
    },
    {
      "cell_type": "markdown",
      "metadata": {
        "id": "YC6hMeCoj3iE",
        "colab_type": "text"
      },
      "source": [
        "## Manifold learning\n",
        "\n",
        "The Swiss roll is an example of a 2D manifold. Put simply, a 2D manifold is a 2D shape that can be bent and twisted in a higher-dimensional space. More generally, a d-dimensional manifold is a part of an n-dimensional space (where d < n) that locally resembles a d-dimensional hyperplane. In the case of the Swiss roll, d = 2 and n = 3: it locally resembles a 2D plane, but it is rolled in the third dimension.\n",
        "\n",
        "Many dimensionality reduction algorithms work by modeling the manifold on which the training instances lie; this is called Manifold Learning. It relies on the manifold assumption, also called the manifold hypothesis, which holds that most real-world high-dimensional datasets lie close to a much lower-dimensional manifold. This assumption is very often empirically observed.\n",
        "\n",
        "Once again, think about the MNIST dataset: all handwritten digit images have some similarities. They are made of connected lines, the borders are white, they are more or less centered, and so on. If you randomly generated images, only a ridiculously tiny fraction of them would look like handwritten digits. In other words, the degrees of freedom available to you if you try to create a digit image are dramatically lower than the degrees of freedom you would have if you were allowed to generate any image you wanted. These constraints tend to squeeze the dataset into a lower- dimensional manifold\n",
        "\n",
        "The manifold assumption is often accompanied by another implicit assumption: that the task at hand (e.g., classification or regression) will be simpler if expressed in the lower-dimensional space of the manifold. However, this assumption does not always hold. \n",
        "\n",
        "In short, if you reduce the dimensionality of your training set before training a model, it will usually speed up training, but it may not always lead to a better or sim‐ pler solution; it all depends on the dataset."
      ]
    },
    {
      "cell_type": "markdown",
      "metadata": {
        "id": "wvL2tj5ELDme",
        "colab_type": "text"
      },
      "source": [
        "# Dimensionality reduction algorithms:\n",
        "1. PCA\n",
        "2. "
      ]
    },
    {
      "cell_type": "markdown",
      "metadata": {
        "id": "W6geir7rLDpa",
        "colab_type": "text"
      },
      "source": [
        "## PCA\n",
        "Principal Component Analysis (PCA) is the most popular dimensionality reduction algorithm. First it identifies the hyperplane that lies closest to the data, and then it projects the data onto it.\n",
        "\n",
        "\n"
      ]
    },
    {
      "cell_type": "markdown",
      "metadata": {
        "id": "OIfpEhscNSNI",
        "colab_type": "text"
      },
      "source": [
        "### Preserving the variance:\n",
        "Before you can project the training set onto a lower-dimensional hyperplane, you first need to choose the right hyperplane.\n",
        "\n",
        "Choose a hyperplane so that there is minimal reduction in variance (in data).\n",
        "In other words, select the axis that preserves the maximum amount of var‐ iance, as it will most likely lose less information than the other projections. Another way to justify this choice is that it is the axis that minimizes the mean squared dis‐ tance between the original dataset and its projection onto that axis."
      ]
    },
    {
      "cell_type": "markdown",
      "metadata": {
        "id": "40BrHPe0LDsg",
        "colab_type": "text"
      },
      "source": [
        "### Principal Components\n",
        "\n",
        "PCA identifies the axis that accounts for the largest amount of variance in the training set. For 2-d data, It also finds a second axis, **orthogonal to the first one, that accounts for the largest amount of remaining variance**. If it were a higher-dimensional data‐ set, PCA would also find a third axis, orthogonal to both previous axes, and a fourth, a fifth, and so on—as many axes as the number of dimensions in the dataset.\n",
        "\n",
        "The unit vector that defines the ith axis is called the ith principal component (PC). \n",
        "\n",
        "The direction of the principal components is not stable: if you perturb the training set slightly and run PCA again, some of the new PCs may point in the opposite direction of the original PCs. However, they will generally still lie on the same axes. In some cases, a pair of PCs may even rotate or swap, but the plane they define will generally remain the same.\n"
      ]
    },
    {
      "cell_type": "markdown",
      "metadata": {
        "id": "esoBCxDWLDvk",
        "colab_type": "text"
      },
      "source": [
        "### How to find principal components of a training set (Singular value decomposition)\n",
        "\n",
        "There is a standard matrix factorization technique called Singular Value Decomposition (SVD) that can decompose the training set matrix X into the matrix multiplication of three matrices U Σ VT, where V contains all the principal components that we are looking for.\n",
        "\n",
        "PCA assumes that the dataset is centered around the origin. As we will see, Scikit-Learn’s PCA classes take care of centering the data for you. However, if you implement PCA yourself (say using numpy), or if you use other libraries, don’t forget to center the data first."
      ]
    },
    {
      "cell_type": "markdown",
      "metadata": {
        "id": "GMmYyKUjPcwN",
        "colab_type": "text"
      },
      "source": [
        "#### svd using numpy only"
      ]
    },
    {
      "cell_type": "code",
      "metadata": {
        "id": "zvsLAa56PPBv",
        "colab_type": "code",
        "colab": {}
      },
      "source": [
        "# Numpy provides a svd() method.\n",
        "import numpy as np\n",
        "X_centered = X - X.mean(axis=0)\n",
        "U, s, Vt = np.linalg.svd(X_centered)\n",
        "c1 = Vt.T[:, 0]\n",
        "c2 = Vt.T[:, 1]\n"
      ],
      "execution_count": 1,
      "outputs": []
    },
    {
      "cell_type": "markdown",
      "metadata": {
        "id": "cZtZu3E1LDyv",
        "colab_type": "text"
      },
      "source": [
        "### Projecting down to d dimensions(from n dimensions):\n",
        "\n",
        "Once you have identified all the principal components, you can reduce the dimensionality of the dataset down to d dimensions by projecting it onto the hyperplane defined by the first d principal components. Selecting this hyperplane ensures that the projection will preserve as much variance as possible. For example,the 3D dataset is projected down to the 2D plane defined by the first two principal components, preserving a large part of the dataset’s variance. As a result, the 2D projection looks very much like the original 3D dataset.\n",
        "\n",
        "To project the training set onto the hyperplane, you can simply compute the matrix multiplication of the training set matrix X by the matrix Wd, defined as the matrix containing the first d principal components (i.e., the matrix composed of the first d columns of V). Projecting the training set down to d dimensions, Xd‐proj = X.Wd\n",
        "\n",
        "The Python code in next cell projects the training set onto the plane defined by the first two principal components. You now know how to reduce the dimensionality of any dataset down to any number of dimensions, while preserving as much variance as possible."
      ]
    },
    {
      "cell_type": "code",
      "metadata": {
        "id": "kBK7OznPS8zJ",
        "colab_type": "code",
        "colab": {}
      },
      "source": [
        "W2 = Vt.T[:, :2] \n",
        "X2D = X_centered.dot(W2)"
      ],
      "execution_count": null,
      "outputs": []
    },
    {
      "cell_type": "markdown",
      "metadata": {
        "id": "luGOj_PwLD1X",
        "colab_type": "text"
      },
      "source": [
        "### PCA with sk-learn\n",
        "\n",
        "Scikit-Learn’s PCA class implements PCA using SVD decomposition just like we did before. The code in next cell applies PCA to reduce the dimensionality of the dataset down to two dimensions (note that it automatically takes care of centering the data):"
      ]
    },
    {
      "cell_type": "code",
      "metadata": {
        "id": "BXMdEO5qTaRS",
        "colab_type": "code",
        "colab": {}
      },
      "source": [
        "from sklearn.decomposition import PCA \n",
        "pca = PCA(n_components = 2)\n",
        "X2D = pca.fit_transform(X)"
      ],
      "execution_count": null,
      "outputs": []
    },
    {
      "cell_type": "markdown",
      "metadata": {
        "id": "hvgA5XVCLD4w",
        "colab_type": "text"
      },
      "source": [
        "After fitting the PCA transformer to the dataset, you can access the principal components using the **components_** variable (note that it contains the PCs as horizontal vectors, so, for example, the first principal component is equal to pca.components_.T[:, 0])."
      ]
    },
    {
      "cell_type": "markdown",
      "metadata": {
        "id": "yLgUf_lUWlXY",
        "colab_type": "text"
      },
      "source": [
        "## Explained Variance Ratio\n",
        "Very useful piece of information is the explained variance ratio of each principal component, available via the **explained_variance_ratio_** variable. It **indicates the proportion of the dataset’s variance that lies along the axis of each principal component**. \n",
        "For example, if the explained variance ratios of the first two components of the 3D dataset:\n",
        "pca.explained_variance_ratio_ is array([0.84248607, 0.14631839])\n",
        "\n",
        "This tells you that 84.2% of the dataset’s variance lies along the first axis, and 14.6% lies along the second axis. This leaves less than 1.2% for the third axis, so it is reason‐ able to assume that it probably carries little information."
      ]
    },
    {
      "cell_type": "markdown",
      "metadata": {
        "id": "VaYtv5URXCP9",
        "colab_type": "text"
      },
      "source": [
        "## Choosing the Right Number of Dimensions\n",
        "Instead of arbitrarily choosing the number of dimensions to reduce down to, it is generally preferable to choose the number of dimensions that add up to a sufficiently large portion of the variance (e.g., 95%). Unless, you are reducing dimensionality for data visualization—in that case you will generally want to reduce the dimensionality down to 2 or 3."
      ]
    },
    {
      "cell_type": "code",
      "metadata": {
        "id": "eWBln528WiMl",
        "colab_type": "code",
        "colab": {}
      },
      "source": [
        "# The following code computes PCA without reducing dimensionality, \n",
        "# then computes the minimum number of dimensions required to preserve 95% of the training set’s variance:\n",
        "pca = PCA()\n",
        "pca.fit(X_train)\n",
        "cumsum = np.cumsum(pca.explained_variance_ratio_)\n",
        "d = np.argmax(cumsum >= 0.95) + 1"
      ],
      "execution_count": null,
      "outputs": []
    },
    {
      "cell_type": "code",
      "metadata": {
        "id": "y6Oc76k6XySW",
        "colab_type": "code",
        "colab": {}
      },
      "source": [
        "# You could then set n_components=d and run PCA again. \n",
        "# However, there is a much better option: \n",
        "# instead of specifying the number of principal components you want to preserve, \n",
        "# you can set n_components to be a float between 0.0 and 1.0, indicating the ratio of variance you wish to preserve:\n",
        "\n",
        "pca = PCA(n_components=0.95)\n",
        "X_reduced = pca.fit_transform(X_train)"
      ],
      "execution_count": null,
      "outputs": []
    },
    {
      "cell_type": "markdown",
      "metadata": {
        "id": "CHvoUhjOXCE7",
        "colab_type": "text"
      },
      "source": [
        "Yet another option is to plot the explained variance as a function of the number of dimensions (simply plot cumsum). There will usually be an elbow in the curve, where the explained variance stops growing fast. You can think of this as the intrinsic dimensionality of the dataset."
      ]
    },
    {
      "cell_type": "markdown",
      "metadata": {
        "id": "xsAazakKYfyf",
        "colab_type": "text"
      },
      "source": [
        "## PCA for compression\n",
        "\n",
        "After dimensionality reduction, the training set takes up much less space. For example, try applying PCA to the MNIST dataset while preserving 95% of its variance. You should find that each instance will have just over 150 features, instead of the original 784 features. So while most of the variance is preserved, the dataset is now less than 20% of its original size! This is a reasonable compression ratio, and you can see how this can speed up a classification algorithm (such as an SVM classifier) tremendously.\n",
        "\n",
        "\n",
        "\n",
        "    "
      ]
    },
    {
      "cell_type": "code",
      "metadata": {
        "id": "V4SnY609bEOn",
        "colab_type": "code",
        "colab": {
          "base_uri": "https://localhost:8080/",
          "height": 34
        },
        "outputId": "aca2f1e6-5826-408d-fc43-7b191072f17c"
      },
      "source": [
        "from sklearn.datasets import fetch_openml\n",
        "mnist=fetch_openml(name=\"mnist_784\", version=1)\n",
        "mnist.keys()\n",
        "\n"
      ],
      "execution_count": 1,
      "outputs": [
        {
          "output_type": "execute_result",
          "data": {
            "text/plain": [
              "dict_keys(['data', 'target', 'frame', 'feature_names', 'target_names', 'DESCR', 'details', 'categories', 'url'])"
            ]
          },
          "metadata": {
            "tags": []
          },
          "execution_count": 1
        }
      ]
    },
    {
      "cell_type": "code",
      "metadata": {
        "id": "UvEhZekBcTAQ",
        "colab_type": "code",
        "colab": {
          "base_uri": "https://localhost:8080/",
          "height": 34
        },
        "outputId": "25e9417c-9e50-4af9-ab3a-5b9fbe42bf05"
      },
      "source": [
        "# without PCA\n",
        "from sklearn.model_selection import train_test_split\n",
        "mnist['data'].shape\n",
        "X,y=mnist['data'], mnist['target']\n",
        "X_train, X_test, y_train, y_test = train_test_split(X, y, train_size=60_000)\n",
        "X_train.shape, X_test.shape, y_train.shape, y_test.shape"
      ],
      "execution_count": 3,
      "outputs": [
        {
          "output_type": "execute_result",
          "data": {
            "text/plain": [
              "((60000, 784), (10000, 784), (60000,), (10000,))"
            ]
          },
          "metadata": {
            "tags": []
          },
          "execution_count": 3
        }
      ]
    },
    {
      "cell_type": "code",
      "metadata": {
        "id": "VDTNeHSYesqT",
        "colab_type": "code",
        "colab": {}
      },
      "source": [
        "# train on whole data - without pca\n",
        "from sklearn.svm import SVC\n",
        "svc = SVC()\n",
        "svc.fit(X=X_train, y=y_train)\n"
      ],
      "execution_count": null,
      "outputs": []
    },
    {
      "cell_type": "code",
      "metadata": {
        "id": "OSkZuwLHcgj3",
        "colab_type": "code",
        "colab": {
          "base_uri": "https://localhost:8080/",
          "height": 34
        },
        "outputId": "e7014789-6982-4be6-9a3a-7b73558d2be9"
      },
      "source": [
        "# applying pca\n",
        "from sklearn.decomposition import PCA\n",
        "pca = PCA(n_components=0.95)\n",
        "X_reduced = pca.fit_transform(X)\n",
        "X_reduced.shape"
      ],
      "execution_count": 4,
      "outputs": [
        {
          "output_type": "execute_result",
          "data": {
            "text/plain": [
              "(70000, 154)"
            ]
          },
          "metadata": {
            "tags": []
          },
          "execution_count": 4
        }
      ]
    },
    {
      "cell_type": "code",
      "metadata": {
        "id": "EoCrEdnhe__O",
        "colab_type": "code",
        "colab": {}
      },
      "source": [
        "X_train, X_test, y_train, y_test = train_test_split(X_reduced, y, train_size=60_000)"
      ],
      "execution_count": 5,
      "outputs": []
    },
    {
      "cell_type": "code",
      "metadata": {
        "id": "5HZ8sxFpdwrN",
        "colab_type": "code",
        "colab": {
          "base_uri": "https://localhost:8080/",
          "height": 85
        },
        "outputId": "75b986df-4462-4a5c-dda4-d228c55c8274"
      },
      "source": [
        "# train using pca\n",
        "from sklearn.svm import SVC\n",
        "svc = SVC()\n",
        "svc.fit(X=X_train, y=y_train)\n",
        "\n"
      ],
      "execution_count": 7,
      "outputs": [
        {
          "output_type": "execute_result",
          "data": {
            "text/plain": [
              "SVC(C=1.0, break_ties=False, cache_size=200, class_weight=None, coef0=0.0,\n",
              "    decision_function_shape='ovr', degree=3, gamma='scale', kernel='rbf',\n",
              "    max_iter=-1, probability=False, random_state=None, shrinking=True,\n",
              "    tol=0.001, verbose=False)"
            ]
          },
          "metadata": {
            "tags": []
          },
          "execution_count": 7
        }
      ]
    },
    {
      "cell_type": "code",
      "metadata": {
        "id": "1hO91vXFdwt5",
        "colab_type": "code",
        "colab": {
          "base_uri": "https://localhost:8080/",
          "height": 34
        },
        "outputId": "859f533e-463c-4d0e-f72f-8c61a8de900f"
      },
      "source": [
        "y_pred=svc.predict(X_test)\n",
        "from sklearn.metrics import accuracy_score\n",
        "accuracy_score(y_pred=y_pred, y_true=y_test)"
      ],
      "execution_count": 8,
      "outputs": [
        {
          "output_type": "execute_result",
          "data": {
            "text/plain": [
              "0.9831"
            ]
          },
          "metadata": {
            "tags": []
          },
          "execution_count": 8
        }
      ]
    },
    {
      "cell_type": "code",
      "metadata": {
        "id": "3HyiwyLwdw2w",
        "colab_type": "code",
        "colab": {}
      },
      "source": [
        ""
      ],
      "execution_count": null,
      "outputs": []
    },
    {
      "cell_type": "markdown",
      "metadata": {
        "id": "g-NjTXmcYgQ5",
        "colab_type": "text"
      },
      "source": [
        "### Decompression:\n",
        "It is also possible to decompress the reduced dataset back to 784 dimensions by applying the inverse transformation of the PCA projection. Of course this won’t give you back the original data, since the projection lost a bit of information (within the 5% variance that was dropped), but it will likely be quite close to the original data. The mean squared distance between the original data and the reconstructed data (compressed and then decompressed) is called the reconstruction error. For example, the following code compresses the MNIST dataset down to 154 dimensions, then uses the inverse_transform() method to decompress it back to 784 dimensions. "
      ]
    },
    {
      "cell_type": "code",
      "metadata": {
        "id": "B9Ibswa5a7ol",
        "colab_type": "code",
        "colab": {}
      },
      "source": [
        "pca = PCA(n_components = 154)\n",
        "X_reduced = pca.fit_transform(X_train)\n",
        "X_recovered = pca.inverse_transform(X_reduced)"
      ],
      "execution_count": null,
      "outputs": []
    },
    {
      "cell_type": "markdown",
      "metadata": {
        "id": "wtiL8LHJYgVC",
        "colab_type": "text"
      },
      "source": [
        ""
      ]
    },
    {
      "cell_type": "markdown",
      "metadata": {
        "id": "2_ZYHpXMYfns",
        "colab_type": "text"
      },
      "source": [
        ""
      ]
    },
    {
      "cell_type": "code",
      "metadata": {
        "id": "FNL3wSnMWjIL",
        "colab_type": "code",
        "colab": {}
      },
      "source": [
        ""
      ],
      "execution_count": null,
      "outputs": []
    },
    {
      "cell_type": "code",
      "metadata": {
        "id": "kUcVVzctWJsy",
        "colab_type": "code",
        "colab": {}
      },
      "source": [
        ""
      ],
      "execution_count": null,
      "outputs": []
    }
  ]
}