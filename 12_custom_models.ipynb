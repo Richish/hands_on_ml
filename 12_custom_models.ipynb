{
  "nbformat": 4,
  "nbformat_minor": 0,
  "metadata": {
    "colab": {
      "name": "12_custom_models.ipynb",
      "provenance": [],
      "collapsed_sections": [],
      "authorship_tag": "ABX9TyPUhUOAg+2sgERvpSXv8Zox",
      "include_colab_link": true
    },
    "kernelspec": {
      "name": "python3",
      "display_name": "Python 3"
    },
    "language_info": {
      "name": "python"
    }
  },
  "cells": [
    {
      "cell_type": "markdown",
      "metadata": {
        "id": "view-in-github",
        "colab_type": "text"
      },
      "source": [
        "<a href=\"https://colab.research.google.com/github/Richish/hands_on_ml/blob/master/12_custom_models.ipynb\" target=\"_parent\"><img src=\"https://colab.research.google.com/assets/colab-badge.svg\" alt=\"Open In Colab\"/></a>"
      ]
    },
    {
      "cell_type": "code",
      "metadata": {
        "id": "sA1ZwI5wkZIO"
      },
      "source": [
        "import tensorflow as tf\n",
        "import numpy as np\n",
        "import keras"
      ],
      "execution_count": 3,
      "outputs": []
    },
    {
      "cell_type": "code",
      "metadata": {
        "colab": {
          "base_uri": "https://localhost:8080/"
        },
        "id": "nTpILInpkImE",
        "outputId": "e9145e92-cc4c-46ef-9ada-6f3b70c3aa0a"
      },
      "source": [
        "t=tf.constant([[1,2,3],[4,5,6.]])\n",
        "t"
      ],
      "execution_count": null,
      "outputs": [
        {
          "output_type": "execute_result",
          "data": {
            "text/plain": [
              "<tf.Tensor: shape=(2, 3), dtype=float32, numpy=\n",
              "array([[1., 2., 3.],\n",
              "       [4., 5., 6.]], dtype=float32)>"
            ]
          },
          "metadata": {
            "tags": []
          },
          "execution_count": 3
        }
      ]
    },
    {
      "cell_type": "code",
      "metadata": {
        "colab": {
          "base_uri": "https://localhost:8080/"
        },
        "id": "b6rdQUEvkkBW",
        "outputId": "14f3f8d4-24ab-4a2a-b95d-740e81679607"
      },
      "source": [
        "tf.constant(42)"
      ],
      "execution_count": null,
      "outputs": [
        {
          "output_type": "execute_result",
          "data": {
            "text/plain": [
              "<tf.Tensor: shape=(), dtype=int32, numpy=42>"
            ]
          },
          "metadata": {
            "tags": []
          },
          "execution_count": 4
        }
      ]
    },
    {
      "cell_type": "code",
      "metadata": {
        "colab": {
          "base_uri": "https://localhost:8080/"
        },
        "id": "s8KLIcn2kkEE",
        "outputId": "2fde7244-0add-4abb-eceb-49517028d0ae"
      },
      "source": [
        "t.shape, t.dtype"
      ],
      "execution_count": null,
      "outputs": [
        {
          "output_type": "execute_result",
          "data": {
            "text/plain": [
              "(TensorShape([2, 3]), tf.float32)"
            ]
          },
          "metadata": {
            "tags": []
          },
          "execution_count": 6
        }
      ]
    },
    {
      "cell_type": "code",
      "metadata": {
        "colab": {
          "base_uri": "https://localhost:8080/"
        },
        "id": "rVI9iGHLkkHR",
        "outputId": "5c307282-166a-4e93-eebd-f18f0b5e432e"
      },
      "source": [
        "t[:,1:]"
      ],
      "execution_count": null,
      "outputs": [
        {
          "output_type": "execute_result",
          "data": {
            "text/plain": [
              "<tf.Tensor: shape=(2, 2), dtype=float32, numpy=\n",
              "array([[2., 3.],\n",
              "       [5., 6.]], dtype=float32)>"
            ]
          },
          "metadata": {
            "tags": []
          },
          "execution_count": 7
        }
      ]
    },
    {
      "cell_type": "code",
      "metadata": {
        "colab": {
          "base_uri": "https://localhost:8080/"
        },
        "id": "NeMiOy-dkkJm",
        "outputId": "77c8ad6e-1f1e-4c62-9fcf-5909e6d40d4b"
      },
      "source": [
        "t[...,1, tf.newaxis]"
      ],
      "execution_count": null,
      "outputs": [
        {
          "output_type": "execute_result",
          "data": {
            "text/plain": [
              "<tf.Tensor: shape=(2, 1), dtype=float32, numpy=\n",
              "array([[2.],\n",
              "       [5.]], dtype=float32)>"
            ]
          },
          "metadata": {
            "tags": []
          },
          "execution_count": 9
        }
      ]
    },
    {
      "cell_type": "code",
      "metadata": {
        "colab": {
          "base_uri": "https://localhost:8080/"
        },
        "id": "jCwtm5OAkkMM",
        "outputId": "b20ca018-783d-4f95-8351-0383bc2395ee"
      },
      "source": [
        "t+10"
      ],
      "execution_count": null,
      "outputs": [
        {
          "output_type": "execute_result",
          "data": {
            "text/plain": [
              "<tf.Tensor: shape=(2, 3), dtype=float32, numpy=\n",
              "array([[11., 12., 13.],\n",
              "       [14., 15., 16.]], dtype=float32)>"
            ]
          },
          "metadata": {
            "tags": []
          },
          "execution_count": 10
        }
      ]
    },
    {
      "cell_type": "code",
      "metadata": {
        "colab": {
          "base_uri": "https://localhost:8080/"
        },
        "id": "zjCf9IEtkkO3",
        "outputId": "2f2bd2cb-83ae-4e23-dc92-e43c48bbaff9"
      },
      "source": [
        "tf.subtract(t,10)"
      ],
      "execution_count": null,
      "outputs": [
        {
          "output_type": "execute_result",
          "data": {
            "text/plain": [
              "<tf.Tensor: shape=(2, 3), dtype=float32, numpy=\n",
              "array([[-9., -8., -7.],\n",
              "       [-6., -5., -4.]], dtype=float32)>"
            ]
          },
          "metadata": {
            "tags": []
          },
          "execution_count": 12
        }
      ]
    },
    {
      "cell_type": "code",
      "metadata": {
        "colab": {
          "base_uri": "https://localhost:8080/"
        },
        "id": "feOwBX79kkRX",
        "outputId": "9c983561-c483-41f1-df21-71d13be81057"
      },
      "source": [
        "tf.square(t)"
      ],
      "execution_count": null,
      "outputs": [
        {
          "output_type": "execute_result",
          "data": {
            "text/plain": [
              "<tf.Tensor: shape=(2, 3), dtype=float32, numpy=\n",
              "array([[ 1.,  4.,  9.],\n",
              "       [16., 25., 36.]], dtype=float32)>"
            ]
          },
          "metadata": {
            "tags": []
          },
          "execution_count": 14
        }
      ]
    },
    {
      "cell_type": "code",
      "metadata": {
        "colab": {
          "base_uri": "https://localhost:8080/"
        },
        "id": "HYQ43wIukkT4",
        "outputId": "07b4fe0f-ac21-4017-c636-9077a430bf35"
      },
      "source": [
        "t@tf.transpose(t) # @ is for matrix multiplication"
      ],
      "execution_count": null,
      "outputs": [
        {
          "output_type": "execute_result",
          "data": {
            "text/plain": [
              "<tf.Tensor: shape=(2, 2), dtype=float32, numpy=\n",
              "array([[14., 32.],\n",
              "       [32., 77.]], dtype=float32)>"
            ]
          },
          "metadata": {
            "tags": []
          },
          "execution_count": 15
        }
      ]
    },
    {
      "cell_type": "code",
      "metadata": {
        "colab": {
          "base_uri": "https://localhost:8080/"
        },
        "id": "xiS00BywkkWW",
        "outputId": "95a83fb4-74c8-4dfb-bcc0-0cc6ca278b16"
      },
      "source": [
        "tf.matmul(t, tf.transpose(t))"
      ],
      "execution_count": null,
      "outputs": [
        {
          "output_type": "execute_result",
          "data": {
            "text/plain": [
              "<tf.Tensor: shape=(2, 2), dtype=float32, numpy=\n",
              "array([[14., 32.],\n",
              "       [32., 77.]], dtype=float32)>"
            ]
          },
          "metadata": {
            "tags": []
          },
          "execution_count": 16
        }
      ]
    },
    {
      "cell_type": "code",
      "metadata": {
        "colab": {
          "base_uri": "https://localhost:8080/"
        },
        "id": "vrGXWE2tkkfk",
        "outputId": "db479441-6aa9-424b-e91f-2f7b67a25801"
      },
      "source": [
        "tf.squeeze(t)# removes 1 dimensional elements"
      ],
      "execution_count": null,
      "outputs": [
        {
          "output_type": "execute_result",
          "data": {
            "text/plain": [
              "<tf.Tensor: shape=(2, 3), dtype=float32, numpy=\n",
              "array([[1., 2., 3.],\n",
              "       [4., 5., 6.]], dtype=float32)>"
            ]
          },
          "metadata": {
            "tags": []
          },
          "execution_count": 17
        }
      ]
    },
    {
      "cell_type": "code",
      "metadata": {
        "colab": {
          "base_uri": "https://localhost:8080/"
        },
        "id": "aG1m8Y-RmxdZ",
        "outputId": "25142c87-497c-4d56-b6f4-004395a1f2d7"
      },
      "source": [
        "tf.tile(t, [5,10]) # tiles the input t, along 0th axis- 5 times; and along 1st axis - 10 times"
      ],
      "execution_count": null,
      "outputs": [
        {
          "output_type": "execute_result",
          "data": {
            "text/plain": [
              "<tf.Tensor: shape=(10, 30), dtype=float32, numpy=\n",
              "array([[1., 2., 3., 1., 2., 3., 1., 2., 3., 1., 2., 3., 1., 2., 3., 1.,\n",
              "        2., 3., 1., 2., 3., 1., 2., 3., 1., 2., 3., 1., 2., 3.],\n",
              "       [4., 5., 6., 4., 5., 6., 4., 5., 6., 4., 5., 6., 4., 5., 6., 4.,\n",
              "        5., 6., 4., 5., 6., 4., 5., 6., 4., 5., 6., 4., 5., 6.],\n",
              "       [1., 2., 3., 1., 2., 3., 1., 2., 3., 1., 2., 3., 1., 2., 3., 1.,\n",
              "        2., 3., 1., 2., 3., 1., 2., 3., 1., 2., 3., 1., 2., 3.],\n",
              "       [4., 5., 6., 4., 5., 6., 4., 5., 6., 4., 5., 6., 4., 5., 6., 4.,\n",
              "        5., 6., 4., 5., 6., 4., 5., 6., 4., 5., 6., 4., 5., 6.],\n",
              "       [1., 2., 3., 1., 2., 3., 1., 2., 3., 1., 2., 3., 1., 2., 3., 1.,\n",
              "        2., 3., 1., 2., 3., 1., 2., 3., 1., 2., 3., 1., 2., 3.],\n",
              "       [4., 5., 6., 4., 5., 6., 4., 5., 6., 4., 5., 6., 4., 5., 6., 4.,\n",
              "        5., 6., 4., 5., 6., 4., 5., 6., 4., 5., 6., 4., 5., 6.],\n",
              "       [1., 2., 3., 1., 2., 3., 1., 2., 3., 1., 2., 3., 1., 2., 3., 1.,\n",
              "        2., 3., 1., 2., 3., 1., 2., 3., 1., 2., 3., 1., 2., 3.],\n",
              "       [4., 5., 6., 4., 5., 6., 4., 5., 6., 4., 5., 6., 4., 5., 6., 4.,\n",
              "        5., 6., 4., 5., 6., 4., 5., 6., 4., 5., 6., 4., 5., 6.],\n",
              "       [1., 2., 3., 1., 2., 3., 1., 2., 3., 1., 2., 3., 1., 2., 3., 1.,\n",
              "        2., 3., 1., 2., 3., 1., 2., 3., 1., 2., 3., 1., 2., 3.],\n",
              "       [4., 5., 6., 4., 5., 6., 4., 5., 6., 4., 5., 6., 4., 5., 6., 4.,\n",
              "        5., 6., 4., 5., 6., 4., 5., 6., 4., 5., 6., 4., 5., 6.]],\n",
              "      dtype=float32)>"
            ]
          },
          "metadata": {
            "tags": []
          },
          "execution_count": 19
        }
      ]
    },
    {
      "cell_type": "code",
      "metadata": {
        "colab": {
          "base_uri": "https://localhost:8080/"
        },
        "id": "uH8srmeMmxfz",
        "outputId": "4852c999-9891-462b-c249-8c8783cf45e5"
      },
      "source": [
        "tf.reduce_mean(t)"
      ],
      "execution_count": null,
      "outputs": [
        {
          "output_type": "execute_result",
          "data": {
            "text/plain": [
              "<tf.Tensor: shape=(), dtype=float32, numpy=3.5>"
            ]
          },
          "metadata": {
            "tags": []
          },
          "execution_count": 20
        }
      ]
    },
    {
      "cell_type": "code",
      "metadata": {
        "colab": {
          "base_uri": "https://localhost:8080/"
        },
        "id": "vKRJIjDqmxiZ",
        "outputId": "1b82e456-59d8-423d-d1d3-33a793f9f592"
      },
      "source": [
        "tf.reduce_mean(t, axis=0)"
      ],
      "execution_count": null,
      "outputs": [
        {
          "output_type": "execute_result",
          "data": {
            "text/plain": [
              "<tf.Tensor: shape=(3,), dtype=float32, numpy=array([2.5, 3.5, 4.5], dtype=float32)>"
            ]
          },
          "metadata": {
            "tags": []
          },
          "execution_count": 21
        }
      ]
    },
    {
      "cell_type": "code",
      "metadata": {
        "colab": {
          "base_uri": "https://localhost:8080/"
        },
        "id": "pouetQiUmxk9",
        "outputId": "9766f32c-1c9f-4cdd-93fb-239a6808d462"
      },
      "source": [
        "tf.reduce_sum(t, axis=1)"
      ],
      "execution_count": null,
      "outputs": [
        {
          "output_type": "execute_result",
          "data": {
            "text/plain": [
              "<tf.Tensor: shape=(2,), dtype=float32, numpy=array([ 6., 15.], dtype=float32)>"
            ]
          },
          "metadata": {
            "tags": []
          },
          "execution_count": 26
        }
      ]
    },
    {
      "cell_type": "markdown",
      "metadata": {
        "id": "0n2Bs-IRkMps"
      },
      "source": [
        "## Tensors and NumPy\n",
        "Tensors play nice with NumPy: you can create a tensor from a NumPy array, and vice\n",
        "versa, and you can even apply TensorFlow operations to NumPy arrays and NumPy\n",
        "operations to tensors:"
      ]
    },
    {
      "cell_type": "code",
      "metadata": {
        "colab": {
          "base_uri": "https://localhost:8080/"
        },
        "id": "LksVNm1bmxnh",
        "outputId": "8ab5cca8-8ea5-4987-d812-891a373e3612"
      },
      "source": [
        "a=np.array([1,2,3.])\n",
        "a"
      ],
      "execution_count": null,
      "outputs": [
        {
          "output_type": "execute_result",
          "data": {
            "text/plain": [
              "array([1., 2., 3.])"
            ]
          },
          "metadata": {
            "tags": []
          },
          "execution_count": 30
        }
      ]
    },
    {
      "cell_type": "code",
      "metadata": {
        "colab": {
          "base_uri": "https://localhost:8080/"
        },
        "id": "a-wRKwTNmxqV",
        "outputId": "d516598e-c07a-44ff-b2d4-cc980ce7faef"
      },
      "source": [
        "t=tf.constant(a)\n",
        "t"
      ],
      "execution_count": null,
      "outputs": [
        {
          "output_type": "execute_result",
          "data": {
            "text/plain": [
              "<tf.Tensor: shape=(3,), dtype=float64, numpy=array([1., 2., 3.])>"
            ]
          },
          "metadata": {
            "tags": []
          },
          "execution_count": 32
        }
      ]
    },
    {
      "cell_type": "code",
      "metadata": {
        "colab": {
          "base_uri": "https://localhost:8080/"
        },
        "id": "V-H7iqJ6qAYw",
        "outputId": "709fe9f6-963c-47b8-c9bc-5a7586b1d96c"
      },
      "source": [
        "tf.cast(t, dtype=\"float32\") # numpy by default uses float64 so to optimize it is good to cast to float32. tf uses float32 by default anyways"
      ],
      "execution_count": null,
      "outputs": [
        {
          "output_type": "execute_result",
          "data": {
            "text/plain": [
              "<tf.Tensor: shape=(3,), dtype=float32, numpy=array([1., 2., 3.], dtype=float32)>"
            ]
          },
          "metadata": {
            "tags": []
          },
          "execution_count": 34
        }
      ]
    },
    {
      "cell_type": "code",
      "metadata": {
        "colab": {
          "base_uri": "https://localhost:8080/"
        },
        "id": "UYrw3WOpqAbV",
        "outputId": "9321503b-0a6a-41d2-c64c-fb686e34de3f"
      },
      "source": [
        "t.numpy()"
      ],
      "execution_count": null,
      "outputs": [
        {
          "output_type": "execute_result",
          "data": {
            "text/plain": [
              "array([1., 2., 3.])"
            ]
          },
          "metadata": {
            "tags": []
          },
          "execution_count": 35
        }
      ]
    },
    {
      "cell_type": "code",
      "metadata": {
        "colab": {
          "base_uri": "https://localhost:8080/"
        },
        "id": "LC4EI9mIqAeB",
        "outputId": "05358c08-620a-4e66-95ad-853f66c42cae"
      },
      "source": [
        "tf.square(a)"
      ],
      "execution_count": null,
      "outputs": [
        {
          "output_type": "execute_result",
          "data": {
            "text/plain": [
              "<tf.Tensor: shape=(3,), dtype=float64, numpy=array([1., 4., 9.])>"
            ]
          },
          "metadata": {
            "tags": []
          },
          "execution_count": 36
        }
      ]
    },
    {
      "cell_type": "code",
      "metadata": {
        "colab": {
          "base_uri": "https://localhost:8080/"
        },
        "id": "S7qZeeeQqAgh",
        "outputId": "bc52778e-5d3c-40eb-85bc-a4830681e791"
      },
      "source": [
        "np.square(t)"
      ],
      "execution_count": null,
      "outputs": [
        {
          "output_type": "execute_result",
          "data": {
            "text/plain": [
              "array([1., 4., 9.])"
            ]
          },
          "metadata": {
            "tags": []
          },
          "execution_count": 37
        }
      ]
    },
    {
      "cell_type": "markdown",
      "metadata": {
        "id": "wpdCRde_qlfY"
      },
      "source": [
        "## Type conversions\n",
        "Type conversions can significantly hurt performance, and they can easily go unnoticed\n",
        "when they are done automatically. To avoid this, TensorFlow does not perform\n",
        "any type conversions automatically: it just raises an exception if you try to execute an\n",
        "operation on tensors with incompatible types. For example, you cannot add a float\n",
        "tensor and an integer tensor, and you cannot even add a 32-bit float and a 64-bit float:"
      ]
    },
    {
      "cell_type": "code",
      "metadata": {
        "id": "voO8gtTaqAi_"
      },
      "source": [
        "tf.constant(40)+tf.constant(40.5)"
      ],
      "execution_count": null,
      "outputs": []
    },
    {
      "cell_type": "code",
      "metadata": {
        "id": "wFyHwYznqkwf"
      },
      "source": [
        "tf.constant(40.0)+tf.constant(40.0, dtype=\"float64\")"
      ],
      "execution_count": null,
      "outputs": []
    },
    {
      "cell_type": "code",
      "metadata": {
        "colab": {
          "base_uri": "https://localhost:8080/"
        },
        "id": "kAEgSYeIqAlg",
        "outputId": "f262749e-2887-45ef-e77a-70ea798effc6"
      },
      "source": [
        "t2 = tf.constant(40., dtype=tf.float64)\n",
        "tf.constant(2.0) + tf.cast(t2, tf.float32)"
      ],
      "execution_count": null,
      "outputs": [
        {
          "output_type": "execute_result",
          "data": {
            "text/plain": [
              "<tf.Tensor: shape=(), dtype=float32, numpy=42.0>"
            ]
          },
          "metadata": {
            "tags": []
          },
          "execution_count": 41
        }
      ]
    },
    {
      "cell_type": "markdown",
      "metadata": {
        "id": "s31eNvQ_r_fs"
      },
      "source": [
        "## Variables\n",
        "The constants cannot be modified. So we need variables, sisncei n neural networks these would be weights that will be changed during training"
      ]
    },
    {
      "cell_type": "code",
      "metadata": {
        "colab": {
          "base_uri": "https://localhost:8080/"
        },
        "id": "RTzQacvVr89s",
        "outputId": "cb3b371f-b7bb-4e8a-812c-c46d7575f09a"
      },
      "source": [
        "v=tf.Variable([[1,2,3],[4,5,6.0]])\n",
        "v"
      ],
      "execution_count": null,
      "outputs": [
        {
          "output_type": "execute_result",
          "data": {
            "text/plain": [
              "<tf.Variable 'Variable:0' shape=(2, 3) dtype=float32, numpy=\n",
              "array([[1., 2., 3.],\n",
              "       [4., 5., 6.]], dtype=float32)>"
            ]
          },
          "metadata": {
            "tags": []
          },
          "execution_count": 42
        }
      ]
    },
    {
      "cell_type": "markdown",
      "metadata": {
        "id": "49ZhlsbGtGXa"
      },
      "source": [
        "it can also be modified in place using the assign() method (or assign_add() or\n",
        "assign_sub() which increment or decrement the variable by the given value). You\n",
        "can also modify individual cells (or slices), using the cell’s (or slice’s) assign()\n",
        "method (direct item assignment will not work), or using the scatter_update() or\n",
        "scatter_nd_update() methods:"
      ]
    },
    {
      "cell_type": "code",
      "metadata": {
        "colab": {
          "base_uri": "https://localhost:8080/"
        },
        "id": "yeP-NflpsMfT",
        "outputId": "7e3b3e14-c46b-4ea9-8665-cf10f33ade04"
      },
      "source": [
        "v[1,2].assign(0) # assignment by slicing\n",
        "v"
      ],
      "execution_count": null,
      "outputs": [
        {
          "output_type": "execute_result",
          "data": {
            "text/plain": [
              "<tf.Variable 'Variable:0' shape=(2, 3) dtype=float32, numpy=\n",
              "array([[1., 2., 3.],\n",
              "       [4., 5., 0.]], dtype=float32)>"
            ]
          },
          "metadata": {
            "tags": []
          },
          "execution_count": 44
        }
      ]
    },
    {
      "cell_type": "code",
      "metadata": {
        "colab": {
          "base_uri": "https://localhost:8080/"
        },
        "id": "YJvTxQsqsBRf",
        "outputId": "7f579a7f-6c22-4a30-bf2d-7f89654073dd"
      },
      "source": [
        "v.assign(2*v) # cellwise operation"
      ],
      "execution_count": null,
      "outputs": [
        {
          "output_type": "execute_result",
          "data": {
            "text/plain": [
              "<tf.Variable 'UnreadVariable' shape=(2, 3) dtype=float32, numpy=\n",
              "array([[ 2.,  4.,  6.],\n",
              "       [ 8., 10.,  0.]], dtype=float32)>"
            ]
          },
          "metadata": {
            "tags": []
          },
          "execution_count": 45
        }
      ]
    },
    {
      "cell_type": "code",
      "metadata": {
        "colab": {
          "base_uri": "https://localhost:8080/"
        },
        "id": "dNlQ8S7mqAoC",
        "outputId": "70ddf704-8ef6-4c97-b6c5-ad5aef915206"
      },
      "source": [
        "v[:,2].assign([0,1])"
      ],
      "execution_count": null,
      "outputs": [
        {
          "output_type": "execute_result",
          "data": {
            "text/plain": [
              "<tf.Variable 'UnreadVariable' shape=(2, 3) dtype=float32, numpy=\n",
              "array([[ 2.,  4.,  0.],\n",
              "       [ 8., 10.,  1.]], dtype=float32)>"
            ]
          },
          "metadata": {
            "tags": []
          },
          "execution_count": 51
        }
      ]
    },
    {
      "cell_type": "markdown",
      "metadata": {
        "id": "KQ358pKZuCKe"
      },
      "source": [
        "In practice you will rarely have to create variables manually, since Keras provides an add_weight() method that will take care of it for\n",
        "you, as we will see. Moreover, model parameters will generally be\n",
        "updated directly by the optimizers, so you will rarely need to\n",
        "update variables manually."
      ]
    },
    {
      "cell_type": "code",
      "metadata": {
        "id": "yWGjVYfeqAql"
      },
      "source": [
        ""
      ],
      "execution_count": null,
      "outputs": []
    },
    {
      "cell_type": "code",
      "metadata": {
        "id": "Q5ou8kz8qAtO"
      },
      "source": [
        ""
      ],
      "execution_count": null,
      "outputs": []
    },
    {
      "cell_type": "markdown",
      "metadata": {
        "id": "5pXuNZ6dkMsW"
      },
      "source": [
        "tf.cast()"
      ]
    },
    {
      "cell_type": "markdown",
      "metadata": {
        "id": "x-xbaLsxf9Be"
      },
      "source": [
        "# Customizing Models and Training Algorithms\n",
        "## Custom costs"
      ]
    },
    {
      "cell_type": "code",
      "metadata": {
        "id": "uMzWtcsUgBI2"
      },
      "source": [
        "def huber_fn(y_true, y_pred):\n",
        "    error = y_true - y_pred\n",
        "    is_small_error = tf.abs(error) < 1\n",
        "    squared_loss = tf.square(error) / 2\n",
        "    linear_loss = tf.abs(error) - 0.5\n",
        "    return tf.where(is_small_error, squared_loss, linear_loss)\n",
        "\n"
      ],
      "execution_count": null,
      "outputs": []
    },
    {
      "cell_type": "code",
      "metadata": {
        "id": "O36JlkUsgBLj"
      },
      "source": [
        "model.compile(loss=huber_fn, optimizer=\"nadam\")\n",
        "model.fit(X_train, y_train, [...])"
      ],
      "execution_count": null,
      "outputs": []
    },
    {
      "cell_type": "markdown",
      "metadata": {
        "id": "HAG5iQxbbK2N"
      },
      "source": [
        "## Saving and loading models that contain custom components\n",
        "\n",
        "Keras just\n",
        "saves the name of the function. However, whenever you load it, you need to provide a\n",
        "dictionary that maps the function name to the actual function. More generally, when\n",
        "you load a model containing custom objects, you need to map the names to the\n",
        "objects:"
      ]
    },
    {
      "cell_type": "code",
      "metadata": {
        "id": "1VXsy2WfgBPB"
      },
      "source": [
        "model = keras.models.load_model(\"my_model_with_a_custom_loss.h5\", custom_objects={\"huber_fn\": huber_fn})"
      ],
      "execution_count": null,
      "outputs": []
    },
    {
      "cell_type": "code",
      "metadata": {
        "id": "NFZlrED0gBQz"
      },
      "source": [
        "# if you want to have custom threshold:\n",
        "def create_huber(threshold=0.1):\n",
        "    def huber_fn(y_true, y_pred):\n",
        "        error = y_true - y_pred\n",
        "        is_small_error = tf.abs(error) < threshold\n",
        "        squared_loss = tf.square(error)\n",
        "        linear_loss = tf.abs(error)\n",
        "        return tf.where(is_small_error, squared_loss, linear_loss)\n",
        "    return huber_fn\n",
        "\n",
        "model.compile(loss=create_huber(2.0), optimizer=\"nadam\")\n",
        "\n",
        "model.load_model(model(\"my_model_with_a_custom_loss_threshold_2.h5\", custom_objects={\"huber_fn\": create_huber(2.0)}))\n",
        "# note that what gets saved is the name of the function we gave keras(huber_fn) and not the name of the function that we called(create_huber).\n",
        "# But while loading, we need to map this name to the actual function that we will be calling. Also the threshold value is not saved and needs to be provided when loading"
      ],
      "execution_count": null,
      "outputs": []
    },
    {
      "cell_type": "code",
      "metadata": {
        "id": "_KOu-WgXgBUP"
      },
      "source": [
        "# The problenm of threshold not getting stored by creating HuberLoss as subclass of keras.losses.Loss and implementing it's get_config function\n",
        "class HuberLoss(keras.losses.Loss):\n",
        "     \n",
        "    def __init__(self, threshold=1.0, **kwargs):\n",
        "         self.threshold = threshold\n",
        "         super().__init__(**kwargs)\n",
        "    \n",
        "    def call(y_true, y_pred):\n",
        "        error = y_true - y_pred\n",
        "        is_small_error = tf.abs(error) < self.threshold\n",
        "        squared_loss = tf.square(error)\n",
        "        linear_loss = tf.abs(error)\n",
        "        return tf.where(is_small_error, squared_loss, linear_loss)\n",
        "\n",
        "    def get_config():\n",
        "        base_config = super().get_config()\n",
        "        return {**base_config, \"threshold\": self.threshold }\n",
        "\n",
        "model.compile(loss=HuberLoss(2.), optimizer=\"nadam\") # threshold is also saved now\n",
        "model = keras.models.load_model(\"my_model_with_a_custom_loss_class.h5\", custom_objects={\"HuberLoss\": HuberLoss}) # no need to provide threshold here\n",
        "\n",
        "\"\"\"\n",
        "When you save a model, Keras calls the loss instance’s get_config() method and\n",
        "saves the config as JSON in the HDF5 file. When you load the model, it calls the\n",
        "from_config() class method on the HuberLoss class: this method is implemented by\n",
        "the base class (Loss) and just creates an instance of the class, passing **config to the\n",
        "constructor.\n",
        "\"\"\""
      ],
      "execution_count": 6,
      "outputs": []
    },
    {
      "cell_type": "markdown",
      "metadata": {
        "id": "t5vbJ2n8kMu8"
      },
      "source": [
        "## Custom Activation Functions, Initializers, Regularizers, and Constraints\n",
        "Custom activation\n",
        "functions, initializers, regularizers, and constraints. can be defined in same way as custom loss above.\n"
      ]
    },
    {
      "cell_type": "code",
      "metadata": {
        "id": "0FlrElHxlrFc"
      },
      "source": [
        "def my_softplus(z): # (log(e**z+1))\n",
        "    return tf.math.log(tf.exp(z)+1.0)\n",
        "\n",
        "def my_glorot_initializer(shape, dtype=tf.float32):\n",
        "    stddev = tf.sqrt(2.0/(shape[0]+shape[1]))\n",
        "    return tf.random.normal(shape, mean=0.0, stddev=stddev)\n",
        "\n",
        "def my_l1_regularizer(weights):\n",
        "    return tf.reduce_sum(tf.abs(0.01*weights))\n",
        "\n",
        "def my_positive_weights(weights):\n",
        "    return tf.where(weights<0, tf.zeros_like(weights), weights)\n",
        "\n",
        "layer = keras.layers.Dense(30, activation=my_softplus, kernel_initializer=my_glorot_initializer, \n",
        "                           kernel_regularizer=my_l1_regularizer, kernel_constraint=my_positive_weights)"
      ],
      "execution_count": 7,
      "outputs": []
    },
    {
      "cell_type": "code",
      "metadata": {
        "id": "qHA8m3NUlrIB"
      },
      "source": [
        ""
      ],
      "execution_count": null,
      "outputs": []
    },
    {
      "cell_type": "markdown",
      "metadata": {
        "id": "fhfdC6d8p8nG"
      },
      "source": [
        "If a function has some hyperparameters that need to be saved along with the model,\n",
        "then you will want to subclass the appropriate class, such as keras.regulariz\n",
        "ers.Regularizer, keras.constraints.Constraint, keras.initializers.Initial\n",
        "izer or keras.layers.Layer (for any layer, including activation functions). For\n",
        "example, much like we did for the custom loss"
      ]
    },
    {
      "cell_type": "code",
      "metadata": {
        "id": "1IlTsJBtlrLv"
      },
      "source": [
        "# custom l1 regularizer class\n",
        "class MyL1Regularizer(keras.regularizers.Regularizer):\n",
        "\n",
        "    def __init__(self, factor):\n",
        "        self.factor = factor\n",
        "    \n",
        "    def __call__(self, weights):\n",
        "        return tf.reduce_sum(tf.abs(self.factor * weights))\n",
        "\n",
        "    def get_config(self):\n",
        "        return {\"factor\": self.factor}\n",
        "        "
      ],
      "execution_count": null,
      "outputs": []
    },
    {
      "cell_type": "markdown",
      "metadata": {
        "id": "uNu4W22VrIWx"
      },
      "source": [
        "Implement the call() method for losses, layers (including activation\n",
        "functions) and models, or the \\_\\_call\\_\\_() method for regularizers, initializers\n",
        "and constraints. For metrics, things are a bit different,"
      ]
    },
    {
      "cell_type": "markdown",
      "metadata": {
        "id": "ph08PPwIrMcJ"
      },
      "source": [
        "## Custom metrics\n",
        "Losses and metrics are conceptually not the same thing: losses are used by Gradient\n",
        "Descent to train a model, so they must be differentiable (at least where they are evaluated)\n",
        "and their gradients should not be 0 everywhere. Plus, it’s okay if they are not\n",
        "easily interpretable by humans (e.g. cross-entropy). In contrast, metrics are used to\n",
        "evaluate a model, they must be more easily interpretable, a\n",
        "\n",
        "in most cases, defining a custom metric function is exactly the same as\n",
        "defining a custom loss function. In fact, we could even use the Huber loss function we\n",
        "created earlier as a metric6, it would work just fine (and persistence would also work\n",
        "the same way, in this case only saving the name of the function, \"huber_fn\"):\n"
      ]
    },
    {
      "cell_type": "code",
      "metadata": {
        "id": "Fqq4c_GNlrN2"
      },
      "source": [
        "model.compile(loss=\"mse\", optimizer=\"nadam\", metrics=[create_huber(2.0)])\n"
      ],
      "execution_count": null,
      "outputs": []
    },
    {
      "cell_type": "markdown",
      "metadata": {
        "id": "HDpvCCKHwUMI"
      },
      "source": [
        "For each batch during training, Keras will compute this metric and keep track mean since the beginning of the epoch. Most of the time, this is exactly what you\n",
        "want. But not always! Consider a binary classifier’s precision, for example. As we saw\n",
        "in Chapter 3, precision is the number of true positives divided by the number of positive\n",
        "predictions (including both true positives and false positives). Suppose the model\n",
        "made 5 positive predictions in the first batch, 4 of which were correct: that’s 80% precision.\n",
        "Then suppose the model made 3 positive predictions in the second batch, but\n",
        "they were all incorrect: that’s 0% precision for the second batch. If you just compute\n",
        "the mean of these two precisions, you get 40%. But wait a second, this is not the model’s\n",
        "precision over these two batches! Indeed, there were a total of 4 true positives (4 +\n",
        "0) out of 8 positive predictions (5 + 3), so the overall precision is 50%, not 40%. What\n",
        "we need is an object that can keep track of the number of true positives and the numbur of false positives, and compute their ratio when requested. This is precisely what\n",
        "the keras.metrics.Precision class does:"
      ]
    },
    {
      "cell_type": "code",
      "metadata": {
        "colab": {
          "base_uri": "https://localhost:8080/"
        },
        "id": "7wFtXFbBlrQr",
        "outputId": "085b8153-e6c4-4cec-984f-96946e4e9e39"
      },
      "source": [
        "precision = keras.metrics.Precision()\n",
        "precision([0, 1, 1, 1, 0, 1, 0, 1], [1, 1, 0, 1, 0, 1, 0, 1])"
      ],
      "execution_count": 13,
      "outputs": [
        {
          "output_type": "execute_result",
          "data": {
            "text/plain": [
              "<tf.Tensor: shape=(), dtype=float32, numpy=0.8>"
            ]
          },
          "metadata": {
            "tags": []
          },
          "execution_count": 13
        }
      ]
    },
    {
      "cell_type": "code",
      "metadata": {
        "colab": {
          "base_uri": "https://localhost:8080/"
        },
        "id": "vyGd8BfqlrTZ",
        "outputId": "abe23b7e-3d9c-4f88-c7a0-22ab61088632"
      },
      "source": [
        "precision([0, 1, 0, 0, 1, 0, 1, 1], [1, 0, 1, 1, 0, 0, 0, 0])\n"
      ],
      "execution_count": 14,
      "outputs": [
        {
          "output_type": "execute_result",
          "data": {
            "text/plain": [
              "<tf.Tensor: shape=(), dtype=float32, numpy=0.5>"
            ]
          },
          "metadata": {
            "tags": []
          },
          "execution_count": 14
        }
      ]
    },
    {
      "cell_type": "code",
      "metadata": {
        "colab": {
          "base_uri": "https://localhost:8080/"
        },
        "id": "MFGxVjZZlrWO",
        "outputId": "1f568ed3-019b-4cb5-c806-52ef11ae5a6e"
      },
      "source": [
        "precision.result()"
      ],
      "execution_count": 15,
      "outputs": [
        {
          "output_type": "execute_result",
          "data": {
            "text/plain": [
              "<tf.Tensor: shape=(), dtype=float32, numpy=0.5>"
            ]
          },
          "metadata": {
            "tags": []
          },
          "execution_count": 15
        }
      ]
    },
    {
      "cell_type": "code",
      "metadata": {
        "colab": {
          "base_uri": "https://localhost:8080/"
        },
        "id": "BmGrZXm1lrZ5",
        "outputId": "8bfef52a-1595-4e8b-9cea-45bf05be86d2"
      },
      "source": [
        "precision.variables"
      ],
      "execution_count": 16,
      "outputs": [
        {
          "output_type": "execute_result",
          "data": {
            "text/plain": [
              "[<tf.Variable 'true_positives:0' shape=(1,) dtype=float32, numpy=array([4.], dtype=float32)>,\n",
              " <tf.Variable 'false_positives:0' shape=(1,) dtype=float32, numpy=array([4.], dtype=float32)>]"
            ]
          },
          "metadata": {
            "tags": []
          },
          "execution_count": 16
        }
      ]
    },
    {
      "cell_type": "code",
      "metadata": {
        "colab": {
          "base_uri": "https://localhost:8080/"
        },
        "id": "bR0lszaKxq0r",
        "outputId": "9a1fcc73-fa80-4cf6-f7d8-78021c056ab9"
      },
      "source": [
        "precision.true_positives, precision.false_positives"
      ],
      "execution_count": 18,
      "outputs": [
        {
          "output_type": "execute_result",
          "data": {
            "text/plain": [
              "(<tf.Variable 'true_positives:0' shape=(1,) dtype=float32, numpy=array([4.], dtype=float32)>,\n",
              " <tf.Variable 'false_positives:0' shape=(1,) dtype=float32, numpy=array([4.], dtype=float32)>)"
            ]
          },
          "metadata": {
            "tags": []
          },
          "execution_count": 18
        }
      ]
    },
    {
      "cell_type": "code",
      "metadata": {
        "id": "qn4qIdKTxq3f"
      },
      "source": [
        "precision.reset_states()"
      ],
      "execution_count": 19,
      "outputs": []
    },
    {
      "cell_type": "code",
      "metadata": {
        "colab": {
          "base_uri": "https://localhost:8080/"
        },
        "id": "7L8cagGmxq7Z",
        "outputId": "de83714d-2cca-4022-e6a0-c000d3a0f254"
      },
      "source": [
        "precision.variables, precision.result()"
      ],
      "execution_count": 20,
      "outputs": [
        {
          "output_type": "execute_result",
          "data": {
            "text/plain": [
              "([<tf.Variable 'true_positives:0' shape=(1,) dtype=float32, numpy=array([0.], dtype=float32)>,\n",
              "  <tf.Variable 'false_positives:0' shape=(1,) dtype=float32, numpy=array([0.], dtype=float32)>],\n",
              " <tf.Tensor: shape=(), dtype=float32, numpy=0.0>)"
            ]
          },
          "metadata": {
            "tags": []
          },
          "execution_count": 20
        }
      ]
    },
    {
      "cell_type": "code",
      "metadata": {
        "id": "BX1-6L2Uxq9p"
      },
      "source": [
        ""
      ],
      "execution_count": null,
      "outputs": []
    },
    {
      "cell_type": "code",
      "metadata": {
        "id": "UDVNVqTxxrAN"
      },
      "source": [
        ""
      ],
      "execution_count": null,
      "outputs": []
    },
    {
      "cell_type": "code",
      "metadata": {
        "id": "Wu6HdHGrxrDC"
      },
      "source": [
        ""
      ],
      "execution_count": null,
      "outputs": []
    },
    {
      "cell_type": "code",
      "metadata": {
        "id": "B9BNT8ZZxrF5"
      },
      "source": [
        ""
      ],
      "execution_count": null,
      "outputs": []
    },
    {
      "cell_type": "markdown",
      "metadata": {
        "id": "wTw4NjdJkMxm"
      },
      "source": [
        ""
      ]
    },
    {
      "cell_type": "markdown",
      "metadata": {
        "id": "iazzS_DskM0D"
      },
      "source": [
        ""
      ]
    },
    {
      "cell_type": "markdown",
      "metadata": {
        "id": "IvU55xsXkM2w"
      },
      "source": [
        ""
      ]
    },
    {
      "cell_type": "markdown",
      "metadata": {
        "id": "4i2MF9yBkM5d"
      },
      "source": [
        ""
      ]
    },
    {
      "cell_type": "markdown",
      "metadata": {
        "id": "zj_cbVdgkNLL"
      },
      "source": [
        ""
      ]
    },
    {
      "cell_type": "code",
      "metadata": {
        "id": "G-ka5kL9kNWQ"
      },
      "source": [
        ""
      ],
      "execution_count": null,
      "outputs": []
    },
    {
      "cell_type": "code",
      "metadata": {
        "id": "0Y1EiEx2kNZC"
      },
      "source": [
        ""
      ],
      "execution_count": null,
      "outputs": []
    }
  ]
}