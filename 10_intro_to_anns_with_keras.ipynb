{
  "nbformat": 4,
  "nbformat_minor": 0,
  "metadata": {
    "colab": {
      "name": "10_intro_to_anns_with_keras.ipynb",
      "provenance": [],
      "collapsed_sections": [],
      "toc_visible": true,
      "authorship_tag": "ABX9TyNWqUvRhaaOU1AJ/NGSPoKr",
      "include_colab_link": true
    },
    "kernelspec": {
      "name": "python3",
      "display_name": "Python 3"
    },
    "accelerator": "GPU"
  },
  "cells": [
    {
      "cell_type": "markdown",
      "metadata": {
        "id": "view-in-github",
        "colab_type": "text"
      },
      "source": [
        "<a href=\"https://colab.research.google.com/github/Richish/hands_on_ml/blob/master/10_intro_to_anns_with_keras.ipynb\" target=\"_parent\"><img src=\"https://colab.research.google.com/assets/colab-badge.svg\" alt=\"Open In Colab\"/></a>"
      ]
    },
    {
      "cell_type": "markdown",
      "metadata": {
        "id": "VSqTeFKaCj1O"
      },
      "source": [
        "Why is this wave of interest in anns different than the last one-\n",
        "1. There is now a huge quantity of data available to train neural networks, and\n",
        "ANNs frequently outperform other ML techniques on very large and complex\n",
        "problems.\n",
        "2. Increase in compute today.\n",
        "3. Some theoretical limitations of ANNs have turned out to be benign in practice.\n",
        "For example, many people thought that ANN training algorithms were doomed\n",
        "because they were likely to get stuck in local optima, but it turns out that this is\n",
        "rather rare in practice (or when it is the case, they are usually fairly close to the\n",
        "global optimum)."
      ]
    },
    {
      "cell_type": "markdown",
      "metadata": {
        "id": "EgXJTT5xCj4Y"
      },
      "source": [
        "Biological brains of mammals- vast network of billions of neurons. each neuron Typically connected to thousands of other neurons. Highly complex computations can be performed by a vast network of fairly simple neurons."
      ]
    },
    {
      "cell_type": "markdown",
      "metadata": {
        "id": "hKFDdckFCj7L"
      },
      "source": [
        "Artificial neuron- It has one or more binary (on/off) inputs and one binary output. The artificial neuron simply activates its output when more than a certain number of its inputs are active. McCulloch and Pitts showed that even with such a simplified model(with just- identity, and, or, xor operations) it is possible to build a network of\n",
        "artificial neurons that computes any logical proposition you want."
      ]
    },
    {
      "cell_type": "markdown",
      "metadata": {
        "id": "o--EZRizCj9w"
      },
      "source": [
        "# The Perceptron\n",
        "It is one of the simplest ANN architectures, invented in 1957 by Frank\n",
        "Rosenblatt. It is based on a slightly different artificial neuron called\n",
        "From Biological to Artificial Neurons a threshold logic unit (TLU), or sometimes a linear threshold unit (LTU): the inputs and output are now numbers (instead of binary on/off values) and each input connection is associated with a weight. The TLU computes a weighted sum of its inputs\n",
        "(z = w1 x1 + w2 x2 + ⋯ + wn xn = xT w), then applies a step function to that sum and outputs the result: hw(x) = step(z), where z = xT w.\n",
        "\n"
      ]
    },
    {
      "cell_type": "markdown",
      "metadata": {
        "id": "5Mf2Ak_sCkAR"
      },
      "source": [
        "The most common step function used in Perceptrons is the Heaviside step function\n",
        "heaviside(z) = 0 if z<0 else 1\n",
        "\n",
        "A single TLU can be used for simple linear binary classification. It computes a linear combination of the inputs and if the result exceeds a threshold, it outputs the positive class or else outputs the negative class.\n",
        "\n",
        "A Perceptron is simply composed of a single layer of TLUs, with each TLU connected\n",
        "to all the inputs. When all the neurons in a layer are connected to every neuron in the\n",
        "previous layer (i.e., its input neurons), it is called a fully connected layer or a dense\n",
        "layer. To represent the fact that each input is sent to every TLU, it is common to draw\n",
        "special passthrough neurons called input neurons: they just output whatever input\n",
        "they are fed. All the input neurons form the input layer. Moreover, an extra bias feature is generally added (x0 = 1): it is typically represented using a special type of neuron\n",
        "called a bias neuron, which just outputs 1 all the time. \n",
        "\n",
        "A Perceptron with two inputs and three outputs can classify instances simultaneously into three different binary classes, which makes it a multioutput\n",
        "classifier.\n",
        "\n",
        "hW, b( X) = ϕ(XW + b)\n"
      ]
    },
    {
      "cell_type": "markdown",
      "metadata": {
        "id": "49_aPiuCCkC-"
      },
      "source": [
        "How are perceptrons trained- More specifically, the Perceptron is fed one\n",
        "training instance at a time, and for each instance it makes its predictions. For every output neuron that produced a wrong prediction, it reinforces the connection weights from the inputs that would have contributed to the correct prediction.\n",
        "\n",
        "wi, j next step = wi, j + η (y{j} − ÿ{j}).x{i}"
      ]
    },
    {
      "cell_type": "markdown",
      "metadata": {
        "id": "THnWeaKMCkFl"
      },
      "source": [
        "The decision boundary of each output neuron is linear, so Perceptrons are incapable\n",
        "of learning complex patterns (just like Logistic Regression classifiers). However, if the\n",
        "training instances are linearly separable, Rosenblatt demonstrated that this algorithm\n",
        "would converge to a solution.7 This is called the Perceptron convergence theorem.\n",
        "\n"
      ]
    },
    {
      "cell_type": "markdown",
      "metadata": {
        "id": "ajuuRRa-CkIH"
      },
      "source": [
        "## Perceptron with sklearn"
      ]
    },
    {
      "cell_type": "code",
      "metadata": {
        "id": "7nHcqGoUKc4s",
        "outputId": "4c462ff2-0d2a-4ae0-a21b-dd2c75c90693",
        "colab": {
          "base_uri": "https://localhost:8080/",
          "height": 85
        }
      },
      "source": [
        "import numpy as np\n",
        "from sklearn.datasets import load_iris\n",
        "from sklearn.linear_model import Perceptron\n",
        "\n",
        "iris = load_iris()\n",
        "X = iris.data[:, (2, 3)] # petal length, petal width\n",
        "y = (iris.target == 0).astype(np.int) # Iris Setosa?\n",
        "per_clf = Perceptron()\n",
        "per_clf.fit(X, y)"
      ],
      "execution_count": 43,
      "outputs": [
        {
          "output_type": "execute_result",
          "data": {
            "text/plain": [
              "Perceptron(alpha=0.0001, class_weight=None, early_stopping=False, eta0=1.0,\n",
              "           fit_intercept=True, max_iter=1000, n_iter_no_change=5, n_jobs=None,\n",
              "           penalty=None, random_state=0, shuffle=True, tol=0.001,\n",
              "           validation_fraction=0.1, verbose=0, warm_start=False)"
            ]
          },
          "metadata": {
            "tags": []
          },
          "execution_count": 43
        }
      ]
    },
    {
      "cell_type": "code",
      "metadata": {
        "id": "UYNXR-HHK1V1",
        "outputId": "7cb53d8e-c79d-4ff4-a2c5-5ede7c44a5d0",
        "colab": {
          "base_uri": "https://localhost:8080/",
          "height": 34
        }
      },
      "source": [
        "y_pred = per_clf.predict([[2, 0.5]])\n",
        "\n",
        "y_pred"
      ],
      "execution_count": 44,
      "outputs": [
        {
          "output_type": "execute_result",
          "data": {
            "text/plain": [
              "array([0])"
            ]
          },
          "metadata": {
            "tags": []
          },
          "execution_count": 44
        }
      ]
    },
    {
      "cell_type": "markdown",
      "metadata": {
        "id": "dFIyjgYtCkK6"
      },
      "source": [
        "### sklearn's Perceptron vs SGDClassifier\n",
        "Scikit-Learn’s Perceptron class is equivalent\n",
        "to using an SGDClassifier with the following hyperparameters: loss=\"perceptron\",\n",
        "learning_rate=\"constant\", eta0=1 (the learning rate), and penalty=None (no regularization).\n",
        "\n",
        "However, contrary to Logistic Regression classifiers, Perceptrons do not output a class probability; rather, they just make predictions based on a hard threshold. This is one of the good reasons to prefer Logistic Regression over Perceptrons."
      ]
    },
    {
      "cell_type": "markdown",
      "metadata": {
        "id": "ea5W_U6bCkNg"
      },
      "source": [
        ""
      ]
    },
    {
      "cell_type": "markdown",
      "metadata": {
        "id": "QYFx36JtCkQI"
      },
      "source": [
        "## Limitations of perceptrons:\n",
        "a number of serious weaknesses of Perceptrons, in particular the fact that\n",
        "they are incapable of solving some trivial problems (e.g., the Exclusive OR (XOR) classification problem.\n",
        "\n"
      ]
    },
    {
      "cell_type": "markdown",
      "metadata": {
        "id": "DvYDiDz1CkSo"
      },
      "source": [
        "# Multi-Layer perceptrons (MLP)\n",
        "some of the limitations of Perceptrons can be eliminated by\n",
        "stacking multiple Perceptrons. The resulting ANN is called a Multi-Layer Perceptron (MLP). In particular, an MLP can solve the XOR problem.\n",
        "\n",
        "An MLP is composed of one (passthrough) input layer, one or more layers of TLUs,\n",
        "called hidden layers, and one final layer of TLUs called the output layer. The layers close to the input layer are usually called the lower layers,\n",
        "and the ones close to the outputs are usually called the upper layers. Every layer except the output layer includes a bias neuron and is fully connected to the next layer.\n",
        "\n",
        "When an ANN contains a deep stack of hidden layers8, it is called a deep neural network(DNN)."
      ]
    },
    {
      "cell_type": "markdown",
      "metadata": {
        "id": "FacLGPryMGVQ"
      },
      "source": [
        "## Multi-Layer Perceptron and Backpropagation:\n",
        "Backpropagation: it is simply Gradient Descent using an efficient technique for computing the gradients automatically: in just two passes through the network (one forward, one backward), the backpropagation algorithm is able to compute the gradient of the network’s error with regards to every single model parameter. In other words, it can find out how each connection weight and\n",
        "each bias term should be tweaked in order to reduce the error. Once it has these gradients, it just performs a regular Gradient Descent step, and the whole process is repeated until the network converges to the solution.\n",
        "\n",
        "Autodiff- Automatically computing gradients is called automatic differentiation,\n",
        "or autodiff. There are various autodiff techniques, with different\n",
        "pros and cons. The one used by backpropagation is called\n",
        "reverse-mode autodiff. It is fast and precise, and is well suited when\n",
        "the function to differentiate has many variables (e.g., connection\n",
        "weights) and few outputs (e.g., one loss)."
      ]
    },
    {
      "cell_type": "markdown",
      "metadata": {
        "id": "coD0o3dsMGYE"
      },
      "source": [
        "## Backpropagation in detail:\n",
        "1. It handles one mini-batch at a time (for example containing 32 instances each), and it goes through the full training set multiple times. Each pass is called an epoch.\n",
        "2. Each mini-batch is passed to the network’s input layer, which just sends it to the first hidden layer. The algorithm then computes the output of all the neurons in this layer (for every instance in the mini-batch). The result is passed on to the next layer, its output is computed and passed to the next layer, and so on until we get the output of the last layer, the output layer. This is the forward pass: it is exactly like making predictions, except all intermediate results are preserved since they are needed for the backward pass.\n",
        "3. Next, the algorithm measures the network’s output error (i.e., it uses a loss function that compares the desired output and the actual output of the network, and returns some measure of the error).\n",
        "4. Then it computes how much each output connection contributed to the error.\n",
        "This is done analytically by simply **applying the chain rule** (perhaps the most fundamental rule in calculus), which makes this step fast and precise.\n",
        "5. The algorithm then measures how much of these error contributions came from\n",
        "each connection in the layer below, again using the chain rule—and so on until\n",
        "the algorithm reaches the input layer. As we explained earlier, this reverse pass efficiently measures the error gradient across all the connection weights in the network by propagating the error gradient backward through the network (hence the name of the algorithm).\n",
        "6. Finally, the algorithm performs a Gradient Descent step to tweak all the connection weights in the network, using the error gradients it just computed."
      ]
    },
    {
      "cell_type": "markdown",
      "metadata": {
        "id": "bIZBTvVeMGau"
      },
      "source": [
        "**It is important to initialize all the hidden layers’ connection weights\n",
        "randomly, or else training will fail.** For example, if you initialize all\n",
        "weights and biases to zero, then all neurons in a given layer will be\n",
        "perfectly identical, and thus backpropagation will affect them in\n",
        "exactly the same way, so they will remain identical. In other words,\n",
        "despite having hundreds of neurons per layer, your model will act\n",
        "as if it had only one neuron per layer: it won’t be too smart. If\n",
        "instead you randomly initialize the weights, you break the symmetry\n",
        "and allow backpropagation to train a diverse team of neurons."
      ]
    },
    {
      "cell_type": "markdown",
      "metadata": {
        "id": "mUFLuBAmMGdR"
      },
      "source": [
        "## Step function in MLP:\n",
        "\n",
        "In order for this algorithm to work properly, the authors made a key change to the MLP’s architecture: they replaced the step function with the logistic function, σ(z) = 1 / (1 + exp(–z)). This was essential because the step function contains only flat segments, so there is no gradient to work with (Gradient Descent cannot move on a flat surface), while the logistic function has a well-defined nonzero derivative everywhere, allowing Gradient Descent to make some progress at every step. In fact, the backpropagation algorithm works well with many other activation functions, not just the logistic function. Two other popular activation functions are:\n",
        "\n",
        "### The hyperbolic tangent function tanh(z) = 2σ(2z) – 1\n",
        "Just like the logistic function it is S-shaped, continuous, and differentiable, but its output value ranges from –1 to 1 (instead of 0 to 1 in the case of the logistic function), which tends to make each layer’s output more or less centered around 0 at the beginning of training. This often helps speed up convergence.\n",
        "\n",
        "### The Rectified Linear Unit function: ReLU(z) = max(0, z)\n",
        "It is continuous but unfortunately not differentiable at z = 0 (the slope changes abruptly, which can make Gradient Descent bounce around), and its derivative is 0 for z < 0. However, in practice it works very well and has the advantage of being fast to compute11. Most importantly, the fact that it does not have a maximum output value also helps reduce some issues during Gradient Descent.\n",
        "\n",
        "### Why do we need step function:\n",
        "If you chain several linear transformations, all you get is a linear transformation. For example, say f(x) = 2 x + 3 and g(x) = 5 x - 1, then chaining these two linear functions gives you another linear function: f(g(x)) = 2(5 x - 1) + 3 = 10 x + 1. So if you don’t have some non-linearity between layers, then even a deep stack of layers is equivalent to a single layer: you cannot solve very complex problems with that."
      ]
    },
    {
      "cell_type": "markdown",
      "metadata": {
        "id": "XHnYUkKzMGf1"
      },
      "source": [
        "## Regresssion MLPs\n",
        "If you want to predict a single value (e.g.,\n",
        "the price of a house given many of its features), then you just need a single output\n",
        "neuron: its output is the predicted value. For multivariate regression (i.e., to predict\n",
        "multiple values at once), you need one output neuron per output dimension.\n",
        "\n",
        "## Choice of activation function:\n",
        "In general, when building an MLP for regression, you do not want to use any activation\n",
        "function for the output neurons, so they are free to output any range of values.\n",
        "However, if you want to guarantee that the output will always be positive, then you\n",
        "can use the ReLU activation function, or the softplus activation function in the output\n",
        "layer. Finally, if you want to guarantee that the predictions will fall within a given\n",
        "range of values, then you can use the logistic function or the hyperbolic tangent, and\n",
        "scale the labels to the appropriate range: 0 to 1 for the logistic function, or –1 to 1 for\n",
        "the hyperbolic tangent."
      ]
    },
    {
      "cell_type": "markdown",
      "metadata": {
        "id": "v6LjP4T8MGib"
      },
      "source": [
        "### Choice of loss function:\n",
        "The loss function to use during training is typically the mean squared error, but if you have a lot of outliers in the training set, you may prefer to use the mean absolute error instead. Alternatively, you can use the Huber loss, which is a combination of both.\n",
        "\n",
        "The Huber loss is quadratic when the error is smaller than a threshold\n",
        "δ (typically 1), but linear when the error is larger than δ. This\n",
        "makes it less sensitive to outliers than the mean squared error, and\n",
        "it is often more precise and converges faster than the mean absolute\n",
        "error."
      ]
    },
    {
      "cell_type": "markdown",
      "metadata": {
        "id": "CLnodWeIMGmA"
      },
      "source": [
        "## Typical Regression MLP Architecture\n",
        "1. input neurons - One per input feature (e.g., 28 x 28 = 784 for MNIST)\n",
        "2. hidden layers - Depends on the problem. Typically 1 to 5.\n",
        "3. neurons per hidden layer - Depends on the problem. Typically 10 to 100.\n",
        "4. output neurons - 1 per prediction dimension\n",
        "5. Hidden activation - ReLU (or SELU, see Chapter 11)\n",
        "6. Output activation - None or ReLU/Softplus (if positive outputs) or Logistic Tanh (if bounded outputs)\n",
        "7. Loss function - MSE or MAE/Huber (if outliers).\n",
        "\n"
      ]
    },
    {
      "cell_type": "markdown",
      "metadata": {
        "id": "wyts1ec4MGo-"
      },
      "source": [
        "## Classification MLPs\n",
        "\n",
        "### Binary classification:\n",
        "Needs a single output neuron using the logistic activation function: the output will be a number between 0 and 1, which you can interpret as the estimated probability of the positive class.\n",
        "\n",
        "### Multi-label classification:\n",
        "For example, you could have an email classification system that predicts whether each incoming email is ham or spam, and simultaneously predicts whether it is an urgent or non-urgent email. In this case, you would need two output neurons, both using the logistic activation function. More generally, you would dedicate one output neuron for each positive class. Note that the output probabilities do not necessarily add up to one. This lets the model output any combination of labels: you can have non-urgent ham, urgent ham, non-urgent spam, and perhaps even urgent spam (although that would probably be an error).\n",
        "\n",
        "### Multi-class classsification:\n",
        "If each instance can belong only to a single class, out of 3 or more possible classes (e.g., classes 0 through 9 for digit image classification), then you need to have one output neuron per class, and you should use the softmax activation function for the whole output layer. The softmax function will ensure that all the estimated probabilities are between 0 and 1 and that they add\n",
        "up to one (which is required if the classes are exclusive). This is called multiclass classification.\n",
        "\n",
        "### Loss function for classification:\n",
        "Since we are predicting probability distributions, the cross-entropy (also called the log loss) is generally a good choice.\n"
      ]
    },
    {
      "cell_type": "markdown",
      "metadata": {
        "id": "rgL63P7CMGrl"
      },
      "source": [
        "# Implementing MLPs with keras\n",
        "\n",
        "## Keras:\n",
        "To perform the heavy computations required by neural networks, keras-team relies on a computation backend. At the present, you can choose from three popular open source deep learning libraries: TensorFlow, Microsoft Cognitive Toolkit (CNTK) or Theano.\n",
        "\n",
        "TensorFlow itself now comes bundled with its own Keras implementation called tf.keras. It only supports TensorFlow as the backend, but it has\n",
        "the advantage of offering some very useful extra features: for\n",
        "example, it supports TensorFlow’s Data API which makes it quite easy to load and preprocess data efficiently."
      ]
    },
    {
      "cell_type": "code",
      "metadata": {
        "id": "ABWlv_Jkp9qY",
        "outputId": "82f91803-a2b7-4c78-b206-92276114fff1",
        "colab": {
          "base_uri": "https://localhost:8080/",
          "height": 34
        }
      },
      "source": [
        "import tensorflow as tf\n",
        "from tensorflow import keras\n",
        "tf.__version__, keras.__version__"
      ],
      "execution_count": 45,
      "outputs": [
        {
          "output_type": "execute_result",
          "data": {
            "text/plain": [
              "('2.3.0', '2.4.0')"
            ]
          },
          "metadata": {
            "tags": []
          },
          "execution_count": 45
        }
      ]
    },
    {
      "cell_type": "markdown",
      "metadata": {
        "id": "5zNqbCjKMGuV"
      },
      "source": [
        "## Building an image classifier using sequential api of keras:\n",
        "\n",
        "Using Fashion MNIST data.\n",
        "It has the exact same format as\n",
        "MNIST (70,000 grayscale images of 28×28 pixels each, with 10 classes), but the\n",
        "images represent fashion items rather than handwritten digits, so each class is more\n",
        "diverse and the problem turns out to be significantly more challenging than MNIST.\n",
        "For example, a simple linear model reaches about 92% accuracy on MNIST, but only\n",
        "about 83% on Fashion MNIST.\n",
        "\n"
      ]
    },
    {
      "cell_type": "code",
      "metadata": {
        "id": "r698E38dqUuW",
        "outputId": "8cfa7579-dde3-4308-ed77-3983ec05a7d9",
        "colab": {
          "base_uri": "https://localhost:8080/",
          "height": 238
        }
      },
      "source": [
        "# Loading data using keras\n",
        "\n",
        "fashion_mnist = keras.datasets.fashion_mnist\n",
        "help(fashion_mnist)\n",
        "(X_train_full, y_train_full), (X_test, y_test) = fashion_mnist.load_data()\n",
        "X_train_full.shape, X_train_full.dtype"
      ],
      "execution_count": 46,
      "outputs": [
        {
          "output_type": "stream",
          "text": [
            "Help on package tensorflow.keras.datasets.fashion_mnist in tensorflow.keras.datasets:\n",
            "\n",
            "NAME\n",
            "    tensorflow.keras.datasets.fashion_mnist - Fashion-MNIST dataset.\n",
            "\n",
            "PACKAGE CONTENTS\n",
            "\n",
            "\n",
            "FILE\n",
            "    /usr/local/lib/python3.6/dist-packages/tensorflow/keras/datasets/fashion_mnist/__init__.py\n",
            "\n",
            "\n"
          ],
          "name": "stdout"
        },
        {
          "output_type": "execute_result",
          "data": {
            "text/plain": [
              "((60000, 28, 28), dtype('uint8'))"
            ]
          },
          "metadata": {
            "tags": []
          },
          "execution_count": 46
        }
      ]
    },
    {
      "cell_type": "markdown",
      "metadata": {
        "id": "vqm49T03MGw3"
      },
      "source": [
        "### Loading MNIST or Fashion MNIST using Keras vs Scikit-Learn, one\n",
        "Important difference is that every image is represented as a 28×28 array rather than a 1D array of size 784. Moreover, the pixel intensities are represented as integers (from0 to 255) rather than floats (from 0.0 to 255.0).\n",
        "\n",
        "Note that the dataset is already split into a training set and a test set, but there is no validation set, so let’s create one. Moreover, since we are going to **train the neural network using Gradient Descent, we must scale the input features***. For simplicity, we just\n",
        "scale the pixel intensities down to the 0-1 range by dividing them by 255.0 (this also\n",
        "converts them to floats):"
      ]
    },
    {
      "cell_type": "code",
      "metadata": {
        "id": "4qWH-ZmjriQe",
        "outputId": "3c0acf96-10b9-4435-8ec1-354a5dd9d6b9",
        "colab": {
          "base_uri": "https://localhost:8080/",
          "height": 35
        }
      },
      "source": [
        "X_valid, X_train = X_train_full[:5000] / 255.0, X_train_full[5000:] / 255.0\n",
        "y_valid, y_train = y_train_full[:5000], y_train_full[5000:]\n",
        "\n",
        "# we have to define what cleass each number in y represent\n",
        "class_names = [\"T-shirt/top\", \"Trouser\", \"Pullover\", \"Dress\", \"Coat\",\n",
        "\"Sandal\", \"Shirt\", \"Sneaker\", \"Bag\", \"Ankle boot\"]\n",
        "\n",
        "class_names[y_train[0]]"
      ],
      "execution_count": 47,
      "outputs": [
        {
          "output_type": "execute_result",
          "data": {
            "application/vnd.google.colaboratory.intrinsic+json": {
              "type": "string"
            },
            "text/plain": [
              "'Coat'"
            ]
          },
          "metadata": {
            "tags": []
          },
          "execution_count": 47
        }
      ]
    },
    {
      "cell_type": "markdown",
      "metadata": {
        "id": "4_8rcaVRtRlp"
      },
      "source": [
        "### Creating the Model Using the Sequential API"
      ]
    },
    {
      "cell_type": "code",
      "metadata": {
        "id": "VEjEpJ6QtNZG",
        "outputId": "2207abd6-07f6-4ee6-96c3-1c86aa42fed8",
        "colab": {
          "base_uri": "https://localhost:8080/",
          "height": 289
        }
      },
      "source": [
        "# Creating the Model Using the Sequential API\n",
        "from keras.models import Sequential\n",
        "from keras.layers import Flatten, Dense\n",
        "\n",
        "model = Sequential()\n",
        "model.add(Flatten(input_shape=[28,28])) # alternativel can use - model.add(keras.layers.InputLayer(shape=[28,28]))\n",
        "model.add(Dense(units=300, activation=\"relu\"))\n",
        "model.add(Dense(units=100, activation=\"relu\"))\n",
        "model.add(Dense(units=10, activation=\"softmax\")) # output layer 10 units-> 10 classes. softmax activation since it is multiclass classification\n",
        "\n",
        "model.summary()"
      ],
      "execution_count": 66,
      "outputs": [
        {
          "output_type": "stream",
          "text": [
            "Model: \"sequential_4\"\n",
            "_________________________________________________________________\n",
            "Layer (type)                 Output Shape              Param #   \n",
            "=================================================================\n",
            "flatten_3 (Flatten)          (None, 784)               0         \n",
            "_________________________________________________________________\n",
            "dense_9 (Dense)              (None, 300)               235500    \n",
            "_________________________________________________________________\n",
            "dense_10 (Dense)             (None, 100)               30100     \n",
            "_________________________________________________________________\n",
            "dense_11 (Dense)             (None, 10)                1010      \n",
            "=================================================================\n",
            "Total params: 266,610\n",
            "Trainable params: 266,610\n",
            "Non-trainable params: 0\n",
            "_________________________________________________________________\n"
          ],
          "name": "stdout"
        }
      ]
    },
    {
      "cell_type": "markdown",
      "metadata": {
        "id": "HDihWIErMGzh"
      },
      "source": [
        "None as first dimension in output shape of layers mean that batch size can be anything.\n",
        "\n",
        "More number of parameters in model gives the model quite a lot of flexibility to fit the training data, but it also means that the model runs the risk of overfitting, especially when you do not have a lot of training data."
      ]
    },
    {
      "cell_type": "code",
      "metadata": {
        "id": "JzydnmSZwd1N",
        "outputId": "e467a5ad-a0b0-4187-ab89-0b3544f69cff",
        "colab": {
          "base_uri": "https://localhost:8080/",
          "height": 71
        }
      },
      "source": [
        "# layers of a model can be listed as :\n",
        "\n",
        "print(model.layers)\n",
        "print(model.layers[0].name, model.layers[1].name, model.layers[2].name,model.layers[3].name)\n",
        "#print(model.get_layer('dense_2').name)"
      ],
      "execution_count": 67,
      "outputs": [
        {
          "output_type": "stream",
          "text": [
            "[<tensorflow.python.keras.layers.core.Flatten object at 0x7fe969a9fda0>, <tensorflow.python.keras.layers.core.Dense object at 0x7fe969aa36d8>, <tensorflow.python.keras.layers.core.Dense object at 0x7fe968053d30>, <tensorflow.python.keras.layers.core.Dense object at 0x7fe968062400>]\n",
            "flatten_3 dense_9 dense_10 dense_11\n"
          ],
          "name": "stdout"
        }
      ]
    },
    {
      "cell_type": "markdown",
      "metadata": {
        "id": "2vU89DHYMG2S"
      },
      "source": [
        "All the parameters of a layer can be accessed using its get_weights() and\n",
        "set_weights() method. For a Dense layer, this includes both the connection weights\n",
        "and the bias terms:"
      ]
    },
    {
      "cell_type": "code",
      "metadata": {
        "id": "T7_JVH14xuBY",
        "outputId": "86cf0b54-5069-4f42-a1f7-5e3e7098ced1",
        "colab": {
          "base_uri": "https://localhost:8080/",
          "height": 578
        }
      },
      "source": [
        "hidden1=model.get_layer('dense_9')\n",
        "weights, biases = hidden1.get_weights()\n",
        "weights.shape, biases.shape, weights, biases"
      ],
      "execution_count": 69,
      "outputs": [
        {
          "output_type": "execute_result",
          "data": {
            "text/plain": [
              "((784, 300),\n",
              " (300,),\n",
              " array([[-1.5212674e-02,  6.6495880e-02, -5.4218397e-03, ...,\n",
              "          5.7591066e-02,  5.8487982e-02,  3.6486447e-02],\n",
              "        [-1.6607173e-02,  2.6657544e-02,  7.3698714e-02, ...,\n",
              "         -4.1087892e-02, -7.3400393e-02, -3.1902578e-02],\n",
              "        [-6.8335399e-02, -8.0563128e-05,  6.4519867e-02, ...,\n",
              "          1.1998147e-02, -4.2076692e-02,  3.9360724e-02],\n",
              "        ...,\n",
              "        [ 5.4183185e-02, -9.6232668e-03,  2.2241034e-02, ...,\n",
              "          3.0676998e-02,  3.4056358e-02, -7.0022076e-02],\n",
              "        [-3.1640995e-02,  2.5689021e-02,  1.3987489e-02, ...,\n",
              "         -2.1036703e-02, -6.3982889e-02, -4.7445640e-02],\n",
              "        [ 5.4960579e-02, -1.8498063e-02, -7.0042908e-04, ...,\n",
              "         -1.9669168e-02,  4.1053042e-02, -6.4697951e-02]], dtype=float32),\n",
              " array([0., 0., 0., 0., 0., 0., 0., 0., 0., 0., 0., 0., 0., 0., 0., 0., 0.,\n",
              "        0., 0., 0., 0., 0., 0., 0., 0., 0., 0., 0., 0., 0., 0., 0., 0., 0.,\n",
              "        0., 0., 0., 0., 0., 0., 0., 0., 0., 0., 0., 0., 0., 0., 0., 0., 0.,\n",
              "        0., 0., 0., 0., 0., 0., 0., 0., 0., 0., 0., 0., 0., 0., 0., 0., 0.,\n",
              "        0., 0., 0., 0., 0., 0., 0., 0., 0., 0., 0., 0., 0., 0., 0., 0., 0.,\n",
              "        0., 0., 0., 0., 0., 0., 0., 0., 0., 0., 0., 0., 0., 0., 0., 0., 0.,\n",
              "        0., 0., 0., 0., 0., 0., 0., 0., 0., 0., 0., 0., 0., 0., 0., 0., 0.,\n",
              "        0., 0., 0., 0., 0., 0., 0., 0., 0., 0., 0., 0., 0., 0., 0., 0., 0.,\n",
              "        0., 0., 0., 0., 0., 0., 0., 0., 0., 0., 0., 0., 0., 0., 0., 0., 0.,\n",
              "        0., 0., 0., 0., 0., 0., 0., 0., 0., 0., 0., 0., 0., 0., 0., 0., 0.,\n",
              "        0., 0., 0., 0., 0., 0., 0., 0., 0., 0., 0., 0., 0., 0., 0., 0., 0.,\n",
              "        0., 0., 0., 0., 0., 0., 0., 0., 0., 0., 0., 0., 0., 0., 0., 0., 0.,\n",
              "        0., 0., 0., 0., 0., 0., 0., 0., 0., 0., 0., 0., 0., 0., 0., 0., 0.,\n",
              "        0., 0., 0., 0., 0., 0., 0., 0., 0., 0., 0., 0., 0., 0., 0., 0., 0.,\n",
              "        0., 0., 0., 0., 0., 0., 0., 0., 0., 0., 0., 0., 0., 0., 0., 0., 0.,\n",
              "        0., 0., 0., 0., 0., 0., 0., 0., 0., 0., 0., 0., 0., 0., 0., 0., 0.,\n",
              "        0., 0., 0., 0., 0., 0., 0., 0., 0., 0., 0., 0., 0., 0., 0., 0., 0.,\n",
              "        0., 0., 0., 0., 0., 0., 0., 0., 0., 0., 0.], dtype=float32))"
            ]
          },
          "metadata": {
            "tags": []
          },
          "execution_count": 69
        }
      ]
    },
    {
      "cell_type": "markdown",
      "metadata": {
        "id": "0jcxr-smybr2"
      },
      "source": [
        "Notice that the Dense layer initialized the connection weights randomly (which is needed to break symmetry), and the biases were just initialized\n",
        "to zeros, which is fine."
      ]
    },
    {
      "cell_type": "markdown",
      "metadata": {
        "id": "CFcuWKR4ybuZ"
      },
      "source": [
        "If you ever want to use a different initialization method,\n",
        "you can set kernel_initializer (kernel is another name for the matrix of connection\n",
        "weights) or bias_initializer when creating the layer.\n",
        "\n",
        "https://keras.io/api/layers/initializers/"
      ]
    },
    {
      "cell_type": "markdown",
      "metadata": {
        "id": "xgo5LzToybw6"
      },
      "source": [
        "The shape of the weight matrix depends on the number of inputs.\n",
        "This is why it is recommended to specify the input_shape when\n",
        "creating the first layer in a Sequential model. However, if you do\n",
        "not specify the input shape, it’s okay: Keras will simply wait until it\n",
        "knows the input shape before it actually builds the model. This will\n",
        "happen either when you feed it actual data (e.g., during training),\n",
        "or when you call its build() method. Until the model is really\n",
        "built, the layers will not have any weights, and you will not be able\n",
        "to do certain things (such as print the model summary or save the\n",
        "model), so if you know the input shape when creating the model, it\n",
        "is best to specify it."
      ]
    },
    {
      "cell_type": "markdown",
      "metadata": {
        "id": "9rL3PDN4ybz0"
      },
      "source": [
        "### Compiling the Model\n",
        "After a model is created, you must call its compile() method to specify the loss function and the optimizer to use. Optionally, you can also specify a list of extra metrics to compute during training and evaluation:"
      ]
    },
    {
      "cell_type": "code",
      "metadata": {
        "id": "eZ7gDWw-0Dxr"
      },
      "source": [
        "model.compile(optimizer=\"sgd\", loss=\"sparse_categorical_crossentropy\", metrics=[\"accuracy\"])\n"
      ],
      "execution_count": 70,
      "outputs": []
    },
    {
      "cell_type": "markdown",
      "metadata": {
        "id": "zNtscFZayb2x"
      },
      "source": [
        "Using loss=\"sparse_categorical_crossentropy\" is equivalent to\n",
        "loss=keras.losses.sparse_categorical_crossentropy. Similarly,\n",
        "optimizer=\"sgd\" is equivalent to optimizer=keras.optimiz\n",
        "ers.SGD() and metrics=[\"accuracy\"] is equivalent to\n",
        "metrics=[keras.metrics.sparse_categorical_accuracy] (when\n",
        "using this loss). We will use many other losses. See full lists at https://keras.io/losses/,\n",
        "https://keras.io/optimizers/ and https://keras.io/metrics/."
      ]
    },
    {
      "cell_type": "code",
      "metadata": {
        "id": "V9tDFSUq0rwM"
      },
      "source": [
        "# alternate compile using direct classes/functions\n",
        "model.compile(optimizer=keras.optimizers.SGD(), loss=keras.losses.sparse_categorical_crossentropy, metrics=[keras.metrics.sparse_categorical_accuracy])\n",
        "\n",
        "\n"
      ],
      "execution_count": 71,
      "outputs": []
    },
    {
      "cell_type": "markdown",
      "metadata": {
        "id": "PBjiZd9F1dch"
      },
      "source": [
        "### Loss selection for classification:\n",
        "\n",
        "First, we use the \"sparse_categorical_crossen\n",
        "tropy\" loss because we have sparse labels (i.e., for each instance there is just a target\n",
        "class index, from 0 to 9 in this case), and the classes are exclusive. If instead we had\n",
        "one target probability per class for each instance (such as one-hot vectors, e.g. [0.,\n",
        "0., 0., 1., 0., 0., 0., 0., 0., 0.] to represent class 3), then we would need\n",
        "to use the \"categorical_crossentropy\" loss instead. If we were doing binary classification\n",
        "(with one or more binary labels), then we would use the \"sigmoid\" (i.e.,\n",
        "logistic) activation function in the output layer instead of the \"softmax\" activation\n",
        "function, and we would use the \"binary_crossentropy\" loss."
      ]
    },
    {
      "cell_type": "markdown",
      "metadata": {
        "id": "u4a6DACg1nc8"
      },
      "source": [
        "If you want to convert sparse labels (i.e., class indices) to one-hot\n",
        "vector labels, you can use the keras.utils.to_categorical()\n",
        "function. To go the other way round, you can just use the np.arg\n",
        "max() function with axis=1.\n"
      ]
    },
    {
      "cell_type": "markdown",
      "metadata": {
        "id": "GSm0DlSK14HH"
      },
      "source": [
        "### Choice of optimizer:\n",
        "\"sgd\" simply means that we will train the model\n",
        "using simple Stochastic Gradient Descent. In other words, Keras will perform the\n",
        "backpropagation algorithm described earlier (i.e., reverse-mode autodiff + Gradient\n",
        "Descent). However there are more efficient optimizers."
      ]
    },
    {
      "cell_type": "markdown",
      "metadata": {
        "id": "TDigOiMo2AAN"
      },
      "source": [
        "### Metric's choice:\n",
        "For a classifier, it’s useful to measure its \"accuracy\" during training\n",
        "and evaluation."
      ]
    },
    {
      "cell_type": "markdown",
      "metadata": {
        "id": "F5PSzHA92NE9"
      },
      "source": [
        ""
      ]
    },
    {
      "cell_type": "markdown",
      "metadata": {
        "id": "FHp1dlBA2NNA"
      },
      "source": [
        "### Training and Evaluating the Model:\n",
        "We simply need to call its fit()\n",
        "method. We pass it the input features (X_train) and the target classes (y_train), as\n",
        "well as the number of epochs to train (or else it would default to just 1, which would\n",
        "definitely not be enough to converge to a good solution). We also pass a validation set\n",
        "(this is optional): Keras will measure the loss and the extra metrics on this set at the\n",
        "end of each epoch, which is very useful to see how well the model really performs: if\n",
        "the performance on the training set is much better than on the validation set, your\n",
        "model is probably overfitting the training set (or there is a bug, such as a data mismatch\n",
        "between the training set and the validation set)"
      ]
    },
    {
      "cell_type": "code",
      "metadata": {
        "id": "XVzqatpa2uU8",
        "outputId": "12e202b9-cd3c-417a-df6e-14268f67ce38",
        "colab": {
          "base_uri": "https://localhost:8080/",
          "height": 1000
        }
      },
      "source": [
        "history = model.fit(x=X_train, y=y_train, epochs=30, validation_data=(X_valid, y_valid))\n",
        "\n"
      ],
      "execution_count": 72,
      "outputs": [
        {
          "output_type": "stream",
          "text": [
            "Epoch 1/30\n",
            "1719/1719 [==============================] - 4s 2ms/step - loss: 0.7075 - sparse_categorical_accuracy: 0.7682 - val_loss: 0.5053 - val_sparse_categorical_accuracy: 0.8316\n",
            "Epoch 2/30\n",
            "1719/1719 [==============================] - 4s 2ms/step - loss: 0.4873 - sparse_categorical_accuracy: 0.8309 - val_loss: 0.4586 - val_sparse_categorical_accuracy: 0.8442\n",
            "Epoch 3/30\n",
            "1719/1719 [==============================] - 4s 2ms/step - loss: 0.4423 - sparse_categorical_accuracy: 0.8452 - val_loss: 0.4195 - val_sparse_categorical_accuracy: 0.8580\n",
            "Epoch 4/30\n",
            "1719/1719 [==============================] - 4s 2ms/step - loss: 0.4140 - sparse_categorical_accuracy: 0.8543 - val_loss: 0.3998 - val_sparse_categorical_accuracy: 0.8628\n",
            "Epoch 5/30\n",
            "1719/1719 [==============================] - 4s 2ms/step - loss: 0.3955 - sparse_categorical_accuracy: 0.8616 - val_loss: 0.3885 - val_sparse_categorical_accuracy: 0.8648\n",
            "Epoch 6/30\n",
            "1719/1719 [==============================] - 4s 2ms/step - loss: 0.3776 - sparse_categorical_accuracy: 0.8669 - val_loss: 0.3965 - val_sparse_categorical_accuracy: 0.8564\n",
            "Epoch 7/30\n",
            "1719/1719 [==============================] - 4s 2ms/step - loss: 0.3648 - sparse_categorical_accuracy: 0.8711 - val_loss: 0.4027 - val_sparse_categorical_accuracy: 0.8520\n",
            "Epoch 8/30\n",
            "1719/1719 [==============================] - 4s 2ms/step - loss: 0.3526 - sparse_categorical_accuracy: 0.8743 - val_loss: 0.3571 - val_sparse_categorical_accuracy: 0.8744\n",
            "Epoch 9/30\n",
            "1719/1719 [==============================] - 4s 2ms/step - loss: 0.3420 - sparse_categorical_accuracy: 0.8786 - val_loss: 0.3426 - val_sparse_categorical_accuracy: 0.8788\n",
            "Epoch 10/30\n",
            "1719/1719 [==============================] - 4s 2ms/step - loss: 0.3320 - sparse_categorical_accuracy: 0.8811 - val_loss: 0.3540 - val_sparse_categorical_accuracy: 0.8722\n",
            "Epoch 11/30\n",
            "1719/1719 [==============================] - 4s 2ms/step - loss: 0.3244 - sparse_categorical_accuracy: 0.8842 - val_loss: 0.3499 - val_sparse_categorical_accuracy: 0.8800\n",
            "Epoch 12/30\n",
            "1719/1719 [==============================] - 4s 2ms/step - loss: 0.3158 - sparse_categorical_accuracy: 0.8867 - val_loss: 0.3361 - val_sparse_categorical_accuracy: 0.8786\n",
            "Epoch 13/30\n",
            "1719/1719 [==============================] - 4s 2ms/step - loss: 0.3084 - sparse_categorical_accuracy: 0.8897 - val_loss: 0.3267 - val_sparse_categorical_accuracy: 0.8850\n",
            "Epoch 14/30\n",
            "1719/1719 [==============================] - 4s 2ms/step - loss: 0.3009 - sparse_categorical_accuracy: 0.8914 - val_loss: 0.3479 - val_sparse_categorical_accuracy: 0.8718\n",
            "Epoch 15/30\n",
            "1719/1719 [==============================] - 4s 2ms/step - loss: 0.2950 - sparse_categorical_accuracy: 0.8941 - val_loss: 0.3192 - val_sparse_categorical_accuracy: 0.8860\n",
            "Epoch 16/30\n",
            "1719/1719 [==============================] - 4s 2ms/step - loss: 0.2892 - sparse_categorical_accuracy: 0.8964 - val_loss: 0.3212 - val_sparse_categorical_accuracy: 0.8828\n",
            "Epoch 17/30\n",
            "1719/1719 [==============================] - 4s 2ms/step - loss: 0.2827 - sparse_categorical_accuracy: 0.8976 - val_loss: 0.3314 - val_sparse_categorical_accuracy: 0.8838\n",
            "Epoch 18/30\n",
            "1719/1719 [==============================] - 4s 2ms/step - loss: 0.2780 - sparse_categorical_accuracy: 0.8997 - val_loss: 0.3272 - val_sparse_categorical_accuracy: 0.8794\n",
            "Epoch 19/30\n",
            "1719/1719 [==============================] - 4s 2ms/step - loss: 0.2723 - sparse_categorical_accuracy: 0.9009 - val_loss: 0.3552 - val_sparse_categorical_accuracy: 0.8718\n",
            "Epoch 20/30\n",
            "1719/1719 [==============================] - 4s 2ms/step - loss: 0.2663 - sparse_categorical_accuracy: 0.9047 - val_loss: 0.3288 - val_sparse_categorical_accuracy: 0.8830\n",
            "Epoch 21/30\n",
            "1719/1719 [==============================] - 4s 2ms/step - loss: 0.2630 - sparse_categorical_accuracy: 0.9060 - val_loss: 0.3169 - val_sparse_categorical_accuracy: 0.8864\n",
            "Epoch 22/30\n",
            "1719/1719 [==============================] - 4s 2ms/step - loss: 0.2572 - sparse_categorical_accuracy: 0.9068 - val_loss: 0.3082 - val_sparse_categorical_accuracy: 0.8896\n",
            "Epoch 23/30\n",
            "1719/1719 [==============================] - 4s 2ms/step - loss: 0.2526 - sparse_categorical_accuracy: 0.9095 - val_loss: 0.3083 - val_sparse_categorical_accuracy: 0.8890\n",
            "Epoch 24/30\n",
            "1719/1719 [==============================] - 4s 2ms/step - loss: 0.2482 - sparse_categorical_accuracy: 0.9114 - val_loss: 0.3027 - val_sparse_categorical_accuracy: 0.8916\n",
            "Epoch 25/30\n",
            "1719/1719 [==============================] - 4s 2ms/step - loss: 0.2441 - sparse_categorical_accuracy: 0.9116 - val_loss: 0.3005 - val_sparse_categorical_accuracy: 0.8912\n",
            "Epoch 26/30\n",
            "1719/1719 [==============================] - 4s 2ms/step - loss: 0.2396 - sparse_categorical_accuracy: 0.9144 - val_loss: 0.3118 - val_sparse_categorical_accuracy: 0.8882\n",
            "Epoch 27/30\n",
            "1719/1719 [==============================] - 4s 2ms/step - loss: 0.2355 - sparse_categorical_accuracy: 0.9156 - val_loss: 0.3271 - val_sparse_categorical_accuracy: 0.8802\n",
            "Epoch 28/30\n",
            "1719/1719 [==============================] - 4s 2ms/step - loss: 0.2334 - sparse_categorical_accuracy: 0.9159 - val_loss: 0.2986 - val_sparse_categorical_accuracy: 0.8934\n",
            "Epoch 29/30\n",
            "1719/1719 [==============================] - 4s 2ms/step - loss: 0.2273 - sparse_categorical_accuracy: 0.9182 - val_loss: 0.3103 - val_sparse_categorical_accuracy: 0.8890\n",
            "Epoch 30/30\n",
            "1719/1719 [==============================] - 4s 2ms/step - loss: 0.2251 - sparse_categorical_accuracy: 0.9185 - val_loss: 0.3043 - val_sparse_categorical_accuracy: 0.8946\n"
          ],
          "name": "stdout"
        }
      ]
    },
    {
      "cell_type": "markdown",
      "metadata": {
        "id": "PeOocqud2NPy"
      },
      "source": [
        "### Class weight:\n",
        "If the training set was very skewed, with some classes being overrepresented and others\n",
        "underrepresented, it would be useful to set the class_weight argument when\n",
        "calling the fit() method, giving a larger weight to underrepresented classes, and a\n",
        "lower weight to overrepresented classes. These weights would be used by Keras when\n",
        "computing the loss. If you need per-instance weights instead, you can set the sample_weight argument (it supersedes class_weight). This could be useful for example\n",
        "if some instances were labeled by experts while others were labeled using a\n",
        "crowdsourcing platform: you might want to give more weight to the former. You can\n",
        "also provide sample weights (but not class weights) for the validation set by adding\n",
        "them as a third item in the validation_data tuple.\n",
        "The fit() method returns a History object containing the training parameters (history.params), the list of epochs it went through (history.epoch), and most importantly\n",
        "a dictionary (history.history) containing the loss and extra metrics it\n",
        "measured at the end of each epoch on the training set and on the validation set (if"
      ]
    },
    {
      "cell_type": "code",
      "metadata": {
        "id": "MWkGgHJf4ZnS",
        "outputId": "bfe9d6bf-5169-4da0-9f72-e532b851406f",
        "colab": {
          "base_uri": "https://localhost:8080/",
          "height": 34
        }
      },
      "source": [
        "history.params"
      ],
      "execution_count": 73,
      "outputs": [
        {
          "output_type": "execute_result",
          "data": {
            "text/plain": [
              "{'epochs': 30, 'steps': 1719, 'verbose': 1}"
            ]
          },
          "metadata": {
            "tags": []
          },
          "execution_count": 73
        }
      ]
    },
    {
      "cell_type": "code",
      "metadata": {
        "id": "UdMlJ1rD4Ztt",
        "outputId": "3b0e8b55-9958-49e5-b8c0-4d2cbfe005ef",
        "colab": {
          "base_uri": "https://localhost:8080/",
          "height": 527
        }
      },
      "source": [
        "history.epoch"
      ],
      "execution_count": 74,
      "outputs": [
        {
          "output_type": "execute_result",
          "data": {
            "text/plain": [
              "[0,\n",
              " 1,\n",
              " 2,\n",
              " 3,\n",
              " 4,\n",
              " 5,\n",
              " 6,\n",
              " 7,\n",
              " 8,\n",
              " 9,\n",
              " 10,\n",
              " 11,\n",
              " 12,\n",
              " 13,\n",
              " 14,\n",
              " 15,\n",
              " 16,\n",
              " 17,\n",
              " 18,\n",
              " 19,\n",
              " 20,\n",
              " 21,\n",
              " 22,\n",
              " 23,\n",
              " 24,\n",
              " 25,\n",
              " 26,\n",
              " 27,\n",
              " 28,\n",
              " 29]"
            ]
          },
          "metadata": {
            "tags": []
          },
          "execution_count": 74
        }
      ]
    },
    {
      "cell_type": "code",
      "metadata": {
        "id": "S7MBMQk44Zz2",
        "outputId": "bbaa3d88-b77e-4192-df6a-034bfb76a6bb",
        "colab": {
          "base_uri": "https://localhost:8080/",
          "height": 1000
        }
      },
      "source": [
        "history.history # contains history of loss and extra metrics it measured at the end of each epoch on the training set and on the validation set\n",
        "\n"
      ],
      "execution_count": 75,
      "outputs": [
        {
          "output_type": "execute_result",
          "data": {
            "text/plain": [
              "{'loss': [0.7075010538101196,\n",
              "  0.4873378872871399,\n",
              "  0.4422578811645508,\n",
              "  0.4139818251132965,\n",
              "  0.39553722739219666,\n",
              "  0.3775596618652344,\n",
              "  0.3647879958152771,\n",
              "  0.35255977511405945,\n",
              "  0.34202131628990173,\n",
              "  0.3320041596889496,\n",
              "  0.32436203956604004,\n",
              "  0.3157702088356018,\n",
              "  0.30843308568000793,\n",
              "  0.30091583728790283,\n",
              "  0.29504725337028503,\n",
              "  0.28918275237083435,\n",
              "  0.282667875289917,\n",
              "  0.277959406375885,\n",
              "  0.27228882908821106,\n",
              "  0.2663315236568451,\n",
              "  0.26298779249191284,\n",
              "  0.2572055757045746,\n",
              "  0.25257357954978943,\n",
              "  0.24822993576526642,\n",
              "  0.24408622086048126,\n",
              "  0.2396194040775299,\n",
              "  0.2355285882949829,\n",
              "  0.23337918519973755,\n",
              "  0.22730204463005066,\n",
              "  0.2251386046409607],\n",
              " 'sparse_categorical_accuracy': [0.7681999802589417,\n",
              "  0.8308908939361572,\n",
              "  0.8452181816101074,\n",
              "  0.8543272614479065,\n",
              "  0.8615818023681641,\n",
              "  0.8668545484542847,\n",
              "  0.8711090683937073,\n",
              "  0.8742727041244507,\n",
              "  0.878563642501831,\n",
              "  0.8811091184616089,\n",
              "  0.884218156337738,\n",
              "  0.8866545557975769,\n",
              "  0.8896727561950684,\n",
              "  0.8914181590080261,\n",
              "  0.8940545320510864,\n",
              "  0.896399974822998,\n",
              "  0.897563636302948,\n",
              "  0.8997454643249512,\n",
              "  0.9009272456169128,\n",
              "  0.9046727418899536,\n",
              "  0.906000018119812,\n",
              "  0.906781792640686,\n",
              "  0.9094908833503723,\n",
              "  0.9114363789558411,\n",
              "  0.9116363525390625,\n",
              "  0.9144181609153748,\n",
              "  0.9155636429786682,\n",
              "  0.9158727526664734,\n",
              "  0.918181836605072,\n",
              "  0.9184545278549194],\n",
              " 'val_loss': [0.5053308010101318,\n",
              "  0.45861971378326416,\n",
              "  0.4195499122142792,\n",
              "  0.39976030588150024,\n",
              "  0.3884715139865875,\n",
              "  0.39649641513824463,\n",
              "  0.4027072787284851,\n",
              "  0.3570941686630249,\n",
              "  0.34258994460105896,\n",
              "  0.35396286845207214,\n",
              "  0.3499397933483124,\n",
              "  0.3360557556152344,\n",
              "  0.32669776678085327,\n",
              "  0.3478841185569763,\n",
              "  0.31919151544570923,\n",
              "  0.32121339440345764,\n",
              "  0.3314177989959717,\n",
              "  0.3271685838699341,\n",
              "  0.3551894724369049,\n",
              "  0.328818678855896,\n",
              "  0.31690168380737305,\n",
              "  0.3082010746002197,\n",
              "  0.3082580268383026,\n",
              "  0.3027384579181671,\n",
              "  0.3005337715148926,\n",
              "  0.31177404522895813,\n",
              "  0.3270954489707947,\n",
              "  0.29863062500953674,\n",
              "  0.31029415130615234,\n",
              "  0.30433908104896545],\n",
              " 'val_sparse_categorical_accuracy': [0.83160001039505,\n",
              "  0.8442000150680542,\n",
              "  0.8579999804496765,\n",
              "  0.8628000020980835,\n",
              "  0.864799976348877,\n",
              "  0.8564000129699707,\n",
              "  0.8519999980926514,\n",
              "  0.8744000196456909,\n",
              "  0.8787999749183655,\n",
              "  0.8722000122070312,\n",
              "  0.8799999952316284,\n",
              "  0.878600001335144,\n",
              "  0.8849999904632568,\n",
              "  0.8718000054359436,\n",
              "  0.8859999775886536,\n",
              "  0.8827999830245972,\n",
              "  0.8838000297546387,\n",
              "  0.8794000148773193,\n",
              "  0.8718000054359436,\n",
              "  0.8830000162124634,\n",
              "  0.8863999843597412,\n",
              "  0.8895999789237976,\n",
              "  0.8889999985694885,\n",
              "  0.8916000127792358,\n",
              "  0.8912000060081482,\n",
              "  0.8881999850273132,\n",
              "  0.8802000284194946,\n",
              "  0.8934000134468079,\n",
              "  0.8889999985694885,\n",
              "  0.894599974155426]}"
            ]
          },
          "metadata": {
            "tags": []
          },
          "execution_count": 75
        }
      ]
    },
    {
      "cell_type": "code",
      "metadata": {
        "id": "O7-koS_G47rE",
        "outputId": "c8b7e019-914a-496b-83c2-406ec9be24aa",
        "colab": {
          "base_uri": "https://localhost:8080/",
          "height": 324
        }
      },
      "source": [
        "# If you create a Pandas DataFrame using this dictionary and call its plot()\n",
        "# method, you get the learning curves shown:\n",
        "\n",
        "import pandas as pd\n",
        "import matplotlib.pyplot as plt\n",
        "\n",
        "pd.DataFrame(history.history).plot(figsize=(8, 5))\n",
        "plt.grid(True)\n",
        "plt.gca().set_ylim(0, 1) # set the vertical range to [0-1]\n",
        "plt.show()"
      ],
      "execution_count": 76,
      "outputs": [
        {
          "output_type": "display_data",
          "data": {
            "image/png": "[encoded data removed]",
            "text/plain": [
              "<Figure size 576x360 with 1 Axes>"
            ]
          },
          "metadata": {
            "tags": [],
            "needs_background": "light"
          }
        }
      ]
    },
    {
      "cell_type": "markdown",
      "metadata": {
        "id": "Rjnq9-rF2NTH"
      },
      "source": [
        "### model evaluation"
      ]
    },
    {
      "cell_type": "code",
      "metadata": {
        "id": "6nVvJB4z5wEx",
        "outputId": "d5b31104-0bb4-4e27-ec6e-57348540233a",
        "colab": {
          "base_uri": "https://localhost:8080/",
          "height": 51
        }
      },
      "source": [
        "model.evaluate(x=X_test, y=y_test)"
      ],
      "execution_count": 77,
      "outputs": [
        {
          "output_type": "stream",
          "text": [
            "313/313 [==============================] - 1s 2ms/step - loss: 84.5652 - sparse_categorical_accuracy: 0.8184\n"
          ],
          "name": "stdout"
        },
        {
          "output_type": "execute_result",
          "data": {
            "text/plain": [
              "[84.56522369384766, 0.8184000253677368]"
            ]
          },
          "metadata": {
            "tags": []
          },
          "execution_count": 77
        }
      ]
    },
    {
      "cell_type": "markdown",
      "metadata": {
        "id": "RKWGl8Em2NVo"
      },
      "source": [
        "**Remember to resist the temptation to\n",
        "tweak the hyperparameters on the test set, or else your estimate of the generalization\n",
        "error will be too optimistic.**"
      ]
    },
    {
      "cell_type": "markdown",
      "metadata": {
        "id": "nZz7pieM2NYL"
      },
      "source": [
        "### Making predictions with the model:\n"
      ]
    },
    {
      "cell_type": "code",
      "metadata": {
        "id": "ik2RF8hKA48t",
        "outputId": "ae6fc19e-de94-4c6e-cb85-59bc05e16f60",
        "colab": {
          "base_uri": "https://localhost:8080/",
          "height": 68
        }
      },
      "source": [
        "X_new = X_test[:3]\n",
        "y_proba = model.predict(X_new)\n",
        "y_proba.round(2)"
      ],
      "execution_count": 82,
      "outputs": [
        {
          "output_type": "execute_result",
          "data": {
            "text/plain": [
              "array([[0., 0., 0., 0., 0., 0., 0., 0., 0., 1.],\n",
              "       [0., 0., 1., 0., 0., 0., 0., 0., 0., 0.],\n",
              "       [0., 1., 0., 0., 0., 0., 0., 0., 0., 0.]], dtype=float32)"
            ]
          },
          "metadata": {
            "tags": []
          },
          "execution_count": 82
        }
      ]
    },
    {
      "cell_type": "code",
      "metadata": {
        "id": "5q2DsxsqBSiu",
        "outputId": "30803dd2-42e3-4f03-f421-648c20d88133",
        "colab": {
          "base_uri": "https://localhost:8080/",
          "height": 34
        }
      },
      "source": [
        "# to predict classes directly based on max probability:\n",
        "y_pred = np.argmax(model.predict(x=X_new), axis=-1)\n",
        "y_pred, np.array(class_names)[y_pred]"
      ],
      "execution_count": 87,
      "outputs": [
        {
          "output_type": "execute_result",
          "data": {
            "text/plain": [
              "(array([9, 2, 1]), array(['Ankle boot', 'Pullover', 'Trouser'], dtype='<U11'))"
            ]
          },
          "metadata": {
            "tags": []
          },
          "execution_count": 87
        }
      ]
    },
    {
      "cell_type": "markdown",
      "metadata": {
        "id": "tqTf1-hX2Nao"
      },
      "source": [
        ""
      ]
    }
  ]
}