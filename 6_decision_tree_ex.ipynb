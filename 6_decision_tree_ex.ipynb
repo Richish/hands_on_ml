{
  "nbformat": 4,
  "nbformat_minor": 0,
  "metadata": {
    "colab": {
      "name": "6_decision_tree_ex.ipynb",
      "provenance": [],
      "collapsed_sections": [],
      "authorship_tag": "ABX9TyNuZxyAZM8Wo7j4fBZ3AKhB",
      "include_colab_link": true
    },
    "kernelspec": {
      "name": "python3",
      "display_name": "Python 3"
    }
  },
  "cells": [
    {
      "cell_type": "markdown",
      "metadata": {
        "id": "view-in-github",
        "colab_type": "text"
      },
      "source": [
        "<a href=\"https://colab.research.google.com/github/Richish/hands_on_ml/blob/master/6_decision_tree_ex.ipynb\" target=\"_parent\"><img src=\"https://colab.research.google.com/assets/colab-badge.svg\" alt=\"Open In Colab\"/></a>"
      ]
    },
    {
      "cell_type": "markdown",
      "metadata": {
        "id": "4hMceEv0T9B2",
        "colab_type": "text"
      },
      "source": [
        "# Train and fine-tune a Decision Tree for the moons dataset.\n",
        "1. Generate a moons dataset using make_moons(n_samples=10000, noise=0.4).\n",
        "2. Split it into a training set and a test set using train_test_split().\n",
        "3. Use grid search with cross-validation (with the help of the GridSearchCV\n",
        "class) to find good hyperparameter values for a DecisionTreeClassifier.\n",
        "Hint: try various values for max_leaf_nodes.\n",
        "4. Train it on the full training set using these hyperparameters, and measure\n",
        "your model’s performance on the test set. You should get roughly 85% to 87%\n",
        "accuracy."
      ]
    },
    {
      "cell_type": "code",
      "metadata": {
        "id": "8L3NLFxRT1Kr",
        "colab_type": "code",
        "colab": {
          "base_uri": "https://localhost:8080/",
          "height": 136
        },
        "outputId": "b854fe69-c317-4ce4-ba43-76568aedc116"
      },
      "source": [
        "#generating moons\n",
        "from sklearn.datasets import make_moons\n",
        "\n",
        "moons_data = make_moons(n_samples=10_000, shuffle=True, noise=0.4, random_state=42)\n",
        "moons_data"
      ],
      "execution_count": 2,
      "outputs": [
        {
          "output_type": "execute_result",
          "data": {
            "text/plain": [
              "(array([[ 0.9402914 ,  0.12230559],\n",
              "        [ 0.12454026, -0.42477546],\n",
              "        [ 0.26198823,  0.50841438],\n",
              "        ...,\n",
              "        [-0.24177973,  0.20957199],\n",
              "        [ 0.90679645,  0.54958215],\n",
              "        [ 2.08837082, -0.05050728]]), array([1, 0, 0, ..., 1, 0, 1]))"
            ]
          },
          "metadata": {
            "tags": []
          },
          "execution_count": 2
        }
      ]
    },
    {
      "cell_type": "code",
      "metadata": {
        "id": "_7QiuyJtU_Sa",
        "colab_type": "code",
        "colab": {
          "base_uri": "https://localhost:8080/",
          "height": 136
        },
        "outputId": "9707bb6e-4f9c-4aae-df42-695220c3acd1"
      },
      "source": [
        "# test train split\n",
        "from sklearn.model_selection import train_test_split\n",
        "X_train, X_test, y_train, y_test = train_test_split(moons_data[0], moons_data[1], test_size=0.2, shuffle=True, random_state=42)\n",
        "len(X_train), X_test, len(y_train), y_test"
      ],
      "execution_count": 3,
      "outputs": [
        {
          "output_type": "execute_result",
          "data": {
            "text/plain": [
              "(8000, array([[ 0.69945888, -0.8734481 ],\n",
              "        [ 1.7764418 ,  0.13222334],\n",
              "        [-1.14450821,  0.24446319],\n",
              "        ...,\n",
              "        [ 0.66336269,  0.79833307],\n",
              "        [-0.6493245 ,  1.19920859],\n",
              "        [-0.09883144,  0.40961263]]), 8000, array([1, 1, 0, ..., 0, 0, 0]))"
            ]
          },
          "metadata": {
            "tags": []
          },
          "execution_count": 3
        }
      ]
    },
    {
      "cell_type": "code",
      "metadata": {
        "id": "ZONuehCFWszI",
        "colab_type": "code",
        "colab": {}
      },
      "source": [
        "# basic decision tree classifier - training and test\n",
        "from sklearn.tree import DecisionTreeClassifier\n",
        "tree_clf = DecisionTreeClassifier(max_depth=8)\n",
        "tree_clf.fit(X_train, y_train)\n",
        "y_pred = tree_clf.predict(X_test)\n"
      ],
      "execution_count": 4,
      "outputs": []
    },
    {
      "cell_type": "code",
      "metadata": {
        "id": "mdWjlBzEZeNq",
        "colab_type": "code",
        "colab": {
          "base_uri": "https://localhost:8080/",
          "height": 34
        },
        "outputId": "eca06a15-3a31-464e-dc4b-6b15abbf84e3"
      },
      "source": [
        "# accuracy on basic implementation\n",
        "from sklearn import metrics\n",
        "metrics.accuracy_score(y_true=y_test, y_pred=y_pred)"
      ],
      "execution_count": 5,
      "outputs": [
        {
          "output_type": "execute_result",
          "data": {
            "text/plain": [
              "0.859"
            ]
          },
          "metadata": {
            "tags": []
          },
          "execution_count": 5
        }
      ]
    },
    {
      "cell_type": "code",
      "metadata": {
        "id": "1fAFhsZ3ZDiX",
        "colab_type": "code",
        "colab": {
          "base_uri": "https://localhost:8080/",
          "height": 289
        },
        "outputId": "cfcd9fcb-5b21-492d-b763-3ca15555fec8"
      },
      "source": [
        "# grid search\n",
        "from sklearn.metrics import make_scorer, accuracy_score, precision_score, recall_score\n",
        "scoring = {'accuracy': make_scorer(accuracy_score),\n",
        "           'precision': make_scorer(precision_score),\n",
        "           'recall': make_scorer(recall_score)}\n",
        "\n",
        "from sklearn.model_selection import GridSearchCV\n",
        "\n",
        "grid = GridSearchCV(estimator=DecisionTreeClassifier(), param_grid={'max_leaf_nodes':[2,3,4,5,6,7,8,16,32,64]}, scoring=scoring, refit='accuracy')\n",
        "grid.fit(X=X_train, y=y_train)\n",
        "sorted(grid.cv_results_.keys())\n",
        "grid.cv_results_['params'], grid.cv_results_['mean_test_accuracy'], grid.cv_results_['mean_test_precision'], grid.cv_results_['mean_test_recall']"
      ],
      "execution_count": 6,
      "outputs": [
        {
          "output_type": "execute_result",
          "data": {
            "text/plain": [
              "([{'max_leaf_nodes': 2},\n",
              "  {'max_leaf_nodes': 3},\n",
              "  {'max_leaf_nodes': 4},\n",
              "  {'max_leaf_nodes': 5},\n",
              "  {'max_leaf_nodes': 6},\n",
              "  {'max_leaf_nodes': 7},\n",
              "  {'max_leaf_nodes': 8},\n",
              "  {'max_leaf_nodes': 16},\n",
              "  {'max_leaf_nodes': 32},\n",
              "  {'max_leaf_nodes': 64}],\n",
              " array([0.77    , 0.817125, 0.853   , 0.853   , 0.853   , 0.853   ,\n",
              "        0.853   , 0.852125, 0.85575 , 0.849625]),\n",
              " array([0.75793329, 0.82737975, 0.84261037, 0.84261037, 0.84261037,\n",
              "        0.84261037, 0.84261037, 0.86348752, 0.85477429, 0.85434341]),\n",
              " array([0.79540066, 0.80613504, 0.86941706, 0.86941706, 0.86941706,\n",
              "        0.86941706, 0.86941706, 0.8375304 , 0.85845691, 0.84450549]))"
            ]
          },
          "metadata": {
            "tags": []
          },
          "execution_count": 6
        }
      ]
    },
    {
      "cell_type": "code",
      "metadata": {
        "id": "tspd9lNtgCFT",
        "colab_type": "code",
        "colab": {
          "base_uri": "https://localhost:8080/",
          "height": 34
        },
        "outputId": "6360e41d-fd33-4c9f-9075-4be7adbb1e16"
      },
      "source": [
        "# training on full training set using best params found in grid search and evaluating on test set\n",
        " \n",
        "best_tree_clf = DecisionTreeClassifier(max_leaf_nodes=5)\n",
        "best_tree_clf.fit(X_train, y_train)\n",
        "best_y_pred = best_tree_clf.predict(X_test)\n",
        "from sklearn import metrics\n",
        "metrics.accuracy_score(y_true=y_test, y_pred=best_y_pred)\n",
        "\n"
      ],
      "execution_count": 7,
      "outputs": [
        {
          "output_type": "execute_result",
          "data": {
            "text/plain": [
              "0.863"
            ]
          },
          "metadata": {
            "tags": []
          },
          "execution_count": 7
        }
      ]
    },
    {
      "cell_type": "markdown",
      "metadata": {
        "id": "gE3InS0KhHk1",
        "colab_type": "text"
      },
      "source": [
        "# Growing the tree into a forest\n",
        "1. Continuing the previous exercise, generate 1,000 subsets of the training set,\n",
        "each containing 100 instances selected randomly. Hint: you can use Scikit-\n",
        "Learn’s ShuffleSplit class for this.\n",
        "2. Train one Decision Tree on each subset, using the best hyperparameter values\n",
        "found above. Evaluate these 1,000 Decision Trees on the test set. Since they\n",
        "were trained on smaller sets, these Decision Trees will likely perform worse\n",
        "than the first Decision Tree, achieving only about 80% accuracy.\n",
        "3. Now comes the magic. For each test set instance, generate the predictions of\n",
        "the 1,000 Decision Trees, and keep only the most frequent prediction (you can\n",
        "use SciPy’s mode() function for this). This gives you majority-vote predictions\n",
        "over the test set.\n",
        "4. Evaluate these predictions on the test set: you should obtain a slightly higher\n",
        "accuracy than your first model (about 0.5 to 1.5% higher). Congratulations,\n",
        "you have trained a Random Forest classifier!"
      ]
    },
    {
      "cell_type": "code",
      "metadata": {
        "id": "V7Ex7xkg13g_",
        "colab_type": "code",
        "colab": {
          "base_uri": "https://localhost:8080/",
          "height": 34
        },
        "outputId": "a39eab24-06b9-479f-a642-5d33e7ef0d51"
      },
      "source": [
        "# getting 100 instances of train set(1k samples each) from a set of 10k samples\n",
        "from sklearn.model_selection import ShuffleSplit\n",
        "import numpy as np\n",
        "shuffle_split = ShuffleSplit(n_splits=100, train_size=1000)\n",
        "all_preds=None\n",
        "for train_indeces, _ in shuffle_split.split(X=X_train, y=y_train): # iterating over all 100 instances(1000 samples each)\n",
        "    # for each of the instances:\n",
        "    # training decision tree\n",
        "    x_train_split, y_train_split = X_train[train_indeces], y_train[train_indeces]\n",
        "    d_tree = DecisionTreeClassifier(max_leaf_nodes=6)\n",
        "    d_tree.fit(X=x_train_split, y=y_train_split)\n",
        "    y_pred = d_tree.predict(X=X_test) # np array of shape (2000,)\n",
        "    y_pred = y_pred.reshape((y_pred.shape[0],1)) # reshaping to (2000, 1)\n",
        "    #print(type(y_pred), y_pred.shape)\n",
        "    if all_preds is None:\n",
        "        all_preds = y_pred\n",
        "    else:\n",
        "        all_preds = np.concatenate((all_preds, y_pred), axis=1)\n",
        "    # break\n",
        "print(type(all_preds), all_preds.shape) #all preds of shape - (2000,100)\n"
      ],
      "execution_count": 8,
      "outputs": [
        {
          "output_type": "stream",
          "text": [
            "<class 'numpy.ndarray'> (2000, 100)\n"
          ],
          "name": "stdout"
        }
      ]
    },
    {
      "cell_type": "code",
      "metadata": {
        "id": "YsRNismCANsX",
        "colab_type": "code",
        "colab": {
          "base_uri": "https://localhost:8080/",
          "height": 34
        },
        "outputId": "74e58387-d7cb-4ec1-e77c-44a5c4d71e83"
      },
      "source": [
        "# taking final prediction as the prediction by most trees. Hence mode will do the job\n",
        "from scipy.stats import mode\n",
        "y_pred_voted = mode(all_preds, axis=1).mode.reshape(y_test.shape)\n",
        "y_pred_voted.shape, y_test.shape\n",
        "metrics.accuracy_score(y_true=y_test, y_pred=y_pred_voted)"
      ],
      "execution_count": 18,
      "outputs": [
        {
          "output_type": "execute_result",
          "data": {
            "text/plain": [
              "0.8685"
            ]
          },
          "metadata": {
            "tags": []
          },
          "execution_count": 18
        }
      ]
    }
  ]
}