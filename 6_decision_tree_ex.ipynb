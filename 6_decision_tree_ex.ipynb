{
  "nbformat": 4,
  "nbformat_minor": 0,
  "metadata": {
    "colab": {
      "name": "6_decision_tree_ex.ipynb",
      "provenance": [],
      "collapsed_sections": [],
      "authorship_tag": "ABX9TyPeN+1nLbz+c+3/VLQfkdh7",
      "include_colab_link": true
    },
    "kernelspec": {
      "name": "python3",
      "display_name": "Python 3"
    }
  },
  "cells": [
    {
      "cell_type": "markdown",
      "metadata": {
        "id": "view-in-github",
        "colab_type": "text"
      },
      "source": [
        "<a href=\"https://colab.research.google.com/github/Richish/hands_on_ml/blob/master/6_decision_tree_ex.ipynb\" target=\"_parent\"><img src=\"https://colab.research.google.com/assets/colab-badge.svg\" alt=\"Open In Colab\"/></a>"
      ]
    },
    {
      "cell_type": "markdown",
      "metadata": {
        "id": "4hMceEv0T9B2",
        "colab_type": "text"
      },
      "source": [
        "# 7. Train and fine-tune a Decision Tree for the moons dataset.\n",
        "1. Generate a moons dataset using make_moons(n_samples=10000, noise=0.4).\n",
        "2. Split it into a training set and a test set using train_test_split().\n",
        "3. Use grid search with cross-validation (with the help of the GridSearchCV\n",
        "class) to find good hyperparameter values for a DecisionTreeClassifier.\n",
        "Hint: try various values for max_leaf_nodes.\n",
        "4. Train it on the full training set using these hyperparameters, and measure\n",
        "your model’s performance on the test set. You should get roughly 85% to 87%\n",
        "accuracy."
      ]
    },
    {
      "cell_type": "code",
      "metadata": {
        "id": "8L3NLFxRT1Kr",
        "colab_type": "code",
        "colab": {
          "base_uri": "https://localhost:8080/",
          "height": 136
        },
        "outputId": "fb5f22ac-030b-4c0e-be66-14fa60a07bb0"
      },
      "source": [
        "#generating moons\n",
        "from sklearn.datasets import make_moons\n",
        "\n",
        "moons_data = make_moons(n_samples=10_000, shuffle=True, noise=0.4, random_state=42)\n",
        "moons_data"
      ],
      "execution_count": 6,
      "outputs": [
        {
          "output_type": "execute_result",
          "data": {
            "text/plain": [
              "(array([[ 0.9402914 ,  0.12230559],\n",
              "        [ 0.12454026, -0.42477546],\n",
              "        [ 0.26198823,  0.50841438],\n",
              "        ...,\n",
              "        [-0.24177973,  0.20957199],\n",
              "        [ 0.90679645,  0.54958215],\n",
              "        [ 2.08837082, -0.05050728]]), array([1, 0, 0, ..., 1, 0, 1]))"
            ]
          },
          "metadata": {
            "tags": []
          },
          "execution_count": 6
        }
      ]
    },
    {
      "cell_type": "code",
      "metadata": {
        "id": "_7QiuyJtU_Sa",
        "colab_type": "code",
        "colab": {
          "base_uri": "https://localhost:8080/",
          "height": 136
        },
        "outputId": "0dd032da-7672-4fe5-b4d3-d2808f9d3f5b"
      },
      "source": [
        "# test train split\n",
        "from sklearn.model_selection import train_test_split\n",
        "X_train, X_test, y_train, y_test = train_test_split(moons_data[0], moons_data[1], test_size=0.2, shuffle=True, random_state=42)\n",
        "len(X_train), X_test, len(y_train), y_test"
      ],
      "execution_count": 10,
      "outputs": [
        {
          "output_type": "execute_result",
          "data": {
            "text/plain": [
              "(8000, array([[ 0.69945888, -0.8734481 ],\n",
              "        [ 1.7764418 ,  0.13222334],\n",
              "        [-1.14450821,  0.24446319],\n",
              "        ...,\n",
              "        [ 0.66336269,  0.79833307],\n",
              "        [-0.6493245 ,  1.19920859],\n",
              "        [-0.09883144,  0.40961263]]), 8000, array([1, 1, 0, ..., 0, 0, 0]))"
            ]
          },
          "metadata": {
            "tags": []
          },
          "execution_count": 10
        }
      ]
    },
    {
      "cell_type": "code",
      "metadata": {
        "id": "ZONuehCFWszI",
        "colab_type": "code",
        "colab": {}
      },
      "source": [
        "# basic decision tree classifier - training and test\n",
        "from sklearn.tree import DecisionTreeClassifier\n",
        "tree_clf = DecisionTreeClassifier(max_depth=8)\n",
        "tree_clf.fit(X_train, y_train)\n",
        "y_pred = tree_clf.predict(X_test)\n"
      ],
      "execution_count": 39,
      "outputs": []
    },
    {
      "cell_type": "code",
      "metadata": {
        "id": "mdWjlBzEZeNq",
        "colab_type": "code",
        "colab": {
          "base_uri": "https://localhost:8080/",
          "height": 34
        },
        "outputId": "c7acddbf-ad34-45c1-ed12-d764cd26fb55"
      },
      "source": [
        "# accuracy on basic implementation\n",
        "from sklearn import metrics\n",
        "metrics.accuracy_score(y_true=y_test, y_pred=y_pred)"
      ],
      "execution_count": 40,
      "outputs": [
        {
          "output_type": "execute_result",
          "data": {
            "text/plain": [
              "0.86"
            ]
          },
          "metadata": {
            "tags": []
          },
          "execution_count": 40
        }
      ]
    },
    {
      "cell_type": "code",
      "metadata": {
        "id": "1fAFhsZ3ZDiX",
        "colab_type": "code",
        "colab": {
          "base_uri": "https://localhost:8080/",
          "height": 289
        },
        "outputId": "ae7cca83-684b-409c-db0d-3aaf6c1f8783"
      },
      "source": [
        "# grid search\n",
        "from sklearn.metrics import make_scorer, accuracy_score, precision_score, recall_score\n",
        "scoring = {'accuracy': make_scorer(accuracy_score),\n",
        "           'precision': make_scorer(precision_score),\n",
        "           'recall': make_scorer(recall_score)}\n",
        "\n",
        "from sklearn.model_selection import GridSearchCV\n",
        "\n",
        "grid = GridSearchCV(estimator=DecisionTreeClassifier(), param_grid={'max_leaf_nodes':[2,3,4,5,6,7,8,16,32,64]}, scoring=scoring, refit='accuracy')\n",
        "grid.fit(X=X_train, y=y_train)\n",
        "sorted(grid.cv_results_.keys())\n",
        "grid.cv_results_['params'], grid.cv_results_['mean_test_accuracy'], grid.cv_results_['mean_test_precision'], grid.cv_results_['mean_test_recall']"
      ],
      "execution_count": 56,
      "outputs": [
        {
          "output_type": "execute_result",
          "data": {
            "text/plain": [
              "([{'max_leaf_nodes': 2},\n",
              "  {'max_leaf_nodes': 3},\n",
              "  {'max_leaf_nodes': 4},\n",
              "  {'max_leaf_nodes': 5},\n",
              "  {'max_leaf_nodes': 6},\n",
              "  {'max_leaf_nodes': 7},\n",
              "  {'max_leaf_nodes': 8},\n",
              "  {'max_leaf_nodes': 16},\n",
              "  {'max_leaf_nodes': 32},\n",
              "  {'max_leaf_nodes': 64}],\n",
              " array([0.77    , 0.817125, 0.853   , 0.853   , 0.853   , 0.853   ,\n",
              "        0.853   , 0.852125, 0.85575 , 0.849625]),\n",
              " array([0.75793329, 0.82737975, 0.84261037, 0.84261037, 0.84261037,\n",
              "        0.84261037, 0.84261037, 0.86348752, 0.85477429, 0.85434341]),\n",
              " array([0.79540066, 0.80613504, 0.86941706, 0.86941706, 0.86941706,\n",
              "        0.86941706, 0.86941706, 0.8375304 , 0.85845691, 0.84450549]))"
            ]
          },
          "metadata": {
            "tags": []
          },
          "execution_count": 56
        }
      ]
    },
    {
      "cell_type": "code",
      "metadata": {
        "id": "tspd9lNtgCFT",
        "colab_type": "code",
        "colab": {
          "base_uri": "https://localhost:8080/",
          "height": 34
        },
        "outputId": "7dc2a73f-6c88-4cb9-b518-37b4abc967b3"
      },
      "source": [
        "# training on full training set using best params found in grid search and evaluating on test set\n",
        " \n",
        "best_tree_clf = DecisionTreeClassifier(max_leaf_nodes=5)\n",
        "best_tree_clf.fit(X_train, y_train)\n",
        "best_y_pred = best_tree_clf.predict(X_test)\n",
        "from sklearn import metrics\n",
        "metrics.accuracy_score(y_true=y_test, y_pred=best_y_pred)\n",
        "\n"
      ],
      "execution_count": 57,
      "outputs": [
        {
          "output_type": "execute_result",
          "data": {
            "text/plain": [
              "0.863"
            ]
          },
          "metadata": {
            "tags": []
          },
          "execution_count": 57
        }
      ]
    }
  ]
}