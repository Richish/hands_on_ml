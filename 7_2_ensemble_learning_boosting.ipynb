{
  "nbformat": 4,
  "nbformat_minor": 0,
  "metadata": {
    "colab": {
      "name": "7_2_ensemble_learning_boosting.ipynb",
      "provenance": [],
      "collapsed_sections": [
        "LnnXjMk4usYQ"
      ],
      "authorship_tag": "ABX9TyMNujMQm8KNhUV9xYp2y4dk",
      "include_colab_link": true
    },
    "kernelspec": {
      "name": "python3",
      "display_name": "Python 3"
    }
  },
  "cells": [
    {
      "cell_type": "markdown",
      "metadata": {
        "id": "view-in-github",
        "colab_type": "text"
      },
      "source": [
        "<a href=\"https://colab.research.google.com/github/Richish/hands_on_ml/blob/master/7_2_ensemble_learning_boosting.ipynb\" target=\"_parent\"><img src=\"https://colab.research.google.com/assets/colab-badge.svg\" alt=\"Open In Colab\"/></a>"
      ]
    },
    {
      "cell_type": "markdown",
      "metadata": {
        "id": "LnnXjMk4usYQ",
        "colab_type": "text"
      },
      "source": [
        "# Boosting\n",
        "Boosting (originally called hypothesis boosting) refers to any Ensemble method that can combine several weak learners into a strong learner. The general idea of most boosting methods is to **train predictors sequentially**, each trying to correct its predecessor.\n",
        "\n",
        "2 of the most popular boosting methods:\n",
        "1. Ada Boost.(Adaptive Boosting)\n",
        "2. Gradient Boosting."
      ]
    },
    {
      "cell_type": "markdown",
      "metadata": {
        "id": "1z1mXPxHusk1",
        "colab_type": "text"
      },
      "source": [
        ""
      ]
    },
    {
      "cell_type": "markdown",
      "metadata": {
        "id": "WmrNTsZ4usnq",
        "colab_type": "text"
      },
      "source": [
        "# Ada Boost\n",
        "\n",
        "## Technique used by Ada‐Boost:\n",
        "A new predictor corrects its predecessor by paying a bit more attention to the training instances that the predecessor underfitted. This results in new predictors focusing more and more on the hard cases. \n",
        "\n",
        "## Example:\n",
        "To build an AdaBoost classifier, a first base classifier (such as a DecisionTree or any other classifier) is trained and used to make predictions on the training set. The relative weight of misclassified training instances is then increased. A second classifier is trained using the updated weights and again it makes predictions on the training set, weights are updated, and so on.\n",
        "\n",
        "Once all predictors are trained, the ensemble makes predictions very much like bagging\n",
        "or pasting, except that predictors have different weights depending on their\n",
        "overall accuracy on the weighted training set.\n",
        "\n",
        "## Comparison with gradient descent:\n",
        "This sequential learning technique has some similarities with Gradient Descent, except that instead of tweaking a single predictor’s parameters to minimize a cost function, AdaBoost adds predictors to the ensemble, gradually making it better."
      ]
    },
    {
      "cell_type": "markdown",
      "metadata": {
        "id": "c3Ejit1Qusq3",
        "colab_type": "text"
      },
      "source": [
        "## Drawback of this sequential technique\n",
        "It cannot be parallelized (or only partially), since each predictor\n",
        "can only be trained after the previous predictor has been\n",
        "trained and evaluated. As a result, it does not scale as well as bagging\n",
        "or pasting."
      ]
    },
    {
      "cell_type": "markdown",
      "metadata": {
        "id": "SwsRwvVVusuM",
        "colab_type": "text"
      },
      "source": [
        "## Ada Boost algorithm details\n",
        "\n",
        "i -> ith instance.\n",
        "j -> jth predictor.\n",
        "{} -> subscript\n",
        "\n",
        "w^(i) - > Weight of ith instance(initialised to 1/m for each instance).\n",
        "These w^(i) ar what needs to be updated in each predictor.\n",
        "\n",
        "r{j} denoted as r{j} is the weighted error rate of all the instances on jth predictor.\n",
        "\n",
        "r{j} = (from i=1 to m if ÿ{j}^(i) != y^(i)) Σw^(i)) / ((from i=1 to m)Σw^(i))\n",
        "\n",
        "Predictor weight, à{j} = ń log((1-r{j})/r{j})\n",
        "here, ń = learning rate parameter(default = 1).\n",
        "\n",
        "Next, the instance weights are updated:\n",
        "w^(i) = w^(i) if ÿ{j}^(i) = y^(i)\n",
        "w^(i) = w^(i)*exp(à{j})) if ÿ{j}^(i) != y^(i)\n",
        "\n",
        "Then all the instance weights are normalized (i.e., divided by (from i = 1to m)Σw^(i)).\n",
        "\n",
        "Finally, a new predictor is trained using the updated weights, and the whole process is repeated (the new predictor’s weight is computed, the instance weights are updated,then another predictor is trained, and so on). The algorithm stops when the desired number of predictors is reached, or when a perfect predictor is found.\n",
        "\n",
        "To make predictions, AdaBoost simply computes the predictions of all the predictors and weighs them using the predictor weights α{j}. The predicted class is the one that receives the majority of weighted votes."
      ]
    },
    {
      "cell_type": "markdown",
      "metadata": {
        "id": "GcayqRDKusxf",
        "colab_type": "text"
      },
      "source": [
        "## SAMME16 (Stagewise Additive Modeling using a Multiclass Exponential loss function)\n",
        "\n",
        "Scikit-Learn actually uses a multiclass version of AdaBoost called SAMME16 (which stands for Stagewise Additive Modeling using a Multiclass Exponential loss function). When there are just two classes, SAMME is equivalent to AdaBoost. Moreover, if the predictors can estimate class probabilities (i.e., if they have a predict_proba() method), Scikit-Learn can use a variant of SAMME called SAMME.R (the R stands for “Real”), which relies on class probabilities rather than predictions and generally performs better.\n",
        "\n"
      ]
    },
    {
      "cell_type": "markdown",
      "metadata": {
        "id": "3jPMevzSZRk8",
        "colab_type": "text"
      },
      "source": [
        "## Example in sklearn:\n",
        "The following code trains an AdaBoost classifier based on 200 Decision Stumps using Scikit-Learn’s AdaBoostClassifier class (as you might expect, there is also an Ada BoostRegressor class). A Decision Stump is a Decision Tree with max_depth=1—in other words, a tree composed of a single decision node plus two leaf nodes. This is the default base estimator for the AdaBoostClassifier class."
      ]
    },
    {
      "cell_type": "code",
      "metadata": {
        "id": "Z0wZQwLsZajU",
        "colab_type": "code",
        "colab": {
          "base_uri": "https://localhost:8080/",
          "height": 34
        },
        "outputId": "09dfa44a-60f4-4764-8cf7-0e05065659a9"
      },
      "source": [
        "from sklearn.datasets import make_moons\n",
        "from sklearn.model_selection import train_test_split\n",
        "from sklearn.metrics import accuracy_score\n",
        "from sklearn.ensemble import AdaBoostClassifier\n",
        "from sklearn.tree import DecisionTreeClassifier\n",
        "\n",
        "X, y = make_moons(n_samples=10_000, noise=0.4, random_state=42)\n",
        "X_train, X_test, y_train, y_test = train_test_split(X,y, test_size=0.2, random_state=42)\n",
        "\n",
        "ada_clf = AdaBoostClassifier(\n",
        "    base_estimator=DecisionTreeClassifier(max_depth=1), n_estimators=200,\n",
        "    learning_rate=0.5, algorithm=\"SAMME.R\", random_state=42\n",
        ")\n",
        "ada_clf.fit(X_train, y_train)\n",
        "y_pred = ada_clf.predict(X_test)\n",
        "accuracy_score(y_true=y_test, y_pred=y_pred)"
      ],
      "execution_count": 4,
      "outputs": [
        {
          "output_type": "execute_result",
          "data": {
            "text/plain": [
              "0.861"
            ]
          },
          "metadata": {
            "tags": []
          },
          "execution_count": 4
        }
      ]
    },
    {
      "cell_type": "markdown",
      "metadata": {
        "id": "6T_ZdIZAbGYO",
        "colab_type": "text"
      },
      "source": [
        "## Hyperpamater tuning\n",
        "If your AdaBoost ensemble is overfitting the training set, you can\n",
        "try reducing the number of estimators or more strongly regularizing\n",
        "the base estimator."
      ]
    },
    {
      "cell_type": "markdown",
      "metadata": {
        "id": "BXCeAOeEbK3f",
        "colab_type": "text"
      },
      "source": [
        "# Gradient boosting(Gradient Tree Boosting, or Gradient Boosted Regression Trees (GBRT))\n",
        "\n",
        "Just like AdaBoost, Gradient Boosting works by sequentially adding predictors to an ensemble, each one correcting its predecessor.\n",
        "\n",
        "But, Instead of tweaking the instance weights at every iteration like AdaBoost does, this method tries to fit the new predictor to the residual errors made by the previous predictor.\n",
        "\n"
      ]
    },
    {
      "cell_type": "markdown",
      "metadata": {
        "id": "zRqhS72-bLVI",
        "colab_type": "text"
      },
      "source": [
        "## Basic implementation of GBRT using decision trees."
      ]
    },
    {
      "cell_type": "code",
      "metadata": {
        "id": "lC45hr1tcGAk",
        "colab_type": "code",
        "colab": {}
      },
      "source": [
        "# data prep for quadratic dataset for regression\n",
        "import numpy as np\n",
        "m=100\n",
        "X=6*np.random.rand(m,1)-3\n",
        "y=0.5*(X**2) + (X) + (2 + np.random.randn(m, 1))\n"
      ],
      "execution_count": 14,
      "outputs": []
    },
    {
      "cell_type": "code",
      "metadata": {
        "id": "1HS5PX7deBUG",
        "colab_type": "code",
        "colab": {
          "base_uri": "https://localhost:8080/",
          "height": 265
        },
        "outputId": "31c26d9f-3375-4593-8715-6a3a6f4b947f"
      },
      "source": [
        "# First, let’s fit a DecisionTreeRegressor to the training set:\n",
        "from sklearn.tree import DecisionTreeRegressor\n",
        "tree_reg1 = DecisionTreeRegressor(max_depth=2)\n",
        "tree_reg1.fit(X, y)\n",
        "\n",
        "# Now train a second DecisionTreeRegressor on the residual errors made by the first predictor:\n",
        "y2 = y - tree_reg1.predict(X)\n",
        "tree_reg2 = DecisionTreeRegressor(max_depth=2)\n",
        "tree_reg2.fit(X, y2)\n",
        "\n",
        "# Then we train a third regressor on the residual errors made by the second predictor:\n",
        "y3 = y2 - tree_reg2.predict(X)\n",
        "tree_reg3 = DecisionTreeRegressor(max_depth=2)\n",
        "tree_reg3.fit(X, y3)\n",
        "\n",
        "# Now we have an ensemble containing three trees. It can make predictions on a new\n",
        "# instance simply by adding up the predictions of all the trees:\n",
        "y_pred = sum(tree.predict(X) for tree in (tree_reg1, tree_reg2, tree_reg3))\n",
        "\n",
        "# plot values\n",
        "import matplotlib.pyplot as plt\n",
        "plt.plot(X, y, 'bo')\n",
        "plt.plot(X, y_pred, 'ro')\n",
        "plt.show()"
      ],
      "execution_count": 15,
      "outputs": [
        {
          "output_type": "display_data",
          "data": {
            "image/png": "[encoded data removed]",
            "text/plain": [
              "<Figure size 432x288 with 1 Axes>"
            ]
          },
          "metadata": {
            "tags": [],
            "needs_background": "light"
          }
        }
      ]
    },
    {
      "cell_type": "markdown",
      "metadata": {
        "id": "hhyG0etubLJ4",
        "colab_type": "text"
      },
      "source": [
        "## Direct use of GBRT using sklearn's GradientBoostingRegressor"
      ]
    },
    {
      "cell_type": "code",
      "metadata": {
        "id": "Ds9kb6UUgI44",
        "colab_type": "code",
        "colab": {
          "base_uri": "https://localhost:8080/",
          "height": 319
        },
        "outputId": "8201cb4a-ba2b-439a-9b1b-f2dec2a11ed7"
      },
      "source": [
        "from sklearn.ensemble import GradientBoostingRegressor\n",
        "gbrt = GradientBoostingRegressor(max_depth=2, n_estimators=3, learning_rate=1.0)\n",
        "gbrt.fit(X, y)\n",
        "y_pred = gbrt.predict(X)\n",
        "\n",
        "# plot values\n",
        "import matplotlib.pyplot as plt\n",
        "plt.plot(X, y, 'bo')\n",
        "plt.plot(X, y_pred, 'ro')\n",
        "plt.show()"
      ],
      "execution_count": 16,
      "outputs": [
        {
          "output_type": "stream",
          "text": [
            "/usr/local/lib/python3.6/dist-packages/sklearn/ensemble/_gb.py:1454: DataConversionWarning: A column-vector y was passed when a 1d array was expected. Please change the shape of y to (n_samples, ), for example using ravel().\n",
            "  y = column_or_1d(y, warn=True)\n"
          ],
          "name": "stderr"
        },
        {
          "output_type": "display_data",
          "data": {
            "image/png": "[encoded data removed]",
            "text/plain": [
              "<Figure size 432x288 with 1 Axes>"
            ]
          },
          "metadata": {
            "tags": [],
            "needs_background": "light"
          }
        }
      ]
    },
    {
      "cell_type": "markdown",
      "metadata": {
        "id": "Mr35Ix3abKr8",
        "colab_type": "text"
      },
      "source": [
        ""
      ]
    }
  ]
}