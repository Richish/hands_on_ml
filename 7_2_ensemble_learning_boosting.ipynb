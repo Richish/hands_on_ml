{
  "nbformat": 4,
  "nbformat_minor": 0,
  "metadata": {
    "colab": {
      "name": "7_2_ensemble_learning_boosting.ipynb",
      "provenance": [],
      "collapsed_sections": [
        "LnnXjMk4usYQ"
      ],
      "authorship_tag": "ABX9TyPgRfSyZFLb4FAsQKg0z6n6",
      "include_colab_link": true
    },
    "kernelspec": {
      "name": "python3",
      "display_name": "Python 3"
    }
  },
  "cells": [
    {
      "cell_type": "markdown",
      "metadata": {
        "id": "view-in-github",
        "colab_type": "text"
      },
      "source": [
        "<a href=\"https://colab.research.google.com/github/Richish/hands_on_ml/blob/master/7_2_ensemble_learning_boosting.ipynb\" target=\"_parent\"><img src=\"https://colab.research.google.com/assets/colab-badge.svg\" alt=\"Open In Colab\"/></a>"
      ]
    },
    {
      "cell_type": "markdown",
      "metadata": {
        "id": "LnnXjMk4usYQ",
        "colab_type": "text"
      },
      "source": [
        "# Boosting\n",
        "Boosting (originally called hypothesis boosting) refers to any Ensemble method that can combine several weak learners into a strong learner. The general idea of most boosting methods is to **train predictors sequentially**, each trying to correct its predecessor.\n",
        "\n",
        "2 of the most popular boosting methods:\n",
        "1. Ada Boost.(Adaptive Boosting)\n",
        "2. Gradient Boosting."
      ]
    },
    {
      "cell_type": "markdown",
      "metadata": {
        "id": "WmrNTsZ4usnq",
        "colab_type": "text"
      },
      "source": [
        "# Ada Boost\n",
        "\n",
        "## Technique used by Ada‐Boost:\n",
        "A new predictor corrects its predecessor by paying a bit more attention to the training instances that the predecessor underfitted. This results in new predictors focusing more and more on the hard cases. \n",
        "\n",
        "## Example:\n",
        "To build an AdaBoost classifier, a first base classifier (such as a DecisionTree or any other classifier) is trained and used to make predictions on the training set. The relative weight of misclassified training instances is then increased. A second classifier is trained using the updated weights and again it makes predictions on the training set, weights are updated, and so on.\n",
        "\n",
        "Once all predictors are trained, the ensemble makes predictions very much like bagging\n",
        "or pasting, except that predictors have different weights depending on their\n",
        "overall accuracy on the weighted training set.\n",
        "\n",
        "## Comparison with gradient descent:\n",
        "This sequential learning technique has some similarities with Gradient Descent, except that instead of tweaking a single predictor’s parameters to minimize a cost function, AdaBoost adds predictors to the ensemble, gradually making it better."
      ]
    },
    {
      "cell_type": "markdown",
      "metadata": {
        "id": "c3Ejit1Qusq3",
        "colab_type": "text"
      },
      "source": [
        "## Drawback of this sequential technique\n",
        "It cannot be parallelized (or only partially), since each predictor\n",
        "can only be trained after the previous predictor has been\n",
        "trained and evaluated. As a result, it does not scale as well as bagging\n",
        "or pasting."
      ]
    },
    {
      "cell_type": "markdown",
      "metadata": {
        "id": "SwsRwvVVusuM",
        "colab_type": "text"
      },
      "source": [
        "## Ada Boost algorithm details\n",
        "\n",
        "i -> ith instance.\n",
        "j -> jth predictor.\n",
        "{} -> subscript\n",
        "\n",
        "w^(i) - > Weight of ith instance(initialised to 1/m for each instance).\n",
        "These w^(i) ar what needs to be updated in each predictor.\n",
        "\n",
        "r{j} denoted as r{j} is the weighted error rate of all the instances on jth predictor.\n",
        "\n",
        "r{j} = (from i=1 to m if ÿ{j}^(i) != y^(i)) Σw^(i)) / ((from i=1 to m)Σw^(i))\n",
        "\n",
        "Predictor weight, à{j} = ń log((1-r{j})/r{j})\n",
        "here, ń = learning rate parameter(default = 1).\n",
        "\n",
        "Next, the instance weights are updated:\n",
        "w^(i) = w^(i) if ÿ{j}^(i) = y^(i)\n",
        "w^(i) = w^(i)*exp(à{j})) if ÿ{j}^(i) != y^(i)\n",
        "\n",
        "Then all the instance weights are normalized (i.e., divided by (from i = 1to m)Σw^(i)).\n",
        "\n",
        "Finally, a new predictor is trained using the updated weights, and the whole process is repeated (the new predictor’s weight is computed, the instance weights are updated,then another predictor is trained, and so on). The algorithm stops when the desired number of predictors is reached, or when a perfect predictor is found.\n",
        "\n",
        "To make predictions, AdaBoost simply computes the predictions of all the predictors and weighs them using the predictor weights α{j}. The predicted class is the one that receives the majority of weighted votes."
      ]
    },
    {
      "cell_type": "markdown",
      "metadata": {
        "id": "GcayqRDKusxf",
        "colab_type": "text"
      },
      "source": [
        "## SAMME16 (Stagewise Additive Modeling using a Multiclass Exponential loss function)\n",
        "\n",
        "Scikit-Learn actually uses a multiclass version of AdaBoost called SAMME16 (which stands for Stagewise Additive Modeling using a Multiclass Exponential loss function). When there are just two classes, SAMME is equivalent to AdaBoost. Moreover, if the predictors can estimate class probabilities (i.e., if they have a predict_proba() method), Scikit-Learn can use a variant of SAMME called SAMME.R (the R stands for “Real”), which relies on class probabilities rather than predictions and generally performs better.\n",
        "\n"
      ]
    },
    {
      "cell_type": "markdown",
      "metadata": {
        "id": "3jPMevzSZRk8",
        "colab_type": "text"
      },
      "source": [
        "## Example in sklearn:\n",
        "The following code trains an AdaBoost classifier based on 200 Decision Stumps using Scikit-Learn’s AdaBoostClassifier class (as you might expect, there is also an Ada BoostRegressor class). A Decision Stump is a Decision Tree with max_depth=1—in other words, a tree composed of a single decision node plus two leaf nodes. This is the default base estimator for the AdaBoostClassifier class."
      ]
    },
    {
      "cell_type": "code",
      "metadata": {
        "id": "Z0wZQwLsZajU",
        "colab_type": "code",
        "colab": {
          "base_uri": "https://localhost:8080/",
          "height": 34
        },
        "outputId": "09dfa44a-60f4-4764-8cf7-0e05065659a9"
      },
      "source": [
        "from sklearn.datasets import make_moons\n",
        "from sklearn.model_selection import train_test_split\n",
        "from sklearn.metrics import accuracy_score\n",
        "from sklearn.ensemble import AdaBoostClassifier\n",
        "from sklearn.tree import DecisionTreeClassifier\n",
        "\n",
        "X, y = make_moons(n_samples=10_000, noise=0.4, random_state=42)\n",
        "X_train, X_test, y_train, y_test = train_test_split(X,y, test_size=0.2, random_state=42)\n",
        "\n",
        "ada_clf = AdaBoostClassifier(\n",
        "    base_estimator=DecisionTreeClassifier(max_depth=1), n_estimators=200,\n",
        "    learning_rate=0.5, algorithm=\"SAMME.R\", random_state=42\n",
        ")\n",
        "ada_clf.fit(X_train, y_train)\n",
        "y_pred = ada_clf.predict(X_test)\n",
        "accuracy_score(y_true=y_test, y_pred=y_pred)"
      ],
      "execution_count": 4,
      "outputs": [
        {
          "output_type": "execute_result",
          "data": {
            "text/plain": [
              "0.861"
            ]
          },
          "metadata": {
            "tags": []
          },
          "execution_count": 4
        }
      ]
    },
    {
      "cell_type": "markdown",
      "metadata": {
        "id": "6T_ZdIZAbGYO",
        "colab_type": "text"
      },
      "source": [
        "## Hyperpamater tuning\n",
        "If your AdaBoost ensemble is overfitting the training set, you can\n",
        "try reducing the number of estimators or more strongly regularizing\n",
        "the base estimator."
      ]
    },
    {
      "cell_type": "markdown",
      "metadata": {
        "id": "BXCeAOeEbK3f",
        "colab_type": "text"
      },
      "source": [
        "# Gradient boosting(Gradient Tree Boosting, or Gradient Boosted Regression Trees (GBRT))\n",
        "\n",
        "Just like AdaBoost, Gradient Boosting works by sequentially adding predictors to an ensemble, each one correcting its predecessor.\n",
        "\n",
        "But, Instead of tweaking the instance weights at every iteration like AdaBoost does, this method tries to fit the new predictor to the residual errors made by the previous predictor.\n",
        "\n"
      ]
    },
    {
      "cell_type": "markdown",
      "metadata": {
        "id": "zRqhS72-bLVI",
        "colab_type": "text"
      },
      "source": [
        "## Basic implementation of GBRT using decision trees."
      ]
    },
    {
      "cell_type": "code",
      "metadata": {
        "id": "lC45hr1tcGAk",
        "colab_type": "code",
        "colab": {}
      },
      "source": [
        "# data prep for quadratic dataset for regression\n",
        "import numpy as np\n",
        "m=100\n",
        "X=6*np.random.rand(m,1)-3\n",
        "y=0.5*(X**2) + (X) + (2 + np.random.randn(m, 1))\n"
      ],
      "execution_count": 14,
      "outputs": []
    },
    {
      "cell_type": "code",
      "metadata": {
        "id": "1HS5PX7deBUG",
        "colab_type": "code",
        "colab": {
          "base_uri": "https://localhost:8080/",
          "height": 265
        },
        "outputId": "31c26d9f-3375-4593-8715-6a3a6f4b947f"
      },
      "source": [
        "# First, let’s fit a DecisionTreeRegressor to the training set:\n",
        "from sklearn.tree import DecisionTreeRegressor\n",
        "tree_reg1 = DecisionTreeRegressor(max_depth=2)\n",
        "tree_reg1.fit(X, y)\n",
        "\n",
        "# Now train a second DecisionTreeRegressor on the residual errors made by the first predictor:\n",
        "y2 = y - tree_reg1.predict(X)\n",
        "tree_reg2 = DecisionTreeRegressor(max_depth=2)\n",
        "tree_reg2.fit(X, y2)\n",
        "\n",
        "# Then we train a third regressor on the residual errors made by the second predictor:\n",
        "y3 = y2 - tree_reg2.predict(X)\n",
        "tree_reg3 = DecisionTreeRegressor(max_depth=2)\n",
        "tree_reg3.fit(X, y3)\n",
        "\n",
        "# Now we have an ensemble containing three trees. It can make predictions on a new\n",
        "# instance simply by adding up the predictions of all the trees:\n",
        "y_pred = sum(tree.predict(X) for tree in (tree_reg1, tree_reg2, tree_reg3))\n",
        "\n",
        "# plot values\n",
        "import matplotlib.pyplot as plt\n",
        "plt.plot(X, y, 'bo')\n",
        "plt.plot(X, y_pred, 'ro')\n",
        "plt.show()"
      ],
      "execution_count": 15,
      "outputs": [
        {
          "output_type": "display_data",
          "data": {
            "image/png": "[encoded data removed]",
            "text/plain": [
              "<Figure size 432x288 with 1 Axes>"
            ]
          },
          "metadata": {
            "tags": [],
            "needs_background": "light"
          }
        }
      ]
    },
    {
      "cell_type": "markdown",
      "metadata": {
        "id": "hhyG0etubLJ4",
        "colab_type": "text"
      },
      "source": [
        "## Direct use of GBRT using sklearn's GradientBoostingRegressor"
      ]
    },
    {
      "cell_type": "code",
      "metadata": {
        "id": "Ds9kb6UUgI44",
        "colab_type": "code",
        "colab": {
          "base_uri": "https://localhost:8080/",
          "height": 319
        },
        "outputId": "8201cb4a-ba2b-439a-9b1b-f2dec2a11ed7"
      },
      "source": [
        "from sklearn.ensemble import GradientBoostingRegressor\n",
        "gbrt = GradientBoostingRegressor(max_depth=2, n_estimators=3, learning_rate=1.0)\n",
        "gbrt.fit(X, y)\n",
        "y_pred = gbrt.predict(X)\n",
        "\n",
        "# plot values\n",
        "import matplotlib.pyplot as plt\n",
        "plt.plot(X, y, 'bo')\n",
        "plt.plot(X, y_pred, 'ro')\n",
        "plt.show()"
      ],
      "execution_count": 16,
      "outputs": [
        {
          "output_type": "stream",
          "text": [
            "/usr/local/lib/python3.6/dist-packages/sklearn/ensemble/_gb.py:1454: DataConversionWarning: A column-vector y was passed when a 1d array was expected. Please change the shape of y to (n_samples, ), for example using ravel().\n",
            "  y = column_or_1d(y, warn=True)\n"
          ],
          "name": "stderr"
        },
        {
          "output_type": "display_data",
          "data": {
            "image/png": "[encoded data removed]",
            "text/plain": [
              "<Figure size 432x288 with 1 Axes>"
            ]
          },
          "metadata": {
            "tags": [],
            "needs_background": "light"
          }
        }
      ]
    },
    {
      "cell_type": "markdown",
      "metadata": {
        "id": "Mr35Ix3abKr8",
        "colab_type": "text"
      },
      "source": [
        "## Hyperparameters:\n",
        "Like the RandomForestRegressor class, it has hyperparameters to control the growth of Decision Trees (e.g., max_depth, min_samples_leaf, and so on), as well as hyperparameters to control the ensemble training, such as the number of\n",
        "trees (n_estimators).\n",
        "\n",
        "The learning_rate hyperparameter scales the contribution of each tree. If you set it to a low value, such as 0.1, you will need more trees in the ensemble to fit the training set, but the predictions will usually generalize better. This is a regularization technique called shrinkage."
      ]
    },
    {
      "cell_type": "code",
      "metadata": {
        "id": "P7FY8GPD5UMO",
        "colab_type": "code",
        "colab": {
          "base_uri": "https://localhost:8080/",
          "height": 319
        },
        "outputId": "e6a4ec59-ae07-42a8-a150-402bdf492b2a"
      },
      "source": [
        "# exanple with low learning rate(0.1)(will require more decision trees(n_estimators) but will fit better)\n",
        "\n",
        "gbrt = GradientBoostingRegressor(max_depth=2, n_estimators=30, learning_rate=0.1)\n",
        "gbrt.fit(X, y)\n",
        "y_pred = gbrt.predict(X)\n",
        "\n",
        "# plot values\n",
        "import matplotlib.pyplot as plt\n",
        "plt.plot(X, y, 'bo')\n",
        "plt.plot(X, y_pred, 'ro')\n",
        "plt.show()"
      ],
      "execution_count": 22,
      "outputs": [
        {
          "output_type": "stream",
          "text": [
            "/usr/local/lib/python3.6/dist-packages/sklearn/ensemble/_gb.py:1454: DataConversionWarning: A column-vector y was passed when a 1d array was expected. Please change the shape of y to (n_samples, ), for example using ravel().\n",
            "  y = column_or_1d(y, warn=True)\n"
          ],
          "name": "stderr"
        },
        {
          "output_type": "display_data",
          "data": {
            "image/png": "[encoded data removed]",
            "text/plain": [
              "<Figure size 432x288 with 1 Axes>"
            ]
          },
          "metadata": {
            "tags": [],
            "needs_background": "light"
          }
        }
      ]
    },
    {
      "cell_type": "markdown",
      "metadata": {
        "id": "0_sgs3lR59oU",
        "colab_type": "text"
      },
      "source": [
        "\n",
        "In order to find the optimal number of trees, you can use early stopping. A simple way to implement this is to use the staged_predict() method: it\n",
        "returns an iterator over the predictions made by the ensemble at each stage of training(with one tree, two trees, etc.). \n",
        "\n",
        "### Finding optimal number of trees by checking all combinations\n",
        "The following code trains a GBRT ensemble with 120 trees, then measures the validation error at each stage of training to find the optimal number of trees,and finally trains another GBRT ensemble using the optimal number of trees:"
      ]
    },
    {
      "cell_type": "code",
      "metadata": {
        "id": "CSfTlUNt6mio",
        "colab_type": "code",
        "colab": {
          "base_uri": "https://localhost:8080/",
          "height": 353
        },
        "outputId": "d89a43be-9ac9-4c6f-84db-3c01f85f3679"
      },
      "source": [
        "import numpy as np\n",
        "from sklearn.model_selection import train_test_split\n",
        "from sklearn.metrics import mean_squared_error\n",
        "\n",
        "X_train, X_val, y_train, y_val = train_test_split(X, y)\n",
        "gbrt = GradientBoostingRegressor(max_depth=2, n_estimators=120)\n",
        "gbrt.fit(X_train, y_train)\n",
        "\n",
        "errors = [mean_squared_error(y_true=y_val, y_pred=y_pred) for y_pred in gbrt.staged_predict(X_val)]\n",
        "errors\n",
        "\n",
        "# finding n_estimator with min error\n",
        "n_estimators_best = np.argmin(errors)\n",
        "n_estimators_best, errors[n_estimators_best]\n",
        "\n",
        "gbrt_best = GradientBoostingRegressor(max_depth=2, n_estimators=n_estimators_best)\n",
        "gbrt_best.fit(X_train, y_train)\n",
        "\n",
        "y_pred_best = gbrt_best.predict(X)\n",
        "\n",
        "# plot values\n",
        "import matplotlib.pyplot as plt\n",
        "plt.plot(X, y, 'bo')\n",
        "plt.plot(X, y_pred_best, 'ro')\n",
        "plt.show()"
      ],
      "execution_count": 32,
      "outputs": [
        {
          "output_type": "stream",
          "text": [
            "/usr/local/lib/python3.6/dist-packages/sklearn/ensemble/_gb.py:1454: DataConversionWarning: A column-vector y was passed when a 1d array was expected. Please change the shape of y to (n_samples, ), for example using ravel().\n",
            "  y = column_or_1d(y, warn=True)\n",
            "/usr/local/lib/python3.6/dist-packages/sklearn/ensemble/_gb.py:1454: DataConversionWarning: A column-vector y was passed when a 1d array was expected. Please change the shape of y to (n_samples, ), for example using ravel().\n",
            "  y = column_or_1d(y, warn=True)\n"
          ],
          "name": "stderr"
        },
        {
          "output_type": "display_data",
          "data": {
            "image/png": "[encoded data removed]",
            "text/plain": [
              "<Figure size 432x288 with 1 Axes>"
            ]
          },
          "metadata": {
            "tags": [],
            "needs_background": "light"
          }
        }
      ]
    },
    {
      "cell_type": "markdown",
      "metadata": {
        "id": "9F5M_1Zo9NhJ",
        "colab_type": "text"
      },
      "source": [
        "### Finding optimal number of tree by actually stopping when one found\n",
        "You can do so by **setting warm_start=True**, which makes Scikit-\n",
        "Learn keep existing trees when the fit() method is called, allowing incremental\n",
        "training. The following code stops training when the validation error does not\n",
        "improve for five iterations in a row:"
      ]
    },
    {
      "cell_type": "code",
      "metadata": {
        "id": "QTqKSOaX7Yv8",
        "colab_type": "code",
        "colab": {
          "base_uri": "https://localhost:8080/",
          "height": 34
        },
        "outputId": "68e8416a-3e6c-4d7e-e770-7601c43f5c68"
      },
      "source": [
        "gbrt = GradientBoostingRegressor(max_depth=2, warm_start=True)\n",
        "\n",
        "min_val_err = float(\"inf\")\n",
        "error_going_up = 0\n",
        "final_n_estimators = 1\n",
        "y_train=y_train.reshape(-1)\n",
        "y_val=y_val.reshape(-1)\n",
        "\n",
        "for n_estimators in range(1,120):\n",
        "    gbrt.n_estimators = n_estimators\n",
        "    gbrt.fit(X_train, y_train)\n",
        "    y_pred = gbrt.predict(X_val)\n",
        "    val_err = mean_squared_error(y_true=y_val, y_pred=y_pred)\n",
        "    if val_err < min_val_err:\n",
        "        min_val_err = val_err\n",
        "        final_n_estimators = n_estimators\n",
        "        error_going_up = 0\n",
        "    else:\n",
        "        error_going_up += 1\n",
        "        if error_going_up == 5:\n",
        "            break # early stopping\n",
        "\n",
        "print(final_n_estimators, min_val_err, y_val.shape, y_pred.shape)\n",
        "        "
      ],
      "execution_count": 46,
      "outputs": [
        {
          "output_type": "stream",
          "text": [
            "44 1.1348930553862626 (25,) (25,)\n"
          ],
          "name": "stdout"
        }
      ]
    },
    {
      "cell_type": "markdown",
      "metadata": {
        "id": "XJrnFvmWB4V6",
        "colab_type": "text"
      },
      "source": [
        "## Stochastic gradient boosting\n",
        "\n",
        "The GradientBoostingRegressor class also supports a **subsample** hyperparameter, which specifies the fraction of training instances to be used for training each tree. For example, if subsample=0.25, then each tree is trained on 25% of the training instances, selected randomly. This trades a higher bias for a lower variance. It also speeds up training considerably."
      ]
    },
    {
      "cell_type": "markdown",
      "metadata": {
        "id": "N_xZWGpFCLsZ",
        "colab_type": "text"
      },
      "source": [
        "# XGBoost (Extreme Gradient Boosting)\n",
        "\n",
        "An optimized implementation of Gradient Boosting. Implemented by a seperate library XGBoost. Aims at being extremely fast, scalable\n",
        "and portable.\n",
        "\n",
        "This is widely used in kaggle competetions in many winning entries today."
      ]
    },
    {
      "cell_type": "code",
      "metadata": {
        "id": "r1oN-wCQCtYF",
        "colab_type": "code",
        "colab": {
          "base_uri": "https://localhost:8080/",
          "height": 51
        },
        "outputId": "59cdbbc5-d499-45e9-ccbc-ffc7df4287f6"
      },
      "source": [
        "import xgboost\n",
        "\n",
        "xgb_reg = xgboost.XGBRegressor()\n",
        "xgb_reg.fit(X_train, y_train)\n",
        "y_pred = xgb_reg.predict(X_val)\n",
        "mean_squared_error(y_true=y_val, y_pred=y_pred)"
      ],
      "execution_count": 49,
      "outputs": [
        {
          "output_type": "stream",
          "text": [
            "[00:38:47] WARNING: /workspace/src/objective/regression_obj.cu:152: reg:linear is now deprecated in favor of reg:squarederror.\n"
          ],
          "name": "stdout"
        },
        {
          "output_type": "execute_result",
          "data": {
            "text/plain": [
              "1.3947930819181154"
            ]
          },
          "metadata": {
            "tags": []
          },
          "execution_count": 49
        }
      ]
    },
    {
      "cell_type": "code",
      "metadata": {
        "id": "743HNJRYDl9j",
        "colab_type": "code",
        "colab": {
          "base_uri": "https://localhost:8080/",
          "height": 884
        },
        "outputId": "261a745f-29e8-4406-d92c-1b54bf1971e3"
      },
      "source": [
        "# XGBoost also offers several nice features, such as automatically taking care of early stopping:\n",
        "\n",
        "xgb_reg.fit(X_train, y_train, eval_set=[(X_val, y_val)], early_stopping_rounds=2)\n",
        "y_pred = xgb_reg.predict(X_val)\n",
        "mean_squared_error(y_true=y_val, y_pred=y_pred)"
      ],
      "execution_count": 52,
      "outputs": [
        {
          "output_type": "stream",
          "text": [
            "[00:41:58] WARNING: /workspace/src/objective/regression_obj.cu:152: reg:linear is now deprecated in favor of reg:squarederror.\n",
            "[0]\tvalidation_0-rmse:4.11583\n",
            "Will train until validation_0-rmse hasn't improved in 2 rounds.\n",
            "[1]\tvalidation_0-rmse:3.78615\n",
            "[2]\tvalidation_0-rmse:3.48949\n",
            "[3]\tvalidation_0-rmse:3.23666\n",
            "[4]\tvalidation_0-rmse:3.0109\n",
            "[5]\tvalidation_0-rmse:2.80305\n",
            "[6]\tvalidation_0-rmse:2.61227\n",
            "[7]\tvalidation_0-rmse:2.432\n",
            "[8]\tvalidation_0-rmse:2.27781\n",
            "[9]\tvalidation_0-rmse:2.13912\n",
            "[10]\tvalidation_0-rmse:2.01456\n",
            "[11]\tvalidation_0-rmse:1.90529\n",
            "[12]\tvalidation_0-rmse:1.80816\n",
            "[13]\tvalidation_0-rmse:1.72085\n",
            "[14]\tvalidation_0-rmse:1.64324\n",
            "[15]\tvalidation_0-rmse:1.57679\n",
            "[16]\tvalidation_0-rmse:1.5162\n",
            "[17]\tvalidation_0-rmse:1.46239\n",
            "[18]\tvalidation_0-rmse:1.4191\n",
            "[19]\tvalidation_0-rmse:1.37671\n",
            "[20]\tvalidation_0-rmse:1.34147\n",
            "[21]\tvalidation_0-rmse:1.31434\n",
            "[22]\tvalidation_0-rmse:1.28485\n",
            "[23]\tvalidation_0-rmse:1.26124\n",
            "[24]\tvalidation_0-rmse:1.24089\n",
            "[25]\tvalidation_0-rmse:1.22185\n",
            "[26]\tvalidation_0-rmse:1.20989\n",
            "[27]\tvalidation_0-rmse:1.19957\n",
            "[28]\tvalidation_0-rmse:1.18697\n",
            "[29]\tvalidation_0-rmse:1.17571\n",
            "[30]\tvalidation_0-rmse:1.16633\n",
            "[31]\tvalidation_0-rmse:1.15657\n",
            "[32]\tvalidation_0-rmse:1.14813\n",
            "[33]\tvalidation_0-rmse:1.14078\n",
            "[34]\tvalidation_0-rmse:1.13414\n",
            "[35]\tvalidation_0-rmse:1.12954\n",
            "[36]\tvalidation_0-rmse:1.12413\n",
            "[37]\tvalidation_0-rmse:1.11849\n",
            "[38]\tvalidation_0-rmse:1.11377\n",
            "[39]\tvalidation_0-rmse:1.11388\n",
            "[40]\tvalidation_0-rmse:1.1114\n",
            "[41]\tvalidation_0-rmse:1.10966\n",
            "[42]\tvalidation_0-rmse:1.10711\n",
            "[43]\tvalidation_0-rmse:1.10739\n",
            "[44]\tvalidation_0-rmse:1.10796\n",
            "Stopping. Best iteration:\n",
            "[42]\tvalidation_0-rmse:1.10711\n",
            "\n"
          ],
          "name": "stdout"
        },
        {
          "output_type": "execute_result",
          "data": {
            "text/plain": [
              "1.2256916687053028"
            ]
          },
          "metadata": {
            "tags": []
          },
          "execution_count": 52
        }
      ]
    }
  ]
}